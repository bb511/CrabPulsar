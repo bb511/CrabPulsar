{
  "cells": [
    {
      "cell_type": "markdown",
      "source": [
        "# Visualising the pulsar data\n",
        "\n",
        "This notebook visualises the frequency, $v$, vs phase data, $\\phi$, recorded from the 42 ft telescope at JBO. \n",
        "\n",
        "The dispersion in the data is used to calculate the dispersion mesaure $DM$.\n",
        "\nFinally, an optimization program is run to obtain the de-dispersed data."
      ],
      "metadata": {}
    },
    {
      "cell_type": "code",
      "source": [
        "# Imports and preamble\n",
        "from __future__ import (print_function, absolute_import, division)\n",
        "import os\n",
        "import scipy.optimize as opt\n",
        "\n",
        "import numpy as np\n",
        "import scipy\n",
        "\n",
        "from astropy import coordinates as coord\n",
        "from astropy import units as u\n",
        "from astropy import constants as const\n",
        "from astropy import time as astrotime\n",
        "\n",
        "from  matplotlib import pyplot as plt\n",
        "import matplotlib\n",
        "\n",
        "from math import pi\n",
        "\n",
        "%matplotlib inline\n",
        "font = {'family' : 'Arial',\n",
        "        'weight' : 'normal',\n",
        "        'size'   : 20}\n",
        "matplotlib.rc('font', **font)\n",
        "\npulsar_name = 'B0329+54_w1'"
      ],
      "outputs": [],
      "execution_count": null,
      "metadata": {
        "inputHidden": false
      }
    },
    {
      "cell_type": "markdown",
      "source": [
        "## 1. Data Functions"
      ],
      "metadata": {}
    },
    {
      "cell_type": "markdown",
      "source": [
        "### 1.1 Reading Data"
      ],
      "metadata": {}
    },
    {
      "cell_type": "code",
      "source": [
        "# Get the data directory path\n",
        "current_dir = os.getcwd()\n",
        "root_dir = os.path.abspath(os.path.join(current_dir, os.pardir))\n",
        "data_dir = os.path.join(root_dir, \"Data\")\n",
        "pulsar_meas = os.path.join(data_dir, \"PulsarMeasurements\")\n",
        "results_figs = os.path.join(root_dir, \"ResultPictures1\")\n",
        "\n",
        "def read_data(file_name):\n",
        "    \"\"\"\n",
        "    Reads the data from ascii files.\n",
        "    \n",
        "    @param file_name :: name of the file\n",
        "    \n",
        "    @returns :: three arrays with the channel counts,\n",
        "                phase_counts and data.\n",
        "    \"\"\"\n",
        "    \n",
        "    file_name = file_name + '.asc'\n",
        "    data_file = os.path.join(pulsar_meas, file_name)\n",
        "    \n",
        "    chan_count, phase_count, data = \\\n",
        "    np.loadtxt(data_file, usecols=(1,2,3), unpack=True, skiprows=1)\n",
        "    \n",
        "    return chan_count, phase_count, data"
      ],
      "outputs": [],
      "execution_count": null,
      "metadata": {}
    },
    {
      "cell_type": "markdown",
      "source": [
        "### 1.2 Organising Data"
      ],
      "metadata": {}
    },
    {
      "cell_type": "code",
      "source": [
        "def get_numbers(chan_count, phase_count):\n",
        "    \"\"\"\n",
        "    Gets the number of channels and the\n",
        "    number of phase bins of the data.\n",
        "    \n",
        "    @param chan_count :: channel counts as read from \n",
        "                         the data file\n",
        "    @param phase_count :: same for phase\n",
        "    \n",
        "    @returns :: number of channels and number of phases\n",
        "    \"\"\"\n",
        "    \n",
        "    nchan=int(chan_count[-1])+1\n",
        "    nphase=int(phase_count[-1])+1\n",
        "    \n",
        "    return nchan, nphase\n",
        "\n\n",
        "def reshape_data(nchan, nphase, data):\n",
        "    \"\"\"\n",
        "    Reshapes the data into 2d structure so it is usable.\n",
        "    \n",
        "    @param nchan :: number of frequency channels\n",
        "    @param nphase :: number of phase bins\n",
        "    @param data :: intensity data\n",
        "    \n",
        "    @returns :: 2d data structure, array of channels and\n",
        "                array of phases\n",
        "    \"\"\"\n",
        "    \n",
        "    raw = data.reshape(nchan,nphase)\n",
        "    iphase = phase_count.reshape(nchan,nphase)[0] \n",
        "    ichan = chan_count.reshape(nchan,nphase)[:,0]\n",
        "    \n",
        "    return raw, ichan, iphase\n",
        "\n\n",
        "def freq_integral(raw):\n",
        "    \"\"\"\n",
        "    Takes the data and integrates it over all\n",
        "    frequency channels.\n",
        "    \n",
        "    @param raw :: 2d data structure\n",
        "    \n",
        "    @returns :: data integrated along frequency\n",
        "    \"\"\"\n",
        "    \n",
        "    integrated = np.sum(raw, axis=0)\n",
        "    \n",
        "    return integrated\n",
        "\n\n",
        "def convert_axis(ichan, iphase):\n",
        "    \"\"\"\n",
        "    Convert the channels of frequency and the phase\n",
        "    array into physical things.\n",
        "    \n",
        "    @param ichan :: array of channels of data\n",
        "    @param iphase :: array of phases of data\n",
        "    \n",
        "    @returns :: array of frequencies and array of times\n",
        "    \"\"\"\n",
        "    \n",
        "    freq = 605.125 + ichan * (10/nchan)\n",
        "    time = iphase*(0.71452/nphase)\n",
        "    \n",
        "    return freq, time"
      ],
      "outputs": [],
      "execution_count": null,
      "metadata": {
        "collapsed": false,
        "outputHidden": false,
        "inputHidden": false
      }
    },
    {
      "cell_type": "markdown",
      "source": [
        "### 1.3 Plotting the data"
      ],
      "metadata": {}
    },
    {
      "cell_type": "code",
      "source": [
        "def density_plot(data, freq, time):\n",
        "    \"\"\"\n",
        "    Function that makes a density plot of some data.\n",
        "    \n",
        "    @param data :: data of the density plot\n",
        "    @param freq :: frequencies (y-axis)\n",
        "    @param time :: times (x-axis)\n",
        "    \n",
        "    @returns :: density plot\n",
        "    \"\"\"\n",
        "    \n",
        "    dens_plot = plt.figure(figsize=(12,7))\n",
        "    plt.imshow(data, aspect='auto', origin='lower', \n",
        "               extent=(time[0],time[-1],freq[0],freq[-1]))\n",
        "    plt.title(pulsar_name)\n",
        "    plt.xlabel(\"Time (s)\",)\n",
        "    plt.ylabel(\"Frequency (MHz)\")\n",
        "    plt.savefig(results_figs + os.sep + \"DensityPlots\" + os.sep +\n",
        "                pulsar_name + \".png\")\n",
        "\n\n",
        "def intensity_plot(integrated, time):\n",
        "    \"\"\"\n",
        "    Function that makes an intensity plot of some data.\n",
        "    \n",
        "    @param integrated :: y-data of the intensity plot\n",
        "    @param time :: x-data of the intensity plot\n",
        "  \n",
        "    @returns :: intensity plot\n",
        "    \"\"\"\n",
        "    \n",
        "    intens_plot = plt.figure(figsize=(12,7))\n",
        "    plt.plot(time, integrated)\n",
        "    plt.xlabel(\"Phase (iphase)\")\n",
        "    plt.ylabel(\"Intensity (Arbitrary)\")\n",
        "    plt.title(pulsar_name)\n",
        "    plt.savefig(results_figs + os.sep + \"IntegratedProfiles\" + os.sep +\n",
        "                pulsar_name + \".png\")"
      ],
      "outputs": [],
      "execution_count": null,
      "metadata": {
        "outputExpanded": true
      }
    },
    {
      "cell_type": "markdown",
      "source": [
        "### 2. Dispersion Measure Functions"
      ],
      "metadata": {}
    },
    {
      "cell_type": "markdown",
      "source": [
        "### 2.1 Shifting"
      ],
      "metadata": {}
    },
    {
      "cell_type": "code",
      "source": [
        "def shift_rows(data_in, nchan, shifts):\n",
        "    \"\"\"\n",
        "    Shifts the rows of the data by amount in variable \"shifts\".\n",
        "    \n",
        "    @param data_in :: data to be shifted\n",
        "    @param shifts :: amount to be shifted by\n",
        "    \n",
        "    @returns :: sifted data\n",
        "    \"\"\"\n",
        "    \n",
        "    shifted=np.zeros_like(data_in)\n",
        "    for chan in range(nchan):\n",
        "        shifted[chan] += np.roll(data_in[chan], -int(shifts[chan]))\n",
        "    return shifted\n",
        "\n",
        "def shifting(x, constants):\n",
        "    \"\"\"\n",
        "    Shifts the data by an array times the variable m.\n",
        "    Tries to dedisperse the data this way.\n",
        "    \n",
        "    @param constants :: array of constants i.e. raw_data,\n",
        "                        freq, nphase\n",
        "    \n",
        "    @returns :: negative of the maximum of the integrated frequency\n",
        "    \"\"\"\n",
        "    \n",
        "    bindelay = (x[0] * 4148.8 * constants[2])/(0.71452 * pow(constants[1], 2))\n",
        "    dedispersed = shift_rows(constants[0], nchan, bindelay)\n",
        "    integrated = np.sum(dedispersed, axis=0)\n",
        "    \n",
        "    return -np.amax(integrated)\n",
        "\n\n",
        "def shifting_results(x, constants):\n",
        "    \"\"\"\n",
        "    Does the same thing as function shifting.\n",
        "    \n",
        "    @returns :: the bindelay, dedispersed and integrated\n",
        "                numpy arrays\n",
        "    \"\"\"\n",
        "    \n",
        "    bindelay = (x[0] * 4148.8 * constants[2])/(0.71452 * pow(constants[1], 2))\n",
        "    dedispersed = shift_rows(constants[0], nchan, bindelay)\n",
        "    integrated = np.sum(dedispersed, axis=0)\n",
        "    \n",
        "    return bindelay, dedispersed, integrated"
      ],
      "outputs": [],
      "execution_count": null,
      "metadata": {}
    },
    {
      "cell_type": "markdown",
      "source": [
        "### 2.2 Dispersion Measure Through Optimization"
      ],
      "metadata": {}
    },
    {
      "cell_type": "code",
      "source": [
        "def find_dispersion(shifting, initial_guess, constants):\n",
        "    \"\"\"\n",
        "    Finds the dispersion measure using minimization.\n",
        "    \n",
        "    @param initial_guess :: gets the initial guess of the data\n",
        "    @param shifting :: the shifting function\n",
        "    @param constants :: array of constants\n",
        "    \n",
        "    @returns :: the bindelay, dedispersed and integrated arrays\n",
        "    \"\"\"\n",
        "    \n",
        "    res = opt.minimize(shifting, [initial_guess], constants, method=\"Nelder-Mead\")\n",
        "    \n",
        "    return res.x[0], res.fun"
      ],
      "outputs": [],
      "execution_count": null,
      "metadata": {
        "collapsed": false,
        "outputHidden": false,
        "inputHidden": false
      }
    },
    {
      "cell_type": "markdown",
      "source": [
        "## 3. Kowalski, Analysis."
      ],
      "metadata": {}
    },
    {
      "cell_type": "code",
      "source": [
        "# Get the needed data\n",
        "chan_count, phase_count, data = read_data(pulsar_name)\n",
        "nchan, nphase = get_numbers(chan_count, phase_count)\n",
        "raw, ichan, iphase = reshape_data(nchan, nphase, data)\n",
        "integrated = freq_integral(raw)\n",
        "freq, time = convert_axis(ichan, iphase)"
      ],
      "outputs": [],
      "execution_count": null,
      "metadata": {
        "outputExpanded": true
      }
    },
    {
      "cell_type": "code",
      "source": [
        "density_plot(raw, freq, time)\n",
        "intensity_plot(integrated, time)"
      ],
      "outputs": [],
      "execution_count": null,
      "metadata": {
        "collapsed": false,
        "outputHidden": false,
        "inputHidden": false,
        "outputExpanded": true
      }
    },
    {
      "cell_type": "markdown",
      "source": [
        "### 3.1 Generate Data for Soumya\n",
        "\nFitting the below curve and roughly apporximating the DM."
      ],
      "metadata": {}
    },
    {
      "cell_type": "code",
      "source": [
        "dms = np.linspace(1,100,1000)\n",
        "intensity_peaks = []\n",
        "for i, guess in enumerate(dms):\n",
        "    intensity_peaks.append(-shifting([guess], [raw, freq, nphase, nchan]))\n",
        "\n",
        "data = np.array([dms, intensity_peaks])\n",
        "data = np.transpose(data)\n",
        "\n",
        "np.savetxt(data_dir + os.sep + 'SoumyaData' + os.sep + \\\n",
        "           pulsar_name + '.txt', data, fmt=\"%.7f\")\n",
        "\n",
        "plt.figure(figsize=(12,7))\n",
        "plt.plot(data[:,0], data[:,1])\n",
        "plt.savefig(results_figs + os.sep + \"DMCurves\" + os.sep +\n",
        "            pulsar_name + \".png\")\n",
        "plt.show()"
      ],
      "outputs": [],
      "execution_count": null,
      "metadata": {
        "collapsed": false,
        "outputHidden": false,
        "inputHidden": false
      }
    },
    {
      "cell_type": "markdown",
      "source": [
        "### 3.2 Histogram Method\n",
        "\nThis uses optimization to find dm. Needs fine tuning from the user."
      ],
      "metadata": {}
    },
    {
      "cell_type": "code",
      "source": [
        "# Plot 2D histogram to see where the DM\n",
        "# value would be\n",
        "n = 1000\n",
        "tries = np.linspace(20,40,n)\n",
        "data = []\n",
        "for i, init_guess in enumerate(tries):\n",
        "    disp_measure, function_val = \\\n",
        "    find_dispersion(shifting, init_guess, [raw, freq, nphase, nchan])\n",
        "    data.append([init_guess, disp_measure, -function_val])\n",
        "\n",
        "# Export the data for generating gifs in mathematica\n",
        "data = np.asarray(data)\n",
        "np.savetxt(data_dir + os.sep + 'Histograms' + os.sep + pulsar_name + '.txt', data)"
      ],
      "outputs": [],
      "execution_count": null,
      "metadata": {
        "collapsed": false,
        "outputHidden": false,
        "inputHidden": false,
        "outputExpanded": true
      }
    },
    {
      "cell_type": "code",
      "source": [
        "# Plot the thing\n",
        "plt.figure(figsize=(12,7))\n",
        "plt.hist2d(data[:,1], data[:,2], 20, range = [[20,40], [1.40, 1.50]], cmap = 'jet')\n",
        "plt.colorbar()\n",
        "plt.show()"
      ],
      "outputs": [],
      "execution_count": null,
      "metadata": {
        "collapsed": false,
        "outputHidden": false,
        "inputHidden": false
      }
    },
    {
      "cell_type": "markdown",
      "source": [
        "#### 3.2.2 Time Delay vs Frequency"
      ],
      "metadata": {}
    },
    {
      "cell_type": "code",
      "source": [
        "# Save the data to text file for processing in mathematica\n",
        "freq_delay_dir = os.path.join(data_dir, \"FreqDelay\")\n",
        "np.savetxt(freq_delay_dir + os.sep + pulsar_name + \"_raw\" + \".txt\", raw)\n",
        "np.savetxt(freq_delay_dir + os.sep + pulsar_name + \"_time\" + \".txt\", time)\n",
        "np.savetxt(freq_delay_dir + os.sep + pulsar_name + \"_freq\" + \".txt\", freq)"
      ],
      "outputs": [],
      "execution_count": null,
      "metadata": {
        "collapsed": false,
        "outputHidden": false,
        "inputHidden": false
      }
    },
    {
      "cell_type": "markdown",
      "source": [
        "### 3.3 Monte Carlo Method"
      ],
      "metadata": {}
    },
    {
      "cell_type": "code",
      "source": [],
      "outputs": [],
      "execution_count": null,
      "metadata": {
        "collapsed": false,
        "outputHidden": false,
        "inputHidden": false
      }
    },
    {
      "cell_type": "markdown",
      "source": [
        "## 4. Noise Estimation"
      ],
      "metadata": {}
    },
    {
      "cell_type": "code",
      "source": [
        "# Plots the noise in the date\n",
        "plt.figure(figsize=(10,5))\n",
        "plt.plot(time,integrated, zorder=1)\n",
        "plt.hlines(y=0,xmin=0, xmax=0.71452, colors='r', linestyles='solid', zorder=2)\n",
        "\n",
        "plt.xlabel(\"Period (seconds)\")\n",
        "plt.ylabel(\"Intensity (Arbitrary)\")\n",
        "plt.title(\"Noise in the Integrated profile\")\n",
        "axes = plt.gca()\n",
        "# If noise is larger, limits need to be changes to estimate upperbound\n",
        "axes.set_ylim([-0.1,0.1])\n",
        "plt.show()\n",
        "\n",
        "# calculates the noise in the integrated array + estimates the uncertainty\n",
        "Noise = integrated[np.where(integrated < 0.05)]\n",
        "ErrNoise = np.std(Noise)\n",
        "print(\"Statistical Uncertainty due to Noise = {}\".format(ErrNoise))"
      ],
      "outputs": [],
      "execution_count": null,
      "metadata": {
        "collapsed": false,
        "outputHidden": false,
        "inputHidden": false
      }
    }
  ],
  "metadata": {
    "kernelspec": {
      "name": "python2",
      "language": "python",
      "display_name": "Python 2"
    },
    "language_info": {
      "mimetype": "text/x-python",
      "nbconvert_exporter": "python",
      "name": "python",
      "pygments_lexer": "ipython2",
      "version": "2.7.15rc1",
      "file_extension": ".py",
      "codemirror_mode": {
        "version": 2,
        "name": "ipython"
      }
    },
    "kernel_info": {
      "name": "python2"
    },
    "nteract": {
      "version": "0.12.3"
    }
  },
  "nbformat": 4,
  "nbformat_minor": 1
}
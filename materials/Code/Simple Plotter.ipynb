{
 "cells": [
  {
   "cell_type": "markdown",
   "metadata": {},
   "source": [
    "# A simple plotting example\n",
    "\n",
    "You can use this notebook to plot your scans. **You can also use any other plotting software of your choice!**\n",
    "## Using the notebook\n",
    "\n",
    "You can write python code in the cells. Execute the code with Ctrl-Enter. The results are displayed below the cell.\n",
    "\n",
    "Cells can also contain annotations like this one. A cell can be toggled between code and \"[markdown](https://github.com/adam-p/markdown-here/wiki/Markdown-Cheatsheet)\" in the drop-down menu above. The annotation cells can be written in plain text, but also support markdown formatting, a cheat-sheet for which can be found at the above link. Double-click to edit the text, and Ctrl-Enter return to the formated version. Try it on this comment."
   ]
  },
  {
   "cell_type": "markdown",
   "metadata": {},
   "source": [
    "## Load the required libraries\n",
    "We don't need all these just for plotting, but some e.g. astropy might be very useful for other tasks."
   ]
  },
  {
   "cell_type": "code",
   "execution_count": null,
   "metadata": {},
   "outputs": [],
   "source": [
    "# To begin, we import some libraries that we will need later.\n",
    "\n",
    "# The numpy library will allow us to do FFTs\n",
    "import numpy as np\n",
    "import scipy\n",
    "\n",
    "from astropy import coordinates as coord\n",
    "from astropy import units as u\n",
    "from astropy import constants as const\n",
    "from astropy import time as astrotime\n",
    "\n",
    "# The pyplot module from matplotlib will allow us to plot things.\n",
    "from  matplotlib import pyplot as plt\n",
    "import matplotlib\n",
    "\n",
    "# pi is a useful value!\n",
    "from math import pi\n",
    "\n",
    "# This will tell matplotlib that we want to include the plots on our notebook, rather than in a new window.\n",
    "%matplotlib inline\n",
    "\n",
    "# Here you can control the font for the plots.\n",
    "font = {'family' : 'serif',\n",
    "        'weight' : 'normal',\n",
    "        'size'   : 12}\n",
    "matplotlib.rc('font', **font)"
   ]
  },
  {
   "cell_type": "markdown",
   "metadata": {},
   "source": [
    "## Read the file and make a plot\n",
    "Here we use two libaries to do the plotting. \n",
    "\n",
    "Numpy provides routines for doing lots of math stuff. For example, here we use the numpy.loadtxt routine to read a text file and convert the characters to numbers with just a single line of code. Up above we imported the numpy library with a short name `np` \n",
    "\n",
    "You might want to read the manual page to understand the options:\n",
    "\n",
    "[https://matplotlib.org/api/_as_gen/matplotlib.pyplot.plot.html]\n",
    "\n",
    "We make the plot using the pyplot interface to matplotlib. We earlier imported this under the short name `plt`. Again, read the manual pages for more understanding of what it does.\n",
    "\n",
    "[https://docs.scipy.org/doc/numpy-1.13.0/reference/generated/numpy.loadtxt.html]\n",
    "\n",
    "Numpy (and the related scipy) have very powerful tools for doing all kinds of operations, including fitting functions to data. If you are interested, search around the web and in the numpy manual, and do talk to your demonstrator."
   ]
  },
  {
   "cell_type": "code",
   "execution_count": null,
   "metadata": {},
   "outputs": [],
   "source": [
    "# Use the numpy loadtxt routine to read data.\n",
    "x,y = np.loadtxt(\"/home/undergrd/example.dat\",usecols=(0,1), unpack=True)\n",
    "\n",
    "plt.plot(x,y,marker='o',linestyle=':',color='red')\n",
    "plt.xlabel(\"Tuned Parameter (units)\")\n",
    "plt.ylabel(\"Measured quantity (units)\")\n",
    "plt.show()\n",
    "\n",
    "# we can make multiple plots by just calling the code again. We can also change the x and y axis to zoom in\n",
    "\n",
    "plt.figure(figsize=(10,10)) # use this first if you want to make the figure larger!\n",
    "plt.plot(x,y,marker='o',linestyle=':',color='red')\n",
    "plt.xlabel(\"Tuned Parameter (units)\")\n",
    "plt.ylabel(\"Measured quantity (units)\")\n",
    "plt.xlim(61,81)\n",
    "plt.ylim(2000,5000)\n",
    "plt.show()"
   ]
  }
 ],
 "metadata": {
  "kernelspec": {
   "display_name": "Python 2",
   "language": "python",
   "name": "python2"
  },
  "language_info": {
   "codemirror_mode": {
    "name": "ipython",
    "version": 2
   },
   "file_extension": ".py",
   "mimetype": "text/x-python",
   "name": "python",
   "nbconvert_exporter": "python",
   "pygments_lexer": "ipython2",
   "version": "2.7.14"
  }
 },
 "nbformat": 4,
 "nbformat_minor": 1
}

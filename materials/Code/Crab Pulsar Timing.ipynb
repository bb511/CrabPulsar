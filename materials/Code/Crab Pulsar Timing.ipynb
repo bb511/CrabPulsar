{
 "cells": [
  {
   "cell_type": "markdown",
   "metadata": {},
   "source": [
    "# Pulse arrival times from the Crab pulsar\n",
    "## Crab Pulsar Experiment Part 3.2\n",
    "\n",
    "Use this notebook as a template for Part 3.2 of the Crab pulsar experiment."
   ]
  },
  {
   "cell_type": "code",
   "execution_count": 1,
   "metadata": {},
   "outputs": [],
   "source": [
    "# To begin, we import some libraries that we will need later.\n",
    "\n",
    "# Some handy standard python libraries\n",
    "import os\n",
    "\n",
    "# The numpy library is very useful for many things\n",
    "import numpy as np\n",
    "\n",
    "# The interpolate library from scipy includes powerful interpolation routines\n",
    "# including the Lagrange interpolation described in the lab script.\n",
    "from scipy import interpolate\n",
    "\n",
    "from astropy import coordinates as coord\n",
    "from astropy import units as u\n",
    "from astropy import constants as const\n",
    "from astropy import time as astrotime\n",
    "\n",
    "# The pyplot module from matplotlib will allow us to plot things.\n",
    "from  matplotlib import pyplot as plt\n",
    "import matplotlib\n",
    "\n",
    "# pi is a useful value!\n",
    "from math import pi\n",
    "\n",
    "# This will tell matplotlib that we want to include the plots on our notebook, rather than in a new window.\n",
    "%matplotlib inline\n",
    "\n",
    "# Here you can control the font for the plots.\n",
    "font = {'family' : 'serif',\n",
    "        'weight' : 'normal',\n",
    "        'size'   : 12}\n",
    "matplotlib.rc('font', **font)"
   ]
  },
  {
   "cell_type": "markdown",
   "metadata": {},
   "source": [
    "## Reading the input data\n",
    "### Getting the files ready\n",
    "\n",
    "You will first need to use the ```pat``` programme to generate \"Time of Arrivals\" (ToAs) from your raw data files (see labscript). The ToA file contains many colums, make sure you understand which columns you need to read for the ToA measurement and it's error.\n",
    "\n",
    "The ToAs are recorded as a time value in [Modified Julian Date](http://tycho.usno.navy.mil/mjd.html) (MJD). The error is recorded in microseconds.\n",
    "\n",
    "---\n",
    "You also need to read a file containing a table that contains the vector from the solar-system barycentre to the centre of the Earth (see the labscript how to generate this file). This file has six columns: Firstly the year, month, day number, followed by x, y, z components of the vector in [astronomical units](https://en.wikipedia.org/wiki/Astronomical_unit). This table should be for the year your observations are recorded.\n",
    "\n",
    "---\n",
    "### Reading the files\n",
    "There are several ways to read text files in python. You may find the loadtxt module from numpy useful, or implement your own data reading code.\n",
    "\n"
   ]
  },
  {
   "cell_type": "code",
   "execution_count": 2,
   "metadata": {},
   "outputs": [
    {
     "name": "stdout",
     "output_type": "stream",
     "text": [
      "Files avaliable:"
     ]
    },
    {
     "ename": "OSError",
     "evalue": "[Errno 2] No such file or directory: '/home/undergrd/XXXX'",
     "output_type": "error",
     "traceback": [
      "\u001b[0;31m---------------------------------------------------------------------------\u001b[0m",
      "\u001b[0;31mOSError\u001b[0m                                   Traceback (most recent call last)",
      "\u001b[0;32m<ipython-input-2-2a27fc874788>\u001b[0m in \u001b[0;36m<module>\u001b[0;34m()\u001b[0m\n\u001b[1;32m      3\u001b[0m \u001b[0mdata_directory\u001b[0m\u001b[0;34m=\u001b[0m\u001b[0;34m'/home/undergrd/XXXX'\u001b[0m\u001b[0;34m\u001b[0m\u001b[0m\n\u001b[1;32m      4\u001b[0m \u001b[0;34m\u001b[0m\u001b[0m\n\u001b[0;32m----> 5\u001b[0;31m \u001b[0;32mprint\u001b[0m \u001b[0;34m\"Files avaliable:\"\u001b[0m\u001b[0;34m,\u001b[0m\u001b[0mos\u001b[0m\u001b[0;34m.\u001b[0m\u001b[0mlistdir\u001b[0m\u001b[0;34m(\u001b[0m\u001b[0mdata_directory\u001b[0m\u001b[0;34m)\u001b[0m\u001b[0;34m\u001b[0m\u001b[0m\n\u001b[0m\u001b[1;32m      6\u001b[0m \u001b[0;34m\u001b[0m\u001b[0m\n\u001b[1;32m      7\u001b[0m \u001b[0;31m# Specify the file with ToAs you want to work on.\u001b[0m\u001b[0;34m\u001b[0m\u001b[0;34m\u001b[0m\u001b[0m\n",
      "\u001b[0;31mOSError\u001b[0m: [Errno 2] No such file or directory: '/home/undergrd/XXXX'"
     ]
    }
   ],
   "source": [
    "# You have a folder where the list with ToAs and the barycentre location table are. \n",
    "# Define this path here by replacing the XXXX with what is relevant for you.\n",
    "data_directory='/home/undergrd/XXXX'\n",
    "\n",
    "print \"Files avaliable:\",os.listdir(data_directory)\n",
    "\n",
    "# Specify the file with ToAs you want to work on.\n",
    "toafile  = \"%s/XXXX\"%data_directory\n",
    "baryfile = \"%s/XXXX\"%data_directory\n",
    "\n",
    "\n",
    "# Read the barycentre file... Read the numpy loadtxt page to understand what this does...\n",
    "year, month, day, xpos, ypos, zpos = np.loadtxt(baryfile,unpack=True)\n",
    "\n",
    "# Load in your ToAs in a similar way."
   ]
  },
  {
   "cell_type": "markdown",
   "metadata": {},
   "source": [
    "## Interpolation\n",
    "The Earth-barycentre vector is only given once per day (at 0 UT) in your input file. Therefore you will need to [interpolate](https://en.wikipedia.org/wiki/Interpolation) to get the vector at the time of each of your ToAs.\n",
    "\n",
    "The below is an example code showing interpolation of a simple sinusoid function. Make sure you understand what this code is doing, then replace it with a function to interpolate your x, y and z positions at the times of your ToAs."
   ]
  },
  {
   "cell_type": "code",
   "execution_count": null,
   "metadata": {
    "scrolled": true
   },
   "outputs": [],
   "source": [
    "# Interpolation example, interpolating part of a sine function.\n",
    "\n",
    "# This is the X and Y data points of the sine function\n",
    "x = np.linspace(start=0,stop=2,num=20)\n",
    "y = np.sin(2*pi*x)\n",
    "\n",
    "# We will interpolate using\n",
    "start_point = 6\n",
    "interp_number=3\n",
    "\n",
    "interp_function = interpolate.lagrange(x[start_point:start_point+interp_number],\\\n",
    "                                       y[start_point:start_point+interp_number])\n",
    "x2 = np.linspace(x[start_point],x[start_point+interp_number],100)\n",
    "y2 = interp_function(x2)\n",
    "\n",
    "y3 = np.sin(2*pi*x2)\n",
    "\n",
    "plt.plot(x,y,'o',color='green')\n",
    "plt.plot(x2,y2,'.',color='blue')\n",
    "plt.plot(x2,y3,'-',color='red')\n",
    "plt.ylim(-1.1,1.1)\n",
    "plt.title(\"Interpolation Example\")\n",
    "plt.figure()\n",
    "plt.plot(x2,y2-y3,'.',color='red')\n",
    "plt.title(\"Deviation from true function\")\n",
    "plt.show()\n"
   ]
  },
  {
   "cell_type": "markdown",
   "metadata": {},
   "source": [
    "## Compute the Earth delay\n",
    "\n",
    "This is the delay due to the fact that the observatory is not at the centre of the Earth. For this, you need to know the elevation angle above the horizon (see the lab script for more details).\n",
    "\n",
    "The [Astropy](http://www.astropy.org/) library provides very powerful tools to do things like coordinate transforms. Here we want to convert from equitorial (RA and Dec) coordinate system to an observatory-based [AltAz](http://docs.astropy.org/en/stable/api/astropy.coordinates.AltAz.html) coordinate system. Make sure you are familiar with these two coordinate systems. The conversion from one to the other requries knowing the location of your telecsope and also the time the observations were taken.\n",
    "\n",
    "The following libraries have been imported for your convinience:\n",
    " * ``astropy.coordinate`` has been imported as ``coord``\n",
    " * ``astropy.time`` has been imported as ``astrotime``\n",
    " "
   ]
  },
  {
   "cell_type": "code",
   "execution_count": null,
   "metadata": {},
   "outputs": [],
   "source": [
    "# Insert the position of the crab pulsar here!\n",
    "pulsarpos = coord.SkyCoord(ra=\"01:23:45.6\",dec=\"12:34:56.7\",unit=(u.hourangle,u.deg))\n",
    "\n",
    "#lovellpos = coord.EarthLocation(...)\n",
    "\n",
    "#times = astrotime.Time(...)\n",
    "\n",
    "# To compute the angle between the pulsar and the earth we can use astropy to tell us the elevation angle to the pulsar.\n",
    "# First Transform the coordinate system to an Alt-Az system. This needs the location of the telescope and the times\n",
    "# of the observation.\n",
    "# altaz = pulsarpos.transform_to(coord.AltAz(obstime=times,location=lovellpos))\n",
    "\n",
    "\n",
    "# earth_delay = ..."
   ]
  },
  {
   "cell_type": "markdown",
   "metadata": {},
   "source": [
    "## Compute the Roemer delay\n",
    "\n",
    "This is the delay corresponding to the distance of the centre of the Earth to the barycentre.\n"
   ]
  },
  {
   "cell_type": "code",
   "execution_count": null,
   "metadata": {},
   "outputs": [],
   "source": [
    "\n",
    "\n",
    "# psr_x = ...\n",
    "# psr_y = ...\n",
    "# psr_z = ...\n",
    "\n",
    "# roemer_delay = ..."
   ]
  },
  {
   "cell_type": "markdown",
   "metadata": {},
   "source": [
    "## Residuals from a fixed period model\n",
    "\n"
   ]
  },
  {
   "cell_type": "code",
   "execution_count": null,
   "metadata": {},
   "outputs": [],
   "source": [
    "#Find out a suitable guess period for your dataset using the instructions in the lab script\n",
    "period_guess = XXXX \n",
    "\n",
    "\n",
    "# residual = \n",
    "\n",
    "# Do fitting (try the polyfit routine in numpy)"
   ]
  }
 ],
 "metadata": {
  "kernelspec": {
   "display_name": "Python 2",
   "language": "python",
   "name": "python2"
  },
  "language_info": {
   "codemirror_mode": {
    "name": "ipython",
    "version": 2
   },
   "file_extension": ".py",
   "mimetype": "text/x-python",
   "name": "python",
   "nbconvert_exporter": "python",
   "pygments_lexer": "ipython2",
   "version": "2.7.14"
  }
 },
 "nbformat": 4,
 "nbformat_minor": 1
}

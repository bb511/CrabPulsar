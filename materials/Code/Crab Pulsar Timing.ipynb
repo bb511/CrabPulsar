{
  "cells": [
    {
      "cell_type": "markdown",
      "source": [
        "# Pulse Arrival Analysis"
      ],
      "metadata": {}
    },
    {
      "cell_type": "code",
      "source": [
        "import os\n",
        "import numpy as np\n",
        "from __future__ import (division, absolute_import, print_function)\n",
        "from scipy import interpolate\n",
        "\n",
        "from astropy import coordinates as coord\n",
        "from astropy import units as u\n",
        "from astropy import constants as const\n",
        "from astropy import time as astrotime\n",
        "from astropy.time import Time\n",
        "from scipy.signal import find_peaks\n",
        "\n",
        "from  matplotlib import pyplot as plt\n",
        "import matplotlib\n",
        "\n",
        "from math import pi\n",
        "\n",
        "%matplotlib inline\n",
        "\n",
        "font = {'family' : 'arial',\n",
        "        'weight' : 'normal',\n",
        "        'size'   : 20}\n",
        "matplotlib.rc('font', **font)"
      ],
      "outputs": [],
      "execution_count": null,
      "metadata": {}
    },
    {
      "cell_type": "markdown",
      "source": [
        "## 1. Reading Data\n",
        "\n",
        "The ToAs are recorded as a time value in [Modified Julian Date](http://tycho.usno.navy.mil/mjd.html) (MJD). The error is recorded in microseconds.\n",
        "\nThe barytable has six columns: Firstly the year, month, day number, followed by x, y, z components of the vector in [astronomical units](https://en.wikipedia.org/wiki/Astronomical_unit). This table should be for the year your observations are recorded."
      ],
      "metadata": {}
    },
    {
      "cell_type": "code",
      "source": [
        "# Get the data directory path\n",
        "current_dir = os.getcwd()\n",
        "root_dir = os.path.abspath(os.path.join(current_dir, os.pardir))\n",
        "data_dir = os.path.join(root_dir, \"Data\")\n",
        "\n",
        "barytable_dir = os.path.join(data_dir, \"BaryTables\")\n",
        "toa_dir = os.path.join(data_dir, \"TOAs\")\n",
        "period_dir = os.path.join(data_dir, \"PeriodEstimates\")\n",
        "\n",
        "save_data_dir = os.path.join(data_dir, \"PeriodFitData\")\n",
        "\n",
        "# -----------------------------------------------------\n",
        "# Functions for reading data\n",
        "def load_barytable(file_name):\n",
        "    \"\"\"\n",
        "    Load the barytable file.\n",
        "    \n",
        "    @param file_name :: name of the file containing barytable data\n",
        "    \n",
        "    @returns :: arrays with year, month, day, xpos, ypos, zpos\n",
        "    \"\"\"\n",
        "    \n",
        "    file_name = file_name + '.asc'\n",
        "    data_file = os.path.join(barytable_dir, file_name)\n",
        "    barytable = np.loadtxt(data_file, unpack=True)\n",
        "    \n",
        "    return barytable\n",
        "\n",
        "def load_toas(file_name):\n",
        "    \"\"\"\n",
        "    Load the time of arrivals from file.\n",
        "    \n",
        "    @param file_name :: name of the file containing barytable data\n",
        "    \n",
        "    @returns :: array containing time of arrival\n",
        "    \"\"\"\n",
        "    \n",
        "    file_name = file_name + '.asc'\n",
        "    data_file = os.path.join(toa_dir, file_name)\n",
        "    toas = np.loadtxt(data_file, usecols=(2,3))\n",
        "    \n",
        "    return toas\n",
        "    \n",
        "def read_pest(file_name):\n",
        "    \"\"\"\n",
        "    Read the period estimate form file.\n",
        "    \n",
        "    @param file_name :: name of the file containing barytable data\n",
        "    \n",
        "    @returns :: float with the period estimate\n",
        "    \"\"\"\n",
        "    \n",
        "    file_name = file_name + '.asc'\n",
        "    data_file = os.path.join(period_dir, file_name)\n",
        "    with open(data_file) as dfile:\n",
        "        line = dfile.read()\n",
        "        \n",
        "    period = float(line[23:-8])\n",
        "    \n",
        "    return period"
      ],
      "outputs": [],
      "execution_count": null,
      "metadata": {}
    },
    {
      "cell_type": "markdown",
      "source": [
        "## 2. Interpolation of Barycenter\n"
      ],
      "metadata": {}
    },
    {
      "cell_type": "code",
      "source": [
        "def compose_date(years, months=1, days=1,\n",
        "                 hours=None, minutes=None, seconds=None,\n",
        "                 milliseconds=None):\n",
        "    \"\"\"\n",
        "    Converts array of years, months etc. into numpy64 date array.\n",
        "    \n",
        "    @param years :: array of years corresponding to each date\n",
        "    @param months :: array of months corresponding to each date\n",
        "    @param days :: array of days corresponding to each date\n",
        "    @param hours :: array of hours corresponding to each date\n",
        "    @param minutes :: array of minutes corresponding to each date\n",
        "    @param seconds :: array of seconds corresponding to each date\n",
        "    \n",
        "    @returns :: array of numpy64date format dates\n",
        "    \"\"\"\n",
        "    \n",
        "    years = np.asarray(years) - 1970\n",
        "    months = np.asarray(months) - 1\n",
        "    days = np.asarray(days) - 1\n",
        "    types = ('<M8[Y]', '<m8[M]', '<m8[D]', '<m8[h]',\n",
        "             '<m8[m]', '<m8[s]', '<m8[ms]')\n",
        "    vals = (years, months, days, hours, minutes, seconds, milliseconds)\n",
        "    return sum(np.asarray(v, dtype=t) for t, v in zip(types, vals)\n",
        "               if v is not None)\n",
        "\n",
        "def mjd_convert(raw_data):\n",
        "    \"\"\"\n",
        "    Converts normal dates from psrchive to modified julian dates.\n",
        "    \n",
        "    @param raw_data :: raw array of year, month, day as read from\n",
        "                       the data file on the barycentre\n",
        "                       \n",
        "    @returns :: modified julian date format times\n",
        "    \"\"\"\n",
        "    \n",
        "    dates = raw_data[:3]\n",
        "    midnights = np.zeros((4,len(dates[0])))\n",
        "    times_raw = np.concatenate((dates,midnights))\n",
        "    times = compose_date(times_raw[0], times_raw[1], times_raw[2],\n",
        "                         times_raw[3], times_raw[4], times_raw[5],\n",
        "                         times_raw[6])\n",
        "    converted_times =  Time(times.astype('string').tolist(), \n",
        "                            format='isot', scale='utc')\n",
        "    mjd_times = converted_times.mjd\n",
        "    \n",
        "    return mjd_times\n",
        "\n",
        "def bary_distance(raw_data):\n",
        "    \"\"\"\n",
        "    Computes the distance from the barycenter to Earth\n",
        "    on a particular day at a particular time.\n",
        "    \n",
        "    @param raw_data :: raw array of year, month, day as read from\n",
        "                       the data file on the barycentre\n",
        "                       \n",
        "    @returns :: magnitude of the x,y,z vector from the raw data\n",
        "    \"\"\"\n",
        "    \n",
        "    xyz = np.transpose(raw_data[3:])\n",
        "    dist = np.zeros(len(xyz))\n",
        "    for i, vect in enumerate(xyz):\n",
        "        dist[i] += np.sqrt(vect[0]**2 + vect[1]**2 + vect[2]**2)\n",
        "    \n",
        "    return dist"
      ],
      "outputs": [],
      "execution_count": null,
      "metadata": {
        "collapsed": false,
        "outputHidden": false,
        "inputHidden": false
      }
    },
    {
      "cell_type": "code",
      "source": [
        "def lag_int(time, order):\n",
        "    \"\"\"\n",
        "    Performs a lagrangian interpolate of order n\n",
        "    to more accurately determine the Earth-Bary distance at\n",
        "    a specific time.\n",
        "    \n",
        "    @param time :: desired time for which the distance should\n",
        "                   be calculated\n",
        "    @param order:: order of the lagrangian interpolate to be calculated\n",
        "    \n",
        "    @returns :: the interpolated coordinates and their associated errors\n",
        "    \"\"\"\n",
        "    \n",
        "    if order == 1:\n",
        "        raise RuntimeError(\"Order cannot be 1! Interpolate 1 point? What?\")\n",
        "        \n",
        "    idxs = np.where(np.logical_and(mjd_times <= time + order/2,\n",
        "                                   mjd_times >= time - order/2))\n",
        "    xvals = mjd_times[idxs]\n",
        "    yvals = distances[idxs]\n",
        "    interp = interpolate.lagrange(xvals, yvals)\n",
        "    coords, coords_errors = coord_interp(time, idxs, xvals)\n",
        "    \n",
        "    return coords, coords_errors\n",
        "\n",
        "def coord_interp(time, idxs, xvals):\n",
        "    \"\"\"\n",
        "    Performs a lagrangian interpolate of order n\n",
        "    to more accurately determine the Earth-Bary coordinate\n",
        "    at a specific time.\n",
        "    \n",
        "    @param time :: desired time for which the distance should\n",
        "                   be calculated\n",
        "    @param order :: order of the lagrangian interpolate to be calculated\n",
        "    \n",
        "    @returns :: the distance at the specified time and the error on it\n",
        "    \"\"\"\n",
        "    \n",
        "    coords = []\n",
        "    coords_errors = []\n",
        "    for i in range(0, 3):\n",
        "        yvals = []\n",
        "        for j in range(idxs[0][0], idxs[0][-1] + 1):\n",
        "            yvals.append(bary_coord[j][i])\n",
        "        \n",
        "        interp = interpolate.lagrange(xvals, yvals)\n",
        "        coords.append(interp(time))\n",
        "        coords_errors.append(residual(yvals))\n",
        "    \n",
        "    return coords, coords_errors\n",
        "\n",
        "def residual(yvals):\n",
        "    \"\"\"\n",
        "    Function that finds the delta in determining\n",
        "    the residuals of the lagrange interpolation formula.\n",
        "    \n",
        "    @param yvals :: the Bary-Earth distances of the interpolated\n",
        "                    points in the data\n",
        "    \n",
        "    @returns :: the error due to interpolation on the yvals data\n",
        "    \"\"\"\n",
        "    \n",
        "    order = len(yvals)\n",
        "    coeff = [0.125, 0.065, 0.042, 0.031, \n",
        "             0.024, 0.019, 0.016]\n",
        "    delta = yvals\n",
        "    \n",
        "    for i in range(0, order-1):        \n",
        "        delta = np.diff(delta)\n",
        "\n",
        "    error = coeff[order-2] * delta\n",
        "    \n",
        "    return error[0]"
      ],
      "outputs": [],
      "execution_count": null,
      "metadata": {
        "scrolled": true
      }
    },
    {
      "cell_type": "markdown",
      "source": [
        "## 3. Delays"
      ],
      "metadata": {}
    },
    {
      "cell_type": "code",
      "source": [
        "# Initialise some constants used throughout\n",
        "# All these constants are in SI except where specified otherwise\n",
        "pulsarpos = coord.SkyCoord(ra=\"05:34:31.93830\",\n",
        "                           dec=\"22:00:52.1758\", \n",
        "                           unit=(u.hourangle,u.deg))\n",
        "\n",
        "lovellpos = coord.EarthLocation.from_geodetic(lat=53.2369, lon=-2.3075)\n",
        "earth_radius = 6378100.\n",
        "light_speed = 299792458."
      ],
      "outputs": [],
      "execution_count": null,
      "metadata": {
        "collapsed": false,
        "outputHidden": false,
        "inputHidden": false
      }
    },
    {
      "cell_type": "markdown",
      "source": [
        "### 3.1 Earth delay"
      ],
      "metadata": {}
    },
    {
      "cell_type": "code",
      "source": [
        "def earth_delay(times):\n",
        "    \"\"\"\n",
        "    Computes the earth delay in seconds for a set of ToAs.\n",
        "    \n",
        "    @param times :: array of ToAs\n",
        "    \n",
        "    @returns :: the Earth delay in seconds\n",
        "    \"\"\"\n",
        "    times = astrotime.Time(times, format='mjd')\n",
        "    altaz = pulsarpos.transform_to(coord.AltAz(obstime=times,\n",
        "                                               location=lovellpos))\n",
        "    # Get radians altitude\n",
        "    alt = coord.Angle(altaz.alt, u.radian)\n",
        "    earth_delay = earth_radius * np.sin(alt)/light_speed\n",
        "    \n",
        "    return earth_delay"
      ],
      "outputs": [],
      "execution_count": null,
      "metadata": {}
    },
    {
      "cell_type": "markdown",
      "source": [
        "### 3.2 Barycentre Delay"
      ],
      "metadata": {}
    },
    {
      "cell_type": "code",
      "source": [
        "def bary_delay(times):\n",
        "    \"\"\"\n",
        "    Calculates the delay from the center of the Earth to the\n",
        "    barycenter.\n",
        "    \n",
        "    @param time :: time of pulse arrival\n",
        "    \n",
        "    @returns :: the delay from center of Earth to Barycenter\n",
        "    \"\"\"\n",
        "    \n",
        "    pulsarpos = coord.SkyCoord(ra=\"05:34:31.93830\",\n",
        "                               dec=\"22:00:52.1758\", \n",
        "                               unit=(u.hourangle,u.deg))\n",
        "    pulsarpos.representation = 'cartesian'\n",
        "    psr_unit = np.array([pulsarpos.x, pulsarpos.y, pulsarpos.z])\n",
        "    \n",
        "    delay = []\n",
        "    for i,time in enumerate(times):\n",
        "        coords, coords_error = lag_int(time, 3)\n",
        "        # AU per sec light speed\n",
        "        light_speed = 0.00200399 \n",
        "        delay.append(np.dot(coords, psr_unit)/light_speed)\n",
        "\n    return delay"
      ],
      "outputs": [],
      "execution_count": null,
      "metadata": {}
    },
    {
      "cell_type": "markdown",
      "source": [
        "## 4. Period Calculation"
      ],
      "metadata": {}
    },
    {
      "cell_type": "code",
      "source": [
        "def get_remainders(times, period, crab, fileit):\n",
        "    \"\"\"\n",
        "    Function calculates the number of rotations of the star\n",
        "    \n",
        "    @param times :: ToAs determined from the file\n",
        "    @param period :: initial guess for the period of Crab pulsar\n",
        "    @param crab :: which crab observations you are doing the analysis\n",
        "                   for, e.g. crab1, crab2 etc.\n",
        "    \n",
        "    @return :: saves the remainders of the division between the ToA and\n",
        "               the time of arrival for every pulse\n",
        "               also outputs times and corresponding remainders\n",
        "    \"\"\"\n",
        "    \n",
        "    sec_times = times * 86400\n",
        "    remainders = sec_times%period\n",
        "    if fileit == 'y':\n",
        "        file_data(sec_times, crab + \"times.txt\")\n",
        "        file_data(remainders, crab + \"remainders.txt\")\n",
        "    \n",
        "    return times, remainders\n",
        "    \n",
        "def file_data(data, filename):\n",
        "    \"\"\"\n",
        "    Function that writes some data to a file, all in a row.\n",
        "    \n",
        "    @param data :: 1D array to be saved to file\n",
        "    @param filename :: the name of the file the data is saved to\n",
        "    \n",
        "    @returns :: the written file    \n",
        "    \"\"\"\n",
        "    \n",
        "    crab_file = os.path.join(save_data_dir, filename)\n",
        "    with open(crab_file, 'w') as f:\n",
        "        for elem in data:\n",
        "            f.write(str(elem) + ' ')"
      ],
      "outputs": [],
      "execution_count": null,
      "metadata": {
        "collapsed": false,
        "outputHidden": false,
        "inputHidden": false
      }
    },
    {
      "cell_type": "markdown",
      "source": [
        "## 4. Analysis"
      ],
      "metadata": {}
    },
    {
      "cell_type": "markdown",
      "source": [
        "### 4.1 Import data"
      ],
      "metadata": {}
    },
    {
      "cell_type": "code",
      "source": [
        "# Crab 1 data\n",
        "crab1_barytable = load_barytable('Crab1Barytable')\n",
        "crab1_toas = load_toas('Crab1ToAs')\n",
        "crab1_pest = read_pest('Crab1TEst')"
      ],
      "outputs": [],
      "execution_count": null,
      "metadata": {
        "collapsed": false,
        "outputHidden": false,
        "inputHidden": false
      }
    },
    {
      "cell_type": "code",
      "source": [
        "# Crab 2 data\n",
        "crab2_barytable = load_barytable('Crab2Barytable')\n",
        "crab2_toas = load_toas('Crab2ToAs')\n",
        "crab2_pest = read_pest('Crab2TEst')"
      ],
      "outputs": [],
      "execution_count": null,
      "metadata": {
        "collapsed": false,
        "outputHidden": false,
        "inputHidden": false
      }
    },
    {
      "cell_type": "code",
      "source": [
        "# Calculate mjd times and distances Earth-Bary\n",
        "# it does not matter what barytable one chooses\n",
        "# they are all the same\n",
        "\n",
        "mjd_times = mjd_convert(crab1_barytable)\n",
        "distances = bary_distance(crab1_barytable)\n",
        "bary_coord = np.transpose(crab1_barytable[3:])"
      ],
      "outputs": [],
      "execution_count": null,
      "metadata": {
        "collapsed": false,
        "outputHidden": false,
        "inputHidden": false
      }
    },
    {
      "cell_type": "markdown",
      "source": [
        "### 4.2 Compute the Delays"
      ],
      "metadata": {}
    },
    {
      "cell_type": "code",
      "source": [
        "# First crab observation times\n",
        "crab1_edelay = earth_delay(crab1_toas[:,0])\n",
        "crab1_bdelay = bary_delay(crab1_toas[:,0])\n",
        "\nbarycenter_time1 = crab1_toas[:,0] + (crab1_bdelay + crab1_edelay)/86400"
      ],
      "outputs": [],
      "execution_count": null,
      "metadata": {
        "collapsed": false,
        "outputHidden": false,
        "inputHidden": false
      }
    },
    {
      "cell_type": "code",
      "source": [
        "# Second crab observation times\n",
        "crab2_edelay = earth_delay(crab2_toas[:,0])\n",
        "crab2_bdelay = bary_delay(crab2_toas[:,0])\n",
        "\nbarycenter_time2 = crab2_toas[:,0] + (crab2_bdelay + crab2_edelay)/86400"
      ],
      "outputs": [],
      "execution_count": null,
      "metadata": {
        "collapsed": false,
        "outputHidden": false,
        "inputHidden": false
      }
    },
    {
      "cell_type": "markdown",
      "source": [
        "### 4.3 Remainder Analysis"
      ],
      "metadata": {}
    },
    {
      "cell_type": "code",
      "source": [
        "# Get times and remainders for first crab observation\n",
        "period_guess1 = crab1_pest\n",
        "timesi1, remaindersi1 = \\\n",
        "get_remainders(barycenter_time1, period_guess1, \"crab1\", 'y')\n",
        "\n",
        "plt.figure(figsize=(12,7))\n",
        "plt.scatter(timesi1, remaindersi1)\n",
        "plt.xlabel('Times [MJD]')\n",
        "plt.ylabel('Remainders')\n",
        "plt.title('Crab 1')\n",
        "plt.show()"
      ],
      "outputs": [],
      "execution_count": null,
      "metadata": {
        "collapsed": false,
        "outputHidden": false,
        "inputHidden": false,
        "outputExpanded": true
      }
    },
    {
      "cell_type": "code",
      "source": [
        "# Crab 1 true period residual plots\n",
        "true_period1 = 0.03375540288333157\n",
        "\n",
        "# Alternative period by putting them back to back\n",
        "true_periodalt1 = 0.03375540747532719\n",
        "error1 = 5.737285390827286*(10**(-9))\n",
        "\n",
        "timesf1, remaindersf1 = \\\n",
        "get_remainders(barycenter_time1, true_period1, \"crab1\", 'n')\n",
        "timesf1 = np.delete(timesf1, 6)\n",
        "remaindersf1 = np.delete(remaindersf1, 6)\n",
        "\n",
        "plt.figure(figsize=(12,7))\n",
        "plt.scatter(timesf1, remaindersf1)\n",
        "plt.xlabel('Times [MJD]')\n",
        "plt.ylabel('Remainders')\n",
        "plt.title('Crab 1')\n",
        "plt.show()"
      ],
      "outputs": [],
      "execution_count": null,
      "metadata": {
        "collapsed": false,
        "outputHidden": false,
        "inputHidden": false
      }
    },
    {
      "cell_type": "code",
      "source": [
        "# Get times and remainders for second crab observation\n",
        "period_guess2 = crab2_pest\n",
        "timesi2, remaindersi2 = \\\n",
        "get_remainders(barycenter_time2, period_guess2, \"crab2\", 'y')\n",
        "\n",
        "plt.figure(figsize=(12,7))\n",
        "plt.scatter(timesi2, remaindersi2)\n",
        "plt.xlabel('Times [MJD]')\n",
        "plt.ylabel('Remainders')\n",
        "plt.title('Crab 2')\n",
        "plt.show()"
      ],
      "outputs": [],
      "execution_count": null,
      "metadata": {
        "collapsed": false,
        "outputHidden": false,
        "inputHidden": false
      }
    },
    {
      "cell_type": "code",
      "source": [
        "# Crab 2 true period residual plots\n",
        "true_period2 = 0.03375569072289549\n",
        "true_periodalt2 = 0.03375569668845487\n",
        "error2 = 6.473524733397306**(10^(-9))\n",
        "\n",
        "timesf2, remaindersf2 = \\\n",
        "get_remainders(barycenter_time2, true_period2, \"crab2\", 'n')\n",
        "remaindersf2 = np.delete(remaindersf2, [7,len(remaindersf2)-1])\n",
        "timesf2 = np.delete(timesf2, [7,len(remaindersf2)-1])\n",
        "\n",
        "plt.figure(figsize=(12,7))\n",
        "plt.scatter(timesf2, remaindersf2)\n",
        "plt.xlabel('Times [MJD]')\n",
        "plt.ylabel('Remainders')\n",
        "plt.title('Crab 2')\n",
        "plt.show()"
      ],
      "outputs": [],
      "execution_count": null,
      "metadata": {
        "collapsed": false,
        "outputHidden": false,
        "inputHidden": false
      }
    }
  ],
  "metadata": {
    "kernelspec": {
      "name": "python2",
      "language": "python",
      "display_name": "Python 2"
    },
    "language_info": {
      "mimetype": "text/x-python",
      "nbconvert_exporter": "python",
      "name": "python",
      "pygments_lexer": "ipython2",
      "version": "2.7.15rc1",
      "file_extension": ".py",
      "codemirror_mode": {
        "version": 2,
        "name": "ipython"
      }
    },
    "kernel_info": {
      "name": "python2"
    },
    "nteract": {
      "version": "0.12.3"
    }
  },
  "nbformat": 4,
  "nbformat_minor": 1
}
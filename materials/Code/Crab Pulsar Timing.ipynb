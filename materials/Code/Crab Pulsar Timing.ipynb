{
  "cells": [
    {
      "cell_type": "markdown",
      "source": [
        "# Pulse arrival times from the Crab pulsar"
      ],
      "metadata": {}
    },
    {
      "cell_type": "code",
      "source": [
        "import os\n",
        "import numpy as np\n",
        "from __future__ import (division, absolute_import, print_function)\n",
        "from scipy import interpolate\n",
        "\n",
        "from astropy import coordinates as coord\n",
        "from astropy import units as u\n",
        "from astropy import constants as const\n",
        "from astropy import time as astrotime\n",
        "from astropy.time import Time\n",
        "from scipy.signal import find_peaks\n",
        "\n",
        "from  matplotlib import pyplot as plt\n",
        "import matplotlib\n",
        "\n",
        "from math import pi\n",
        "\n",
        "%matplotlib inline\n",
        "\n",
        "font = {'family' : 'arial',\n",
        "        'weight' : 'normal',\n",
        "        'size'   : 19}\n",
        "matplotlib.rc('font', **font)"
      ],
      "outputs": [],
<<<<<<< HEAD
      "execution_count": 16,
=======
      "execution_count": null,
>>>>>>> 225ac9b6f0ccd29728c7e2db2d35305a3e118bef
      "metadata": {}
    },
    {
      "cell_type": "markdown",
      "source": [
        "## 1. Reading Data\n",
        "\n",
        "The ToAs are recorded as a time value in [Modified Julian Date](http://tycho.usno.navy.mil/mjd.html) (MJD). The error is recorded in microseconds.\n",
        "\nThe barytable has six columns: Firstly the year, month, day number, followed by x, y, z components of the vector in [astronomical units](https://en.wikipedia.org/wiki/Astronomical_unit). This table should be for the year your observations are recorded."
      ],
      "metadata": {}
    },
    {
      "cell_type": "code",
      "source": [
        "# Get the data directory path\n",
        "current_dir = os.getcwd()\n",
        "root_dir = os.path.abspath(os.path.join(current_dir, os.pardir))\n",
<<<<<<< HEAD
        "data_dir = os.path.join(root_dir, \"DataSP\")\n",
=======
        "data_dir = os.path.join(root_dir, \"Data\")\n",
>>>>>>> 225ac9b6f0ccd29728c7e2db2d35305a3e118bef
        "\n",
        "barytable_dir = os.path.join(data_dir, \"BaryTables\")\n",
        "toa_dir = os.path.join(data_dir, \"TOAs\")\n",
        "period_dir = os.path.join(data_dir, \"PeriodEstimates\")\n",
        "\n",
        "# Functions for reading data\n",
        "# --------------------------\n",
        "def load_barytable(file_name):\n",
        "    \"\"\"\n",
        "    Load the barytable file.\n",
        "    \n",
        "    @param file_name :: name of the file containing barytable data\n",
        "    \n",
        "    @returns :: arrays with year, month, day, xpos, ypos, zpos\n",
        "    \"\"\"\n",
        "    \n",
        "    file_name = file_name + '.asc'\n",
        "    data_file = os.path.join(barytable_dir, file_name)\n",
        "    barytable = np.loadtxt(data_file, unpack=True)\n",
        "    \n",
        "    return barytable\n",
        "\n",
        "def load_toas(file_name):\n",
        "    \"\"\"\n",
        "    Load the time of arrivals from file.\n",
        "    \n",
        "    @param file_name :: name of the file containing barytable data\n",
        "    \n",
        "    @returns :: array containing time of arrival\n",
        "    \"\"\"\n",
        "    \n",
        "    file_name = file_name + '.asc'\n",
        "    data_file = os.path.join(toa_dir, file_name)\n",
        "    toas = np.loadtxt(data_file, usecols=(2,3))\n",
        "    \n",
        "    return toas\n",
        "    \n",
        "def read_pest(file_name):\n",
        "    \"\"\"\n",
        "    Read the period estimate form file.\n",
        "    \n",
        "    @param file_name :: name of the file containing barytable data\n",
        "    \n",
        "    @returns :: float with the period estimate\n",
        "    \"\"\"\n",
        "    \n",
        "    file_name = file_name + '.asc'\n",
        "    data_file = os.path.join(period_dir, file_name)\n",
        "    with open(data_file) as dfile:\n",
        "        line = dfile.read()\n",
        "        \n",
        "    period = float(line[23:-8])\n",
        "    \n",
        "    return period"
      ],
      "outputs": [],
<<<<<<< HEAD
      "execution_count": 4,
=======
      "execution_count": null,
>>>>>>> 225ac9b6f0ccd29728c7e2db2d35305a3e118bef
      "metadata": {}
    },
    {
      "cell_type": "markdown",
      "source": [
        "### 1.1 Load All Data"
      ],
      "metadata": {}
    },
    {
      "cell_type": "code",
      "source": [
        "# Crab 1 data\n",
        "crab1_barytable = load_barytable('Crab1Barytable')\n",
        "crab1_toas = load_toas('Crab1ToAs')\n",
        "crab1_pest = read_pest('Crab1TEst')\n",
        "\n# Crab 2 data..."
      ],
      "outputs": [],
<<<<<<< HEAD
      "execution_count": 5,
=======
      "execution_count": null,
>>>>>>> 225ac9b6f0ccd29728c7e2db2d35305a3e118bef
      "metadata": {
        "collapsed": false,
        "outputHidden": false,
        "inputHidden": false
      }
    },
    {
      "cell_type": "markdown",
      "source": [
        "## 2. Interpolation of Barycenter\n"
      ],
      "metadata": {}
    },
    {
      "cell_type": "code",
      "source": [
        "def compose_date(years, months=1, days=1,\n",
        "                 hours=None, minutes=None, seconds=None,\n",
        "                 milliseconds=None):\n",
        "    \"\"\"\n",
        "    Converts array of years, months etc. into numpy64 date array.\n",
        "    \n",
        "    @param years :: array of years corresponding to each date\n",
        "    @param months :: array of months corresponding to each date\n",
        "    @param days :: array of days corresponding to each date\n",
        "    @param hours :: array of hours corresponding to each date\n",
        "    @param minutes :: array of minutes corresponding to each date\n",
        "    @param seconds :: array of seconds corresponding to each date\n",
        "    \n",
        "    @returns :: array of numpy64date format dates\n",
        "    \"\"\"\n",
        "    \n",
        "    years = np.asarray(years) - 1970\n",
        "    months = np.asarray(months) - 1\n",
        "    days = np.asarray(days) - 1\n",
        "    types = ('<M8[Y]', '<m8[M]', '<m8[D]', '<m8[h]',\n",
        "             '<m8[m]', '<m8[s]', '<m8[ms]')\n",
        "    vals = (years, months, days, hours, minutes, seconds, milliseconds)\n",
        "    return sum(np.asarray(v, dtype=t) for t, v in zip(types, vals)\n",
        "               if v is not None)\n",
        "\n",
        "def mjd_convert(raw_data):\n",
        "    \"\"\"\n",
        "    Converts normal dates from psrchive to modified julian dates.\n",
        "    \n",
        "    @param raw_data :: raw array of year, month, day as read from\n",
        "                       the data file on the barycentre\n",
        "                       \n",
        "    @returns :: modified julian date format times\n",
        "    \"\"\"\n",
        "    \n",
        "    dates = raw_data[:3]\n",
        "    midnights = np.zeros((4,len(dates[0])))\n",
        "    times_raw = np.concatenate((dates,midnights))\n",
        "    times = compose_date(times_raw[0], times_raw[1], times_raw[2],\n",
        "                         times_raw[3], times_raw[4], times_raw[5],\n",
        "                         times_raw[6])\n",
        "    converted_times =  Time(times.astype('string').tolist(), \n",
        "                            format='isot', scale='utc')\n",
        "    mjd_times = converted_times.mjd\n",
        "    \n",
        "    return mjd_times\n",
        "\n",
        "def bary_distance(raw_data):\n",
        "    \"\"\"\n",
        "    Computes the distance from the barycenter to Earth\n",
        "    on a particular day at a particular time.\n",
        "    \n",
        "    @param raw_data :: raw array of year, month, day as read from\n",
        "                       the data file on the barycentre\n",
        "                       \n",
        "    @returns :: magnitude of the x,y,z vector from the raw data\n",
        "    \"\"\"\n",
        "    \n",
        "    xyz = np.transpose(raw_data[3:])\n",
        "    dist = np.zeros(len(xyz))\n",
        "    for i, vect in enumerate(xyz):\n",
        "        dist[i] += np.sqrt(vect[0]**2 + vect[1]**2 + vect[2]**2)\n",
        "    \n",
        "    return dist"
      ],
      "outputs": [],
<<<<<<< HEAD
      "execution_count": 6,
=======
      "execution_count": null,
>>>>>>> 225ac9b6f0ccd29728c7e2db2d35305a3e118bef
      "metadata": {
        "collapsed": false,
        "outputHidden": false,
        "inputHidden": false
      }
    },
    {
      "cell_type": "code",
      "source": [
        "# Plot barycenter data\n",
        "mjd_times = mjd_convert(crab1_barytable)\n",
        "distances = bary_distance(crab1_barytable)\n",
        "bary_coord = np.transpose(crab1_barytable[3:])\n",
        "plt.figure(figsize=(10,11))\n",
        "plt.subplot(211)\n",
        "plt.plot(mjd_times, distances)\n",
        "plt.xlabel(\"Modified Julian Date [s]\")\n",
        "plt.ylabel(\"Distance [AU]\")\n",
        "plt.title(\"Earth-Barycentre Distance\")\n",
        "plt.subplots_adjust(bottom=0.1, top=0.9)"
      ],
<<<<<<< HEAD
      "outputs": [
        {
          "output_type": "display_data",
          "data": {
            "image/png": [
              "iVBORw0KGgoAAAANSUhEUgAAAnUAAAFZCAYAAAD+cdmEAAAABHNCSVQICAgIfAhkiAAAAAlwSFlzAAALEgAACxIB0t1+/AAAADl0RVh0U29mdHdhcmUAbWF0cGxvdGxpYiB2ZXJzaW9uIDIuMi4yLCBodHRwOi8vbWF0cGxvdGxpYi5vcmcvhp/UCwAAIABJREFUeJzs3Xd4VGX+/vH3J4UEQhJaCL330ImACioWwAIqKqwIdrGuq9h772JZdXUVXRSxoICoKGIBpUvoofdeQguBkP78/si4vyxfCAEyOZPJ/bquuZg5c+bMPUEmt6c8jznnEBEREZHSLcTrACIiIiJy8lTqRERERIKASp2IiIhIEFCpExEREQkCKnUiIiIiQUClTkRERCQIqNSJyP9hZs7MFpvZgsNuDY5zO6eY2Xu++2eZWXIRX/ekmaX43nOhmS0zs1FmFn38n8b/Cn7Ok9xOwZ/7QjOba2a3FXj+FjN78BjbuLHga0Sk7AjzOoCIBKwezrldJ7mNBKDOCb72S+fcHQBmFgp8A9wJPHeSmfzhZD7n4f77czezasD3ZlbeOTfMOVeU4tgNKFJ5FpHgoj11InJczCzEzN40s9lmttS3F+1033MjzOxbM1tiZh8CTwPdzew/vpdXNLMvfHuilptZ9yK+bSQQBWzzvU8zM/vZzGaZ2QYzG29mkb7nMs1stJmtMLMnzGx6gez1zGyrmZUzsy6+z5BsZvPM7GzfOi3NbJJvL9kCM7vet/wsM5tuZiPNbL7vdaebWd2Cn9O33kIzm2Fmi8wswsz6+N5rvm8bpxblQ/vK3VDgXsv3pJm97ctzq+995pjZVDNrZWaXAn2Bu83sdjOLN7NvzGymma0zsylmVt33+vW+7U31/QyfKfBzut73d7jIzH7zfUZO9HOISAlxzummm266/c8NcMBiYEGB2zjfc6cCXwEhvscPAt/57o8AfimwnWuB7333zwJygC6+x3cDvx7l/Z8EUnzvuwhI9eWp5Hv+FWCQ7364b53LCmQf7LtfDtgBJPgePw284HvNNuBC3/JOvu2XA5YAHX3LY4GlQNcC+dv7nrsH+P0onzMXqO973NS37aq+xwm+9446ys+92mHLonzL43w/l7eBUCATqOlbZzAwpMDfwb2++/8AHvDdN+AH4B7f4/XAq777tYFDQEOgne9nX9f33F3Ae8fzOXTTTTdvbjr8KiJHc8TDr865mWb2KHCzmTUmv8SkFVhlWiHbXOOcm+27vwC4vpB1Cx5+DQfeAb4EegEPAOeZ2f1AM6AWULHAa6f6smaZ2XDgRjO7l/zydSbQBsh1zk3wrTcXaGNmrYDGwEdm9te2ygMdgGXABufcAt/yeb7tHckm59wG3/3zgJrArwW2mQc0ARYW8vn/8tdcjof+u8C5XDP7CphhZhOAn4DP/s8LnXvTzLqb2VDyS1lrYHaBVcb71ttiZjuBKuT/fH5yzm3yPfcGgO88vZP5HCLiZyp1InJczOxC4E1gGPmlYDkwqMAqBwp5eXaB+478vUeY2YICy288/EXOuWwz+xcw07foc/K/v0YDE4B6f23rCBneA+YAvwPJzrl1vgsu/mfiazNr7dtGqnOufYHl8eTvKexKgWJVMP8RFHz/UPL3SA4osM26wNajvPZwpwDrnHMHCpQpnHODfJnPJX9v6WCg/2Gf6SWgM/ARMJn8PZQFMx/p8+RQ4GdjZuWB+sXwOUTEz3ROnYgcr/PIP9z6LpAEXEL+L/wjySG/SBTKOde+wC3pKKtdCPzpu98LeNo596XvcZejZfDtcZoJvA6861u8AnBmdh6AmXUEfvMtP2Rmg3zL65J/0UGnY3yEwj7nr0BPM2vh2+YF5B8uLn+MbWJmtYCXgFcPW17NzDYBu3170h4lv/wdnqUX8IZzbiSwk/y/u6P9Xf1lMnCumdX0Pb4ZePlkPoeIlAztqRORo5lsZrmHLXuY/D1fn5vZYvK/QyYBl5nZkf4ncRbwhJmNBf55nO8/wMy6kb/XKBJYC1xdIMc4MztI/l6038k/DHg0/yH/XLQfAJxzmWbWD3jDzF4BsoB+vsO1FwNv+g7thgOPOeemm9lZhWz/qJ/TObfUzIYAX1j+rrYcoK9z7mh7NP/6uef6PvtHzrl/HbbNXWb2LPmHQg/5tnmT7+kfgdd8e/WeBl71XQSRTf6h8cJ+TjjnFpvZfcBE3za2Adc757Ye5+cQkRJmzrljryUiUkr5yubb5J8P95LXeURE/EWHX0UkaPnOndtN/jl3x7unUESkVNGeOhEREZEgoD11IiIiIkFApU5EREQkCKjUiYiIiASBoBvSpFq1aq5BgwZexxARERE5prlz5+5yzsUVx7aCrtQ1aNCApKSjjV0qIiIiEjjMbMOx1yoaHX4VERERCQIqdSIiIiJBQKVOREREJAio1ImIiIgEAZU6ERERkSCgUiciIiISBFTqRERERIKASp2IiIhIEFCpExEREQkCKnUiIiIiQSDopgkTEfGKc46Ne9JJ3rKf9bsPsmH3Qbbvz2T/oWzSMrJxDsJCjfDQEKpElSMuOoL4mEgaVYuiSfWKNI2PpmKEvpZF5MT47dvDzLoALznnzjpseR/gcSAH+Mg590GB5y4FrnDODfQ97gq86Vt3knPuKX/lFRE5ERt2H2Ty8p38sWoX8zfuZW969n+fi4uOoFZsJDHlw6lVKZLQkBCyc/LIzMllT3o2a3YeYGdaJjl5DgAzaB4fTYd6lelUP//WoGoFzMyrjycipYhfSp2Z3Q8MBg4etjwceB04xffcdDP7zjm33czeBHoBCwq85D3gMmAtMMHMOjrn5vkjs4hIUTjnmL9pHxMWbWPy8p2s3ZX/NdewWhTntYqnfd3KtK0TS8NqUUQVYa9bTm4em/YeYvXOAyzdup95G/fy/aKtfP7nRgDqVilPj+bVOat5HKc2qkb5cqF+/XwiUnr5a0/dGqAfMPKw5S2B1c65vQBmNg3oDnwFzAC+AW72PRcDRDjn1vge/wScA6jUiUiJ27QnnXHztzBu/hbW7TpIudAQujSqwuBT69OjeXUaVIs6oe2GhYbQsFrUf0shQF6eY3XKAWav3c3vK1P4Kmkzn8zcQERYCGc2i+PCtjU5p2W8DtWKyP/wyzeCc26MmTU4wlMxQGqBx2lArO81X5rZWYetu/+wdRsd6f3MbAgwBKBevXonGltE5H/k5Obxy7KdjJy1numrdwPQtVEVbj2zMb3b1CAmMtwv7xsSYjSLj6ZZfDSDT21ARnYuc9bv4ddlO5mYvJ1JS3cQERZCj+bVuaRDLc5uEU+5MF33JlLWlfT/5u0Hogs8jgb2ney6zrn3gfcBEhMT3cnHFJGybPeBTL6Ys4lRszawNTWDWrGR3NuzGZd2rEPtSuVLPE9keCjdm8bRvWkcj1/Uirkb9zJh0TYmLN7GxCXbqRpVjks71Kb/KXVpFh997A2KSFAq6VK3DGhqZlWAA8AZwKtHWtE5t9/MssysMfnn1PUCdKGEiPjNpj3pDJ+6li+TNpGRncfpTaryRN8EzmlRnbDQwNgTFhJinNKgCqc0qMKjF7Zk6qpdfDlnEyNmrGf4tHV0ql+Z609vSK+E+IDJLCIlo0RKnZkNBCo65943s6HAT+SPkfeRc25LIS+9BRgFhJJ/9ets/6cVkbJm5Y403p2yhm8XbiXE4JL2tRlyRiOaBvher7DQEHq0qE6PFtXZdSCTcfO2MHLWBm7/bB61K5XnmtPqM+CUesSW989hYhEJLOZccB2tTExMdElJSV7HEJFSYN2ug7z+80q+W7SV8uGhXNm5Hjd0a0gtDw6xFpfcPMevy3bw4bR1zF63h4oRYVx/egNu6N5I5U4kAJnZXOdcYrFsS6VORMqazXvT+eevqxgzbwvlQkO49vQGDOneiMpR5byOVqySt6Tyrymr+WHxdqIjw7ipeyOuO70B0X66wENEjp9KXSFU6kTkaA5k5vDO5NV8OHUdAFd1rcdtZzUhLjrC42T+tXTrft74ZSWTlu6gUoVwhp7XjIGd6+mcO5EAoFJXCJU6ETlcXp5j3PwtvDRxOTvTMunXsTb39mxeqg+znojFm1N54cdlzFizmxY1onmybwJdG1X1OpZImaZSVwiVOhEpaOnW/Tw8bjELNu2jXd1KPNmnFR3qVfY6lmecc0xM3s6zE5axZd8hruxcl4cuaOm3MfdEpHDFWeo0HLmIBKWsnDzenryaf01eTaUK5XitfzsuaV+bkJCyPY+qmXF+m5r0aFGd139eyQdT1zJ5eQovXtaGs5pX9zqeiJwE7akTkaCzaPM+7vtqESt2pNGvQ20e79OKShWC6yKI4rJw0z7u+3ohK3cc4IZuDbm/d3MiwjS/rEhJ0Z46EZEjyM1zvPXbKt76bTXVKpbjw2sSOadlvNexAlq7upX49o5uPP/DMt8wKLt5Z2BH6lc9sblsRcQ7uvRJRILCjv0ZXDV8Fm/8soq+7Wox6e4zVeiKKDI8lKcvbs37gzuxac8h+r49nWmrdnkdS0SOk0qdiJR6M9fs5oI3p7JwUyqvXtGO1we010C7J6BnQg2+u6Mb8TERXPOfP/nP9HUE2yk6IsFMpU5ESrWRszYw+MPZVKoQzrd3nM7lnep4HalUq1e1AmNvO52zW1Tnqe+W8sCYRWTm5HodS0SKQKVOREqlnNw8Hhm3mMe+SeaMZnGMu/30gJ+rtbSoGBHGvwd14s6zmzA6aTODh/9J6qFsr2OJyDGo1IlIqZORncstn85j1OyN3HxmIz64OlHjrBWzkBBjaM/m/PPKDszftJf+781ke2qG17FEpBAqdSJSqqSmZzP4w9n8unwHT1+cwEPntyS0jI89509929VixHWd2bLvEJe9O4PVOw94HUlEjkKlTkRKjR37M+j/75ks2LSPt67swNWnNvA6UplwepNqfDGkK5k5eVz+3gzmbdzrdSQROQKVOhEpFTbuTueyd2eweW86I67rzEVta3kdqUxpXTuWsbeeRqXy4QwaPpsZazTkiUigUakTkYC3cXc6f3t/Jgcyc/h8SFdOb1LN60hlUr2qFRh9y6nUqVye6/4zh99XpngdSUQKUKkTkYC2cXc6V34wi/TsXEbd2IW2dSp5HalMqx4dyRdDTqVxXEVu+jiJX5ft8DqSiPio1IlIwNq0J7/QHczK4dMbupBQK9brSAJUiSrHZzd1oUXNaG75dC4Tk7d5HUlEUKkTkQC1aU86f3t/Fgcy8wtd69oqdIGkUoVyfHpjF9rUjuX2z+bz7cKtXkcSKfNU6kQk4OxMy2DQh7NJy8hm1I0qdIEqJjKcT27oQqf6lbnri/mMm7/Z60giZZpKnYgElNT0bK7+8E927s9kxPWdVegCXMWIMD6+rjNdG1XlntEL+U577EQ8o1InIgEjPSuH60b8ydqUg7x/dSc61qvsdSQpgvLlQhl+TSKJ9atw15cLdI6diEdU6kQkIGTm5HLzyLks2LSPf17Znu5N47yOJMehQrkwPrruFNrVieWOz+bzy1JdFStS0lTqRMRzeXmOe0YvZOqqXbx4WVt6t67pdSQ5ARUjwhhxfWda1YrhtlHzmLxip9eRRMoUlToR8dyLE5fz/aJtPHh+C/on1vU6jpyEmMhwRl7fhSbVK3LzyLlMW6WZJ0RKikqdiHjqP9PX8f4fa7nm1PrcfEYjr+NIMYitEM6nN3ahUbUobvxkDrPW7vY6kkiZoFInIp6ZmLyNp79fSs9W8TzeJwEz8zqSFJMqUfnj2NWpXIHrR8xh7oY9XkcSCXoqdSLiiaT1e/jHFwvoULcS/7yyA6EhKnTBplrFCD67sQvxMZFc+585LN263+tIIkFNpU5EStyalAPc+EkStSqVZ/g1pxAZHup1JPGT6jGRjLyhMxUjwrj6o9ms23XQ60giQUulTkRK1M60DK756E/CQoyPr+tMlahyXkcSP6tTuQIjb+hCnoNBw2ezdd8hryOJBCWVOhEpMQczc7hhRBK7D2Tx4TWnUK9qBa8jSQlpUr0in1zfmf2Hshn04Wx2H8j0OpJI0FGpE5ESkZvnuPPz+SzZmso7V3WgXd1KXkeSEta6dizDr0lky95DXPOfP9mfke11JJGgolInIiXi+R+W8evynTx1cWvObhHvdRzxSJdGVXlvUCeWb0vjxhFJHMrK9TqSSNBQqRMRvxs1ewMfTlvHdac3YHDX+l7HEY/1aFGd1wa0Z86GPdw2ai5ZOXleRxIJCip1IuJXU1el8Pj4JfRoHsejF7byOo4EiL7tavHcJW2YvCKFB8cuwjnndSSRUi/M6wAiErxW70zjtlHzaFq9Im8N7Kix6OR/DOxSj10HMnnt55XUii3Pvb2aex1JpFRTqRMRv9hzMIvrRyQRERbK8GsSqRihrxv5v/5+dhO2pR7i7cmrqVkpkqu66PC8yInSt6yIFLvMnFxuHpnEjv0ZfDGkK3Uqa+gSOTIz45mLW7M9NYPHvkkmPjqSc1vpQhqRE6Fz6kSkWDnneHDMYuas38uw/u3oUK+y15EkwIWFhvD2wI60rh3LHZ/PY8GmfV5HEimVVOpEpFj9a8oaxs3fwtDzmnFR21pex5FSIioijA+vOYXq0ZHcMGIO6zWdmMhxU6kTkWLz67IdvDppBX3b1eLvZzfxOo6UMnHREYy47hTynOPa//zJvvQsryOJlCoqdSJSLFbvPMA/vlhAQq0YXrqsLWa60lWOX6O4igy/JpGt+zK4/bN5ZOdqDDuRolKpE5GTlnoomyGfJBERFsK/BydSvlyo15GkFOtUvwrPXdqa6at38+z3S72OI1Jq6OpXETkpuXmOf3wxn4170vnspq7UrlTe60gSBK5IrMvKHWl8MHUdzWvEMLBLPa8jiQQ87akTkZPyyk8rmLIihSf7JtC5YRWv40gQefD8lpzVPI7Hxycza+1ur+OIBDyVOhE5YeMXbOG939cwsEs9BmlOVylmoSHGP6/sQP2qFbj107ls3pvudSSRgKZSJyInZNm2/TwwZhGnNKjMk30SvI4jQSomMpzh15xCTq7j9lHzyMzJ9TqSSMBSqROR47Y/I5tbP51LTGQ4/7qqE+XC9FUi/tOwWhSv9m/Hws2pPKMLJ0SOSt/EInJcnHPc/9UiNu09xNsDOxIXHeF1JCkDeiXU4OYzG/HprI2MnbfZ6zgiAUmlTkSOy4fT1jFxyXYe7N1CF0ZIibqvZ3O6NKzCw+MWs3z7fq/jiAQclToRKbI56/fwwo/L6ZUQz43dG3odR8qYsNAQ3hrYgZjIcG4ZOZf9GdleRxIJKCp1IlIkuw5kcvuoedStXJ5XrminGSPEE9WjI3l7YEc27T3EI+OScc55HUkkYPit1JlZFzObcoTlfcxsjpnNNLObfMvKm9kYM5tqZj+YWZxv+VAzW2JmU3y35v7KKyJHl5fnuPerhew7lM2/rupETGS415GkDOvcsAp3n9uU7xZu5eu5Or9O5C9+KXVmdj8wHIg8bHk48DrQEzgTGGJmNYBbgcXOue7AJ8Cjvpd0BK52zp3lu63wR14RKdx/ZqxnyooUHr2wJa1qxXgdR4Rbz2pC10ZVeOLbJaxJOeB1HJGA4K89dWuAfkdY3hJY7Zzb65zLAqYB3YFuwETfOj8C5/rudwIeMrNpZvaQn7KKSCGSt6Ty0o/LObdlPIM1wLAEiNAQ440BHSgXFsKdn8/X+HUi+KnUOefGAEc6gzUGSC3wOA2IPWz5X8sAvgBuAc4GupnZRUd6PzMbYmZJZpaUkpJSDJ9ARADSs3K484v5VI4K5+XL2+o8OgkoNWIjeeXydizZup+XftSBHJGSvlBiPxBd4HE0sO+w5dHAPsv/7fGGc26Xb6/eBKDDkTbqnHvfOZfonEuMi4vzX3qRMuapb5eybtdBXh/QnipR5byOI/J/nNcqnmtPa8BH09fx2/IdXscR8VRJl7plQFMzq2Jm5YAzgJnAdOAC3zrnA1PJ33uXbGYVfQXvbGBuCecVKbN+WLyNL5M2cdtZjTmtcTWv44gc1YPnt6BFjWju/WoRO/dneB1HxDMlUurMbKCZDXHOZQNDgZ/IL3MfOee2AO8CCWY2DRgCPOWcSwUeBiaTX/KWOOd+KIm8ImVdSlomj4xbTNs6sdx1bjOv44gUKjI8lLcHdiA9K4ehoxeSl6dhTqRssmAb4ycxMdElJSV5HUOk1HLOcdMnc/ljVQo/3NmNJtWjj/0ikQDw2eyNPDxuMY9f1Irru2lwbCkdzGyucy6xOLalwYdF5H+MnbeFX5bt4P5ezVXopFS5snNdzmlRnRcnLmfVjjSv44iUOJU6EfmvbamHePK7JZzSoDLXna49HVK6mBkvXtaW6Igw/vHFArJy8ryOJFKiVOpEBMg/7Hr/14vIyXW8ekU7QkM0fImUPnHREbzQrw1Lt+3njV9Weh1HpESp1IkIAJ/9uZGpq3bx8IUtqV81yus4IiesZ0INBiTW5b3f1zBn/R6v44iUGJU6EWHj7nSem7CMbk2qMahLPa/jiJy0x/q0onbl8gwdvYADmTlexxEpESp1ImVcXp7jvq8XEmrGS5o1QoJExYgwXu/fni17D/HMd0u9jiNSIlTqRMq4z+dsZPa6PTx2UStqVyrvdRyRYpPYoAq3ntWYL5M28dOS7V7HEfE7lTqRMmzH/gxe/GE5pzWuyhWJdbyOI1Ls/nFOMxJqxfDQ2MWkpGV6HUfEr1TqRMqwJ79dQlZuHs9f2kaHXSUolQsL4Y0B7TmQmcODYxYRbAPuixSkUidSRk1asp0fk7dz5zlNaVBNV7tK8GoaH82DvVvw6/KdfDFnk9dxRPxGpU6kDErLyObx8UtoUSOaIWc08jqOiN9de1oDujWpxjPfL2X9roNexxHxC5U6kTLolZ9WsCMtgxcva0t4qL4GJPiFhBivXNGWsBDj7tELyMnVbBMSfPRtLlLGzN2wl5GzNnDNqQ1oX7eS13FESkzN2PI8e2kb5m/cx7tT1ngdR6TYqdSJlCFZOXk8NHYRNWMiubdXc6/jiJS4vu1qcXH7Wrz56yoWbd7ndRyRYqVSJ1KG/Pv3NazccYBnLmlNxYgwr+OIeOLpvq2Ji47gri8XcCgr1+s4IsVGpU6kjFiTcoC3flvNhW1rck7LeK/jiHgmtkI4w65ox9qUg7zw4zKv44gUG5U6kTIgL8/x8NjFRIaH8ESfVl7HEfHcaU2qcUO3hnwycwNTVuz0Oo5IsVCpEykDvpq7idnr9vDwBS2pHh3pdRyRgHBfr+Y0i6/I/V8vYu/BLK/jiJw0lTqRILczLYPnJiyjS8MqDDilrtdxRAJGZHgobwzowN70LB75ZrFmm5BST6VOJMg9/d1SMnLyeL6fpgITOVyrWjHc07M5Pyzezrj5W7yOI3JSVOpEgthvy3fw/aJt/L1HExrHVfQ6jkhAuql7Izo3qMIT45eweW+613FETphKnUiQOpCZw6PjkmkWX5Gbz2zsdRyRgBUaYgzr3w4HDB29kNw8HYaV0kmlTiRIDZu0gm37M3ihX1vKhemfukhh6lapwJN9E/hz3R6GT13rdRyRE6JvepEgtGDTPkbMWM+gLvXpVL+y13FESoXLOtamd0INXp20gqVb93sdR+S4qdSJBJns3DweHLOI+OhI7u+tqcBEisrMeL5fGypVKMfdXy4gI1uzTUjpolInEmQ+mLqW5dvTeOriBKIjw72OI1KqVIkqx8uXt2XFjjSGTVrhdRyR46JSJxJE1u86yJu/rKJ3Qg16JdTwOo5IqdSjeXUGd63P8GnrmLFml9dxRIpMpU4kSDjneOSbxZQLDeGpixO8jiNSqj18QUsaVo3i3tELST2U7XUckSJRqRMJEmPmbWH66t08cH4L4mM0FZjIyShfLpTXB7RnR1omT367xOs4IkWiUicSBHYdyOTZCUtJrF+ZgZ3reR1HJCi0q1uJO89uyrj5W/h+0Vav44gck0qdSBB45vulHMzM4YV+bQgJ0VRgIsXl9h6NaV+3Eo+MS2Z7aobXcUQKpVInUspNWbGT8Qu2cttZTWgaH+11HJGgEhYawusD2pOVk8f9YxbhnGabkMClUidSiqVn5fDoN8k0jovith6aCkzEHxpWi+LhC1vyx8oUPp21wes4IkelUidSir3+80o27z3EC/3aEhEW6nUckaA1qEs9zmwWx3M/LGPdroNexxE5orCjPWFmzx/rxc65h4s3jogU1eLNqXw4bR1Xdq5H54ZVvI4jEtTMjJcvb0vP1//g7i8X8PUtpxIWqv0iElgK+y/yUmBFIbdL/J5ORI4oJzePB8cuolrFCB48v4XXcUTKhPiYSJ69pDULNu3j3SlrvI4j8n8cdU8d8KhzbszRnjSzA37IIyJF8NH0dSzZup93r+pIbHlNBSZSUvq0q8XPS3fw5q+r6NGiOq1rx3odSeS/CttTd5GZfeS7fWhmb5vZNWYWAlBY4RMR/9m0J53Xfl7JuS3j6d1aU4GJlLSnL06gasVy3P3lAjKyc72OI/JfhZW6L4AvfbfRwGSgG/BaCeQSkSNwzvHwuMWEmvHMJQmYaUw6kZJWqUI5Xrm8Hat2HuDVn1Z4HUfkv456+NU599MRFo8xs1l+zCMihRi/YCtTV+3iqb4J1Iwt73UckTLrjGZxDO5anw+nr+OclvGc2riq15FETmhIk7xiTyEix7TnYBZPf7+UDvUqMahrfa/jiJR5D13QggZVo7j3q4Xsz8j2Oo7I8ZU6M+sBZPopi4gU4tkJS9l/KJsX+rUhVFOBiXiuQrkwXuvfjm2ph3j6u6VexxEpdJy6bUDB+VAcsBYY4u9QIvK/pq3axdh5W7ijRxNa1IjxOo6I+HSoV5nbezThrd9Wc16reHol6OIl8U5h59TVPNJyM6vtvzgicrhDWbk8PG4xDatFccfZTbyOIyKHufOcpvy2fCePjEumc4MqVI4q53UkKaOKfPjVzHqY2Rhgrh/ziMhh3vx1FRv3pPP8pW2IDNdUYCKBJjw0hFcub8e+9Cye+V6HYcU7hZY6M4sys9vNLBn4ChgD6AxtkRKyZGsqH0xdy4DEurq6TiSAtaoVw209mjB2/hZ+W77D6zhSRh211JnZW8CfQE3ypwSb45z7zDmnCyVESkDYQAtbAAAgAElEQVRunuOhsYupXCGchy7QVGAige6OHk1oHh/NQ2MXk3pIV8NKyStsT1038g+1zib/AglXyLoiUsxGzFjPos2pPNEngUoVdI6OSKArFxbCK1e0ZdeBLJ6fsMzrOFIGHbXUOec6AO8B/YAVQDMz0+4CkRKweW86wyatoEfzOC5qe8RrlkQkALWtU4khZzTiy6RN/LEyxes4UsYUek6dc26Gc+46oCMwDPjUzJJKJJlIGeWc4/HxSwB45pLWmgpMpJT5xzlNaRwXxUNjF3MgM8frOFKGFHZO3d/+uu+cS3POveucSwRuPPx5ESk+PyZv57flOxl6XjPqVK7gdRwROU6R4aG8fHk7tqYe4oUfdBhWSs5Rx6kDnjKzI45yamZdgLuBL/ySSqSMSsvI5qnvlpBQK4ZrT2vgdRwROUGd6lfmhtMbMnzaOi5sW5PTGlfzOpKUAYUdfv2M/Ctfj3SrAXzu93QiZcywSSvZmZbJc5e2ISz0RKZmFpFAcU/P5jSoWoEHxywmPUuHYcX/CptR4qmT2bBvb95LzrmzDlveB3gcyAE+cs59YGblgU+B6kAacI1zLuVI655MJpFAtnhzKp/MXM/grvVpX7eS13FE5CSVLxfKS5e1ZcD7s3jlpxU80SfB60gS5PyyK8DM7geGA5GHLQ8HXgd6AmcCQ8ysBnArsNg51x34BHi0kHVFgk5unuPhcYupWjGCe3s19zqOiBSTLo2qcvWp9RkxYz1zN+z1Oo4EOX8d31lD/lAoh2sJrHbO7XXOZQHTgO7kj4k30bfOj8C5hawrEnRGzlzP4i2pPH5RK2Iiw72OIyLF6P7eLagVW54HxiwiMyfX6zgSxI5Z6sws2syeNbMPzayfmR1zRnHn3BjgSMNpxwCpBR6nAbGHLT/SsoLLj5RxiJklmVlSSorGBZLSZXtqBq9OWkn3ptU0Jp1IEKoYEcZzl7Zm9c4DvP3baq/jSBAryp66j8ifUaIZsB348CTebz8QXeBxNLDvsOVHWlZw+f/hnHvfOZfonEuMi4s7iXgiJe+Z75eSlZvHsxqTTiRondW8Ov061ubdKWtYunW/13EkSBWl1FV1zn0EZDvnZgAn81tnGdDUzKqYWTngDGAmMB24wLfO+cDUQtYVCRqTV+xkwuJt/L1HE+pXjfI6joj40eMXtaJShXDuH7OQnNw8r+NIECrSOXV/TQ9mZnWA4z4hwMwGmtkQ51w2MBT4ifyC9pFzbgvwLpBgZtOAIcBThawrEhQOZeXy+PhkGsdFMeTMRl7HERE/q1ShHE9f3JrkLfv5YOo6r+NIECps8OG/3An8h/wLF74GbivKhp1z64GuvvufFVj+HfDdYeumA1ccYRv/Z12RYPHWb6vYtOcQn9/UlYiwUK/jiEgJuKBNTXon1OD1X1bSKyGeRnEVvY4kQaQoe+pWAbc55yoBLwKL/RtJJPitSTnAB1PX0q9jbU5tXNXrOCJSgp6+OIHIsBAeGLOIvDzndRwJIkUpdaOALr77zYCP/RdHJPg553jy2yVEhoXy0PktvY4jIiWsekwkj13Uijnr9zJq9gav40gQKUqpq+2cew/AOfcy+dOEicgJmrR0B1NX7eLu85oRFx3hdRwR8cDlnerQvWk1XvxxOZv3pnsdR4JEUS+UaOb7szGgk39ETlBGdi5Pf7eU5vHRXH1qfa/jiIhHzIznL22DAx4Zl4xzOgwrJ68ope4uYLSZbQO+JP+KVBE5Ae9OWcOWfYd4sm8CYaH+mtBFREqDulUq8EDvFvy+MoWx8zS4g5y8Y/5Wcc7Nds61d87V9A3wm1QSwUSCzcbd6bz7+xr6tKuliyNEBIDBXeuTWL8yT3+/lJS0TK/jSClXlGnCrjazpWa29q9bSQQTCTbPTFhKWIjx8AUtvI4iIgEiJMR46fK2HMrO5Ylvk72OI6VcUY7/PAD0JX+cur9uInIcJq/Yyc9Ld/D3s5tSM7a813FEJIA0jqvIP85pyg+LtzMxeZvXcaQUK0qpW+ucW+2cy/zr5vdUIkEkMyf/4ohG1aK4vlsDr+OISAAackYjEmrF8Og3S0hNz/Y6jpRSRSl16Wb2o5m9YGbPm9nzfk8lEkQ+nLaOdbsO8kTfBM0cISJHFB4awkuXtWVvehbPTFjqdRwppYoyTdgPfk8hEqS2pR7irV9X07NVPGc2i/M6jogEsNa1Y7nlzEa8M3kNfdvV4gx9Z8hxKuqMEiuBdcB6IMufgUSCyXMTlpHnHI9d1MrrKCJSCvz97KY0joviobGLOZiZ43UcKWWKUurGAk8A7wDvAjf4NZFIkJixZhffL9rGrWc1pm6VCl7HEZFSIDI8lJcua8vW1EO88tMKr+NIKVOUUhfrnOsNzAY6AZH+jSRS+mXn5vHkt0uoU7k8t5zZ2Os4IlKKJDaowjWnNuDjmeuZs36P13GkFClKqftr/2+Uc+4QUM6PeUSCwiczN7ByxwEev6gVkeG6OEJEjs99vZpTp3J57v1qoQ7DSpEV6fCrmT0GLDSzWcB+P2cSKdV2pmXwxs8rObNZHOe1ivc6joiUQlERYQy7oj0b96Tz/A/LvI4jpURRrn4dD2xxzjkzm8D/33MnIkfw0o8ryMjJ5Yk+rTAzr+OISCnVuWEVbureiPf/WMu5reLp0by615EkwB11T52ZtTazXsD3wHlm1hOoA3xeUuFESpu5G/YwZt5mbuzeiEZxFb2OIyKl3NDzmtEsviIPfL2IfekafEIKV9jh18rA34B44Erf7XLgXyWQS6TUyc1zPD5+CTViIrmjRxOv44hIEIgMD+W1/u3ZczCLx8Yv8TqOBLijHn51zk0FpppZR+fcPAAzC3HO5ZVYOpFS5LM/N7Jk637eurIDURFFObNBROTYWteO5a5zm/LqpJX0bBVPn3a1vI4kAaooF0o0NrO/mdk1wDYzu9ffoURKmz0Hs3j1pxWc2qgqF7Wt6XUcEQkyt5zZmPZ1K/HY+GR27M/wOo4EqKKUunuBn4FBQD2gj18TiZRCL09czsHMHJ66OEEXR4hIsQsLDeG1/u3IyM7lgTGLcM55HUkCUFFKXabvzzTnXCYQ7cc8IqXOgk37+DJpE9ee1oBm8frnISL+0SiuIg9f0JIpK1L4eMZ6r+NIACpKqVsLJAEfmdkT5M8sISJAXp7jifHJVKsYwT/Obep1HBEJcoO71uecFtV5/sflLNumYWPlfx2z1DnnrgXaOOe+B95zzt3q91QipcSXSZtYuDmVRy5oSXRkuNdxRCTImRkvX96WSuXD+fvn8zmUlet1JAkghY1T96jvz8+B983sM+B1358iZd6+9Cxenriczg2qcHF7XY0mIiWjasUIXuvfntU7D/DMhKVex5EAUti4C9/5/nyvJIKIlDavTlrB/gxdHCEiJa9b02rcfEYj/v3HWs5oGkfv1jW8jiQB4Kh76pxzC82sLXAOMAA4HdjqnPu9pMKJBKrkLamMmr2RwV3r07JmjNdxRKQMuqdnc9rWieXBsYvYlnrI6zgSAAo7/HoF8BGwCZgIpAFfm9nFJZRNJCDl5TkeH59M1ahy3H1eM6/jiEgZVS4shDf/1oGsnDzu+mIBuXka5qSsK+xCiX8AZzrnPnDOfeucewvoBtxVMtFEAtOYeZuZt3EfD/RuQWx5XRwhIt5pWC2Kpy9uzex1e/jX5NVexxGPFVbqcpxzBwsucM6lAbrURsqs1PRsXpq4nI71KnFZxzpexxER4bKOtbm4fS1e/2Uls9bu9jqOeKiwUne0OV6LMradSFB6ceJy9qZn88wlrQkJ0cURIuI9M+O5S9vQoGoUd34+n10HMo/9IglKhRW0BDP77LDb50CrkgonEkjmbtjD539u5LrTGpBQK9brOCIi/1UxIoy3B3Zk36Fs7v5yAXk6v65MKmxIk/5HWa4hTqTMyc7N4+GxydSKjdTFESISkFrViuHJPgk8PG4x7/6+htt7NPE6kpSwo5Y6DV0i8v99OG0dK3ak8f7gTkRFFPb/QiIi3rmyc11mrd3NsEkrSKxfmS6NqnodSUqQzo8TOYZNe9J545eVnNcqnp4JGuBTRAKXmfF8vzbUrxrFnV/MZ7fOrytTVOpECuGc44lvlxBixlN9E7yOIyJyTPnn13Vgb3o2d49eqPPryhCVOpFCTEzezm/LdzL0vGbUqlTe6zgiIkWSUCuWJ/q04o+VKbz7+xqv40gJUakTOYq0jGye/G4JrWrGcO1pDbyOIyJyXAZ2rsdFbWvy2s8r+XPdHq/jSAlQqRM5ild/WsHOtEye79eGsFD9UxGR0sXMeKFfG+pWLs+dn+v8urJAv6lEjmDO+j18PHMD15zagPZ1K3kdR0TkhERHhvP2wI7sSc9iqM6vC3oqdSKHycjO5YGvF1Gncnnu69Xc6zgiIielde1YHruoFb+vTOG9P3R+XTBTqRM5zJu/rmLtroO80K+NxqQTkaAwqEs9Lmxbk2GTVjJnvc6vC1YqdSIFJG9J5f0/1tI/sQ7dm8Z5HUdEpFiYGS/2a0OdyuX5+2fz2XMwy+tI4gcqdSI+2bl53Pf1IqpGleORCzXFsYgEl+jIcN4Z2JE9B7MYOlrzwwYjlToRn/emrGHZtv08e0lrYsuHex1HRKTYta4dy2N9WjFlhcavC0YqdSLAqh1pvPXbai5qW1NTgYlIUBvUpR592tVi2KQVzFizy+s4UoxU6qTMy81z3D9mEVERoTypqcBEJMj9NX5dg2pR3Pn5AnamZXgdSYqJSp2UecOnrmX+xn080SeBahUjvI4jIuJ3FSPCePeqThzIzObOz+eTk5vndSQpBip1Uqat3JHGsEkr6Z1Qg4vb1/I6johIiWleI5pnL2nDrLV7eP2XlV7HkWKgUidlVnZuHkNHLyA6MoznLm2NmXkdSUSkRF3eqQ4DEuvyzuQ1TF6x0+s4cpJU6qTMevu31SRv2c/z/dpQVYddRaSMeuriBFrWjOHuLxewZd8hr+PISfBLqTOzEDN7z8xmmtkUM2ty2PMPmNkCM/vDzC7yLWvoezzVzD41swq+5f80s7m+7Uwxs1h/ZJayZdHmfbw9eTX9OtSml652FZEyLDI8lH9d1ZGcXMfto+aRlaPz60orf+2puwSIdM6dCjwIDPvrCTNrAwwEugI9gad9Be4V4D3nXHdgCjDU95KOQC/n3Fm+W6qfMksZkZGdy9DRC4mrGMETutpVRISG1aJ45fK2LNi0jxd/XO51HDlB/ip13YCJAM65WUBigedaAlOccxnOuQxgFdAWaAX86FtnOtDNzEKApsD7ZjbdzK73U14pQ4ZNWsHqnQd4+fK2GmRYRMTn/DY1ue70Bnw0fR0/Lt7mdRw5Af4qdTFAwT1quWb218zoi4EzzCzazKoCpwFRwAKgr2+dvr5lUcBbwCCgN3CbmbU9/M3MbIiZJZlZUkpKil8+kASHP9ftYfi0dVzVpR5nNNPcriIiBT10fkva163E/V8vYv2ug17HkePkr1K3H4gu+D7OuRwA59wy4G3y98oNA2YDu4B7gL5mNhHI8y1LB950zqU759KA34B2h7+Zc+5951yicy4xLk6/qOXIDmbmcO9XC6lbuQIPX9DS6zgiIgGnXFgI71zVkdBQ47ZR88jIzvU6khwHf5W66cAFAGbWlfy9c/gexwHVnHPdgH8AdYFk4DzgKedcb/JL3c9AM2CamYWaWTj5h3Xn+SmzBLnnf1jGpr3pvHpFO6Iiwo79AhGRMqh2pfK8PqA9S7ft59FvknHOeR1Jishfv9nGAeeZ2QzAgOvMbCiwGvgOaGRmc4As4D7nXK6ZrQA+MrNMYAlwu3Mu28xGAbOAbOAT59wSP2WWIPb7yhRGzd7ITd0b0rlhFa/jiIgEtB7Nq3PnOU3556+raFsnlqtPbeB1JCkCC7YGnpiY6JKSkryOIQEkNT2bXm/8QcXIML7/ezciw0O9jiQiEvDy8hxDRiYxZUUKo27sQpdGVb2OFJTMbK5zLvHYax6bBh+WoPfkd0tIOZDJa/3bqdCJiBRRSIjx2oD21Ktagds/m8dWDUwc8FTqJKhNTN7GuPlbuKNHE9rWqeR1HBGRUiUmMpz3ByeSkZ3HrZ/O1YUTAU6lToLWrgOZPDIumYRaMdxxdpNjv0BERP6PJtUr8lr/dizcnKoLJwKcSp0EJeccD49dTFpGDq/1b094qP5TFxE5UT0TanDnOU35eu5mPpm5wes4chT6TSdB6ZsFW5i0dAf39GxG8xrRx36BiIgU6q5zmnJuy+o8/f1Spq3a5XUcOQKVOgk621IP8fj4JXSqX5kbuzfyOo6ISFAICTFeH9CeptUrcuuouazakeZ1JDmMSp0Elbw8x/1fLyIn1zHsinaEhpjXkUREgkZ0ZDgfXnsKkeGhXDdiDilpmV5HkgJU6iSojJy1gamrdvHwhS1pUC3K6zgiIkGndqXyfHhNIrsOZHLTJ0m6IjaAqNRJ0Fi98wDP/7CMs5rHMahLPa/jiIgErbZ1KvHGgA4s3LyPe0YvJC9PV8QGApU6CQpZOXnc/eUCKpQL5eXL2mKmw64iIv7Uu3UNHjq/BRMWb+OZCUs11EkA0KzmEhTe+m0Vi7ek8t6gjlSPifQ6johImXBT90ZsT83ko+nrqFyhHHee09TrSGWaSp2UenM37OWdyau5vFMdereu6XUcEZEyw8x49MKWpB7K5rWfVxJbPpxrTmvgdawyS6VOSrWDmTkMHb2AmrHleaJPK6/jiIiUOSEhxkuXtSH1UDZPfLuEShXCubh9ba9jlUk6p05KtWcnLGPjnnReH9Ce6Mhwr+OIiJRJYaEhvD2wA10bVeGe0Qv5eekOryOVSSp1Umr9umwHn/+5kZvPaEznhlW8jiMiUqZFhofywdWJJNSK4bZRc5m0ZLvXkcoclToplXYfyOSBMYtoWTOGu8/TibkiIoEgOjKckTd2IaFWLLeNmsfE5G1eRypTVOqk1HHO8dDYxezPyOGNAe2JCAv1OpKIiPjERIYz8obOtK0Ty+2fzeeHxSp2JUWlTkqdr+ZuZtLSHdzfqznNa0R7HUdERA4THRnOJzd0oUPdSvz98/mMX7DF60hlgkqdlCrrdx3kqW+XcGqjqlx/ekOv44iIyFFUjAhjxPWdSaxfmbu+XMCI6eu8jhT0VOqk1MjKyePOL+YTFhrCsP7tCAnRrBEiIoGsYkQYH1/fmfNaxvPkd0sZNmmFZp7wI5U6KTVenbSCRZtTefnyttSqVN7rOCIiUgSR4aH866qODEisy1u/rebhccnkaq5Yv9Dgw1Iq/L4yhff/WMvgrvXplVDD6zgiInIcwkJDePGyNlSLLsc7k9ew60Amb/6tPRXKqYYUJ+2pk4C3My2De0YvoHl8NI9c2NLrOCIicgLMjPt6teDJPq34ddkO+v97Jjv2Z3gdK6io1ElAy8tz3DN6IWkZObw1sAOR4Rq+RESkNLv29IYMvyaRdSkHufjt6SRvSfU6UtBQqZOANnzaWqau2sXjfVrRLF7Dl4iIBIOzW8Tz1S2nYQb9/z1T04oVE5U6CVgLN+3j5YkrOL91DQZ2rud1HBERKUatasUw/vbTaVK9IkNGJjF86lpdGXuSVOokIO1Lz+L2z+ZRPTqCF/u1xUzDl4iIBJvqMZF8OeRUeifU4NkJy7j/60VkZOd6HavUUqmTgJOX57j7ywXs2J/BO1d1JLZCuNeRRETET8qXC+WdgR258+wmfDV3MwPen8W21ENexyqVVOok4LwzeTWTV6TweJ8EOtSr7HUcERHxs5AQY2jP5rw3qBOrd6TR561p/Lluj9exSh2VOgkoU1el8NovK7m0Q20GddF5dCIiZUnv1jX45vbTiY4MZ+AHsxg5c73OszsOKnUSMLbsO8Sdn8+nWfVonru0tc6jExEpg5rGR/PN7adzRrM4Hhu/hPu/XsShLJ1nVxQqdRIQMrJzue3TuWTnOt4d1FGjjIuIlGGx5cMZfnXif8+zu+Sd6azeecDrWAFPpU4855zjvq8XsWhLKq/1b0ejuIpeRxIREY/9dZ7dx9d3JuVAJn3fnsbYeZu9jhXQVOrEc2//tprvFm7lvl7N6al5XUVEpIAzm8Xxw53daV07lqGjF3LfVwt1OPYoVOrEUz8u3sawn1fSr0Ntbj2zsddxREQkANWIjeSzG7vw97Ob8PW8zVz8zjRWbE/zOlbAUakTzyRvSeXu0QvoUK8Sz/drowsjRETkqMJCQ7inZ3M+ub4zew5m0eetafz79zXk5unq2L+o1Ikntuw7xI0fJ1GlQjneH5xIZHio15FERKQU6N40jol3nUGPFnG88ONy/vb+TDbsPuh1rICgUiclbs/BLK7+cDYHM3P48NpTiIuO8DqSiIiUItUqRvDeoE681r8dy7encf6bU/l4xvoyv9dOpU5KVHpWDtePmMOmvYcYfk0iLWvGeB1JRERKITOjX8c6/HTXGXSqX5knvl3CJe9MZ8GmfV5H84xKnZSY7Nw8bhs1j0Wb9/HWlR3o0qiq15FERKSUq1WpPJ9c35m3ruzAjv0ZXPqv6Tw0djH70rO8jlbiVOqkROTlOR74ehFTVqTw/KVt6KWhS0REpJiYGX3a1eLXe87k+tMbMjppE2e+MoV3p6wpU8OfqNSJ3+XlOR75Jpmx87dwb89m/K2z5nQVEZHiFx0ZzmMXtWLCnd3oWK8SL01czpmvTOajaes4mJnjdTy/s2CbKDcxMdElJSV5HUN8nHM8+k0yo2Zv5PYejbm3Z3MNXSIiIiXiz3V7eHXSCv5ct4eYyDAGda3PwC71qFO5gtfR/svM5jrnEotlWyp14i/OOR4fv4SRszZwy5mNeaC3Cp2IiJS8eRv3MnzqWiYmbyfPwWmNq3JZxzqc2zKe2ArhnmZTqSuESl1gcM7x1HdLGTFjPUPOaMRD57dQoRMREU9t3pvO2Hlb+HruZjbuSSc0xDilQWV6NK9O54ZVSKgVS7mwkj0zTaWuECp13svLczw2Pv+Q643dGvLIhS1V6EREJGA455i/aR+/LtvBr8t2stw35VhEWAhtasfSomY0LWvG0Kl+ZVrU8O/QWyp1hVCp81Z2bh73frWQ8Qu2cvOZjXiwt/bQiYhIYNuZlkHS+r3MWb+H5C2pLN+WRlpmDoO71ueZS1r79b2Ls9SFFcdGRAAysnO547P5/LJsB/f1as7tPZp4HUlEROSYqkdHckGbmlzQpiaQvydvy75DHqc6fip1UiwOZuYwZGQS01fv5umLE7j61AZeRxIRETkhZhZQV8gWlUqdnLSUtExu+HgOyVtSGXZFOy7rVMfrSCIiImWOSp2clLUpB7j2P3PYmZbB+4MTObdVvNeRREREyiSVOjlh8zbu5YYRczAzvhhyKu3rVvI6koiISJmlUicn5OelO/j75/OIj4nk4+s606BalNeRREREyjS/jLBnZiFm9p6ZzTSzKWbW5LDnHzCzBWb2h5ld5FvW0Pd4qpl9amYVfMtvMrMkM5v117rirZGzNnDzyCSa14hhzK2nqdCJiIgEAH/tqbsEiHTOnWpmXYFhwMUAZtYGGAh08a07w8x+A14B3nPOfWZmNwJDzWw4cCeQCEQC08zsZ+dcpp9ySyFycvN4dsIyRsxYzzktqvPWwA5UKKedvSIiIoHAX3NhdAMmAjjnZpFfyv7SEpjinMtwzmUAq4C2QCvgR986033b6AxMd85lOudSgdW+daWEpaZnc92IOYyYsZ4buzXk34M7qdCJiIgEEH+VuhggtcDjXDP7qwEsBs4ws2gzqwqcBkQBC4C+vnX6+pYdvp00IPbwNzOzIb5DtEkpKSnF+0mE1TsPcPE705i1djcvX96WRy9qRVhoyc6NJyIiIoXz12/m/UB0wfdxzuUAOOeWAW+Tv1duGDAb2AXcA/Q1s4lAnm/Z4duJBvYd/mbOufedc4nOucS4uDg/fJyya/KKnVz6znQOZObw+U1d6Z9Y1+tIIiIicgT+KnXTgQsAfOfULf7rCTOLA6o557oB/wDqAsnAecBTzrne5Je6n4E/ge5mFmlmseQfuk32U2YpwDnHe7+v4YYRc6hbpQLj7+hGYoMqXscSERGRo/DXSVHjgPPMbAZgwHVmNpT8c+K+AxqZ2RwgC7jPOZdrZiuAj8wsE1gC3O6cyzazfwJTyS+gj/jOwxM/Sk3P5p6vFvDLsp1c2KYmr1zRVufPiYiIBDhzznmdoVglJia6pKQkr2P8v/buPcqq8rzj+Pc3DMMwAsPN4RIEVDQIXiLxWi+gWCHGrkRo2pREi4k2bdPVmDS1dtm1aJY1ySKxtdpqEg1oV2q8JDXRNCpGvHFRUUGrYhHFiAroIHcYYGae/rHfaY7DmeEMzDgze36ftWaxZ+/97vPuZz1zeM6799lvt/XC2s189Y7n2bC1jqsvOIY//b2xSOrsbpmZmeWSpOci4qT977l/Hn4xABobg9uXvsm3f72Smv6V3P2V0zlx9KDO7paZmZmVyEWd8e7mXVz5sxdZtLqWqeNruO6PTmBgVUVnd8vMzMzawEVdDxYR3Lv8Hebc9zINjcG1Fx3LrFNG+3KrmZlZN+Sirodat2UXc375Mgte2cDJYwfx/c+dwJghnu7LzMysu3JR18PsbWhk3qI1/Osjr9HQGPz9p8Zz2VlH0KvMo3NmZmbdmYu6A/D2pp2MGlTV2d1ok4jgoZfXM/eh/+WN93dw3jE1zPmDiRw2uHudh5mZmRXnoq6NVq7bygU3PMnU8cP4y3OOZFIX/4ZoY2Pw+Kr3uf43q3jh7S2Mq+nHrZecxHkThnV218zMzKwduahro5HVfbli6tHMX7KGGTdt4NTDBzPr1NFMmzicyt69Ort7/2/nnnruW/Euty5aw+r3tjOyupK5f3g8MyeN8qVWMzOzHPLDhw/Qjt31/PSZt5i/+E3e2byL6r69ufD4EZw/cTinHTGYPuUffYG3p76Rp0Os0+kAAAsHSURBVNds5N7l7/DgS+vZuaeBCSMGcPnZh/Pp40ZSUd5Rs8KZmZnZgWjPhw+7qDtIjY3B0jc2cteytTz8ygZ27W3gkIpenH7kEE4aO5iTxgxiwsgBHTLNVt3eBlau28qKtZtZvLqWJa9vZOeeBvpXlvPp40YwY9IoTh47yI8oMTMz66I8o0QXUlYmzhg3lDPGDaVubwNLX9/Iwys38NTrG/nNyvcAkGD04CqOqunPqEF9GV5dyYjqSoYNqKR/ZTlVFeVUVfSisncvJKhvCOobGqlvDHbsrqd2+x4+2LGHjTt2s25LHW/W7mBN7Q5Wv7ed+sasKD9scF9mTPoYk4+u4ayjhnapS8FmZmbW8VzUtaPK3r04Z3wN54yvAaB2+26e++0mXl23jVUbtvHae9t4es1GttXVH/BrlJeJ0UOqOHzIIUz5eA2fOKya40cNZER1pUfkzMzMejAXdR1oaL8+TJs4nGkTh39o/fbd9azfUseGrXVsq6tn1956du1pZOeerNgrLxPlvcro3UtUVZQzpF8FQw7pw5B+FQyqqvAXHczMzGwfLuo6Qb8+5Yyr6ce4mn6d3RUzMzPLCX8d0szMzCwHXNSZmZmZ5YCLOjMzM7MccFFnZmZmlgMu6szMzMxywEWdmZmZWQ64qDMzMzPLARd1ZmZmZjngos7MzMwsB1zUmZmZmeWAizozMzOzHFBEdHYf2pWk94HfdnY/upihQG1nd6KLcUyKc1yKc1z25ZgU57gU57gUNxQ4JCIObY+D5a6os31JejYiTursfnQljklxjktxjsu+HJPiHJfiHJfi2jsuvvxqZmZmlgMu6szMzMxywEVdz/Cjzu5AF+SYFOe4FOe47MsxKc5xKc5xKa5d4+J76szMzMxywCN1ZmZmZjngoq6bkbRc0mPpZ76k8yQ9K+kpSf/UbN9xkl4q+H2wpNqC9l9L6y8vOMaFH/U5tYdS4yLpe5KWSlom6fK0bqikBZKelHSXpKq0vqfHJZf50oaYXCvp6bT+lLTOuVI8LrnMFWjze26VpBWSpqffc5kvBxmTHp8rku6TtDjt90BaN07SopQrN0sqS+vnSHpG0pKmv7dWRYR/uskPUAksb7ZuOTABELAIOC6tvxh4FlhfsO95wI3N2g8H/gfoA1Q3LXf2uXZEXIBzgHvT9j7AamAQcAMwO62/Cvi648KgPOZLG2JyIvBIWjcWeCHt29NzpaW45C5X2hKXgm3z0/bpec2XdohJj88V4BXS7W8F+94HTEnLPwAuAiYBC1P70cCy/fXDI3XdywlAVfrkt1DSaWRJMxjoTZZUDWnfTcDkZu0/CUyS9LikeySNAE4BFkfE7ojYQvYf+vEfxcm0o1LjshT4UmoTQC9gL3Am8GBa/wDZm47jks98KSkmEbEcmBbZO+wYYENq36NzpZW45DFXoA3vuZK+CSwBXihon8d8OdiY9OhckTQMGAjcn0bmmkYlPwk8npabcuVMYEFk3gLKJbX6kGIXdd3LTuD7wDTgz4H/BFYCv0r/rgVeBYiIX0XEjmbtXwXmRMRk4BfAjcAAYEvBPtvIPil1JyXFJSLqImKTpN7A7cCPImI7H45B0/k7LvnMl7b8DdVLujZtuyO179G5Ai3GJY+5AiXGRdJU4KiIuKVZ+zzmy8HGpEfnClABXAd8FpgB/IukGrKRu6Zvrh5wrrio615WAT9JVfsqsk9Dc4GJEXEk8BrwN620Xwg8mpbvJbuUshXoX7BPf2Bze3e8g5UcF0mDyD45vxIR30ntC2PQdP6OSz7zpU1/QxFxNTAS+FtJR+JcAYrGJY+5AqXH5cvAsZIeA6YDcyV9gnzmy8HGpKfnynrgBxFRHxHvkY3mfRxoLDjWAeeKi7ru5UtkFT6SRpIN6a4Btqft68juhWrJrcDMtDwVeA54BjhLUqWkauAY4KUW2ndVJcVFUl+y+4HmRcQ1Be0XAxek5U8BT+K4QD7zpdSYnCvp39O6OrLL0Y04V1qKSx5zBUqMS0TMiogzImIK2YejKyNiBfnMl4ONSY/OFbLLqnen/foBx5KN5C2XNCXt25Qri4FpksokjQbKIqLV+XP9nLpuRFIFcBvZDZMB/B0wjOwG3DqyCn52RGwqaLM+Ioan5cOBeWQ3Xe4ALouIdcq+7fhnZEX+tyPi5x/ZSbWDUuOSfuYAKwqaX0o2bH472aegWmBWROxwXICc5UsbYrIV+Dey+3p6AT+OiFvS/TA9OVdaikuPfm9p9p57G3BnRDyYx3xph5j0+FyRdD1wGtkHorkR8QtJRwO3kF2eXQlcHhENkv6RrMgrA74eEYta7YeLOjMzM7Puz5dfzczMzHLARZ2ZmZlZDrioMzMzM8sBF3VmZmZmOeCizszMzCwHXNSZWYeQNEVSSPrjZutfTI84KOUYlZLeTMvXSxotaaCkpWk6nqtUyiTXWfvvSprdyvY3JVW2sn19YT9Kec0WjjNb0lvKJvN+Ik2XdO5+2hwn6ewSj39bivE+x1Q2afhTkp460P6bWddV3tkdMLNcexX4E+AuyIoT4JADOVBEXJGOcSbwbkTM3E+TDtHUj4N0R0RcBZCeZfaEpMkRsb6F/WeSPYn+iRKPf2VELGy+MiJWS/o8cOeBdNrMujaP1JlZR3oBGC1pYPr9i2RzIgIg6QuSlqWJredL6i2pn6RfSnoCuKlg38ckHU/28NuzJH0rjUpNT+1+nEa+FjU9mV3STEnLJS0ge9jnfjUdMy1Pbz6qmPoxXtIoSfdLeljS85I+m7a/KOnGNAL3WHpCfosiYgPwc+BCSQMk3Z1GIZ+X9BeSPkb24N9vSDpF0uR0jo9Lmqdszt6WzuXaNKr5tKT2KEbNrAtzUWdmHe2/gIskCTgFWAIgaQjwLeDciDiT7InrXyErYF6KiLOBHzY71h7gCmBhRMwpWH8ZUJvafAZomspqLtm0PNPIZg5pT+OB6yLi94G/Ar6a1g8AfpomLH+H7Gnw+7MBGAqMI3vy/vnAhcA3IuIdsifV/zOwjOyp8zMKjj+7leNeAswCzgZ2teXkzKz78eVXM+todwA3A2+QzWfY5Ajg5YjYln5/Ajg/LT8IEBFPS9pbwmscRzZ6d2r6vTxd1twaERsBJC1p3iiNIG6J302t03yKHbXymuuAf5D05dSucMRsefp3LdDifXoFxgDPk11ivULSDLIpuZqPwh0KjADuzmpk+gILWjnu54HvAMOBB0roh5l1Yx6pM7MOFRFvkN1H99fATwo2rQEmSGq6x24ysIrsPrzTASSdyL6FTTGvko2OTSEbGbsH2ARUSzo07XNykXaPAGMl9SWbLHs32TyNI9L2Sa285jXAf0TExcCjfLgALHn+RUkjyEYXfw18E1gaEV9M59B0zEay9+ta4G3gM+lcr02vXey4fYDPkd3TeC4wW9KYUvtlZt2PR+rM7KNwF3BxRKySdARARNRKmgM8KqkRWE02+XU9MF/SIrJibXcJx/8hcIukx8kuf94UEXskXQo8JOkDoNiI3zXAz8gKuavTuluBeZK+QFZktuQe4Ib0rdi1ZJdPSzVL0mlAA1nhdmlEfCDpfuDm9NobgfpUnD0HfI9sou+vAf8tqYxsNO+SYi8QEbvTea8gK3AXAG+RjQqaWQ7pd1cdzMysu0tf7LgzIh5sYfvYtL2kL46YWffhy69mZvkzt6Xn1OHHmZjllkfqzMzMzHLAI3VmZmZmOeCizszMzCwHXNSZmZmZ5YCLOjMzM7MccFFnZmZmlgMu6szMzMxy4P8AIxadYrtl3hIAAAAASUVORK5CYII=\n"
            ],
            "text/plain": [
              "<Figure size 720x792 with 1 Axes>"
            ]
          },
          "metadata": {}
        }
      ],
      "execution_count": 7,
=======
      "outputs": [],
      "execution_count": null,
>>>>>>> 225ac9b6f0ccd29728c7e2db2d35305a3e118bef
      "metadata": {
        "collapsed": false,
        "outputHidden": false,
        "inputHidden": false
      }
    },
    {
      "cell_type": "code",
      "source": [
        "def lag_int(time, order):\n",
        "    \"\"\"\n",
        "    Performs a lagrangian interpolate of order n\n",
        "    to more accurately determine the Earth-Bary distance at\n",
        "    a specific time.\n",
        "    \n",
        "    @param time :: desired time for which the distance should\n",
        "                   be calculated\n",
        "    @param order:: order of the lagrangian interpolate to be calculated\n",
        "    \n",
        "    @returns :: the interpolated coordinates and their associated errors\n",
        "    \"\"\"\n",
        "    \n",
        "    if order == 1:\n",
        "        raise RuntimeError(\"Order cannot be 1! Interpolate 1 point? What?\")\n",
        "        \n",
        "    idxs = np.where(np.logical_and(mjd_times <= time + order/2,\n",
        "                                   mjd_times >= time - order/2))\n",
        "    xvals = mjd_times[idxs]\n",
        "    yvals = distances[idxs]\n",
        "    interp = interpolate.lagrange(xvals, yvals)\n",
        "    coords, coords_errors = coord_interp(time, idxs, xvals)\n",
        "    \n",
        "    return coords, coords_errors\n",
        "\n",
        "def coord_interp(time, idxs, xvals):\n",
        "    \"\"\"\n",
        "    Performs a lagrangian interpolate of order n\n",
        "    to more accurately determine the Earth-Bary coordinate\n",
        "    at a specific time.\n",
        "    \n",
        "    @param time :: desired time for which the distance should\n",
        "                   be calculated\n",
        "    @param order :: order of the lagrangian interpolate to be calculated\n",
        "    \n",
        "    @returns :: the distance at the specified time and the error on it\n",
        "    \"\"\"\n",
        "    \n",
        "    coords = []\n",
        "    coords_errors = []\n",
        "    for i in range(0, 3):\n",
        "        yvals = []\n",
        "        for j in range(idxs[0][0], idxs[0][-1] + 1):\n",
        "            yvals.append(bary_coord[j][i])\n",
        "        \n",
        "        interp = interpolate.lagrange(xvals, yvals)\n",
        "        coords.append(interp(time))\n",
        "        coords_errors.append(residual(yvals))\n",
        "    \n",
        "    return coords, coords_errors\n",
        "\n",
        "def residual(yvals):\n",
        "    \"\"\"\n",
        "    Function that finds the delta in determining\n",
        "    the residuals of the lagrange interpolation formula.\n",
        "    \n",
        "    @param yvals :: the Bary-Earth distances of the interpolated\n",
        "                    points in the data\n",
        "    \n",
        "    @returns :: the error due to interpolation on the yvals data\n",
        "    \"\"\"\n",
        "    \n",
        "    order = len(yvals)\n",
        "    coeff = [0.125, 0.065, 0.042, 0.031, \n",
        "             0.024, 0.019, 0.016]\n",
        "    delta = yvals\n",
        "    \n",
        "    for i in range(0, order-1):        \n",
        "        delta = np.diff(delta)\n",
        "\n",
        "    error = coeff[order-2] * delta\n",
        "    \n",
        "    return error[0]"
      ],
      "outputs": [],
<<<<<<< HEAD
      "execution_count": 8,
=======
      "execution_count": null,
>>>>>>> 225ac9b6f0ccd29728c7e2db2d35305a3e118bef
      "metadata": {
        "scrolled": true
      }
    },
    {
      "cell_type": "markdown",
      "source": [
        "## 3. Compute Delays"
      ],
      "metadata": {}
    },
    {
      "cell_type": "code",
      "source": [
        "# Initialise some constants used throughout\n",
        "# All these constants are in SI except where specified otherwise\n",
        "pulsarpos = coord.SkyCoord(ra=\"05:34:31.93830\",\n",
        "                           dec=\"22:00:52.1758\", \n",
        "                           unit=(u.hourangle,u.deg))\n",
        "\n",
        "lovellpos = coord.EarthLocation.from_geodetic(lat=53.2369, lon=-2.3075)\n",
<<<<<<< HEAD
        "earth_radius = 6378100\n",
        "light_speed = 299792458"
      ],
      "outputs": [],
      "execution_count": 9,
=======
        "earth_radius = 6378100.\n",
        "light_speed = 299792458."
      ],
      "outputs": [],
      "execution_count": null,
>>>>>>> 225ac9b6f0ccd29728c7e2db2d35305a3e118bef
      "metadata": {
        "collapsed": false,
        "outputHidden": false,
        "inputHidden": false
      }
    },
<<<<<<< HEAD
    {
      "cell_type": "markdown",
      "source": [
        "### 3.1 Compute the Earth delay"
      ],
      "metadata": {}
    },
    {
      "cell_type": "code",
      "source": [
        "def earth_delay(times):\n",
        "    \"\"\"\n",
        "    Computes the earth delay in seconds for a set of ToAs.\n",
        "    \n",
        "    @param times :: array of ToAs\n",
        "    \n",
        "    @returns :: the Earth delay in seconds\n",
        "    \"\"\"\n",
        "    times = astrotime.Time(times, format='mjd')\n",
        "    altaz = pulsarpos.transform_to(coord.AltAz(obstime=times,\n",
        "                                               location=lovellpos))\n",
        "    # Get radians altitude\n",
        "    alt = coord.Angle(altaz.alt, u.radian)\n",
        "    earth_delay = earth_radius * np.sin(alt)/light_speed\n",
        "    \n",
        "    return earth_delay\n"
      ],
      "outputs": [],
      "execution_count": 10,
      "metadata": {}
    },
    {
=======
    {
      "cell_type": "markdown",
      "source": [
        "### 3.1 Compute the Earth delay"
      ],
      "metadata": {}
    },
    {
      "cell_type": "code",
      "source": [
        "def earth_delay(times):\n",
        "    \"\"\"\n",
        "    Computes the earth delay in seconds for a set of ToAs.\n",
        "    \n",
        "    @param times :: array of ToAs\n",
        "    \n",
        "    @returns :: the Earth delay in seconds\n",
        "    \"\"\"\n",
        "    times = astrotime.Time(times, format='mjd')\n",
        "    altaz = pulsarpos.transform_to(coord.AltAz(obstime=times,\n",
        "                                               location=lovellpos))\n",
        "    # Get radians altitude\n",
        "    alt = coord.Angle(altaz.alt, u.radian)\n",
        "    earth_delay = earth_radius * np.sin(alt)/light_speed\n",
        "    \n",
        "    return earth_delay\n"
      ],
      "outputs": [],
      "execution_count": null,
      "metadata": {}
    },
    {
>>>>>>> 225ac9b6f0ccd29728c7e2db2d35305a3e118bef
      "cell_type": "markdown",
      "source": [
        "### 3.2 Compute Barycentre Delay"
      ],
      "metadata": {}
    },
    {
      "cell_type": "code",
      "source": [
        "def bary_delay(times):\n",
        "    \"\"\"\n",
        "    Calculates the delay from the center of the Earth to the\n",
        "    barycenter.\n",
        "    \n",
        "    @param time :: time of pulse arrival\n",
        "    \n",
        "    @returns :: the delay from center of Earth to Barycenter\n",
        "    \"\"\"\n",
        "    \n",
        "    pulsarpos = coord.SkyCoord(ra=\"05:34:31.93830\",\n",
        "                               dec=\"22:00:52.1758\", \n",
        "                               unit=(u.hourangle,u.deg))\n",
        "    pulsarpos.representation = 'cartesian'\n",
        "    psr_unit = np.array([pulsarpos.x, pulsarpos.y, pulsarpos.z])\n",
        "    \n",
        "    delay = []\n",
        "    for i,time in enumerate(times):\n",
        "        coords, coords_error = lag_int(time, 3)\n",
        "        # AU per sec light speed\n",
        "        light_speed = 0.00200399 \n",
        "        delay.append(np.dot(coords, psr_unit)/light_speed)\n",
        "\n    return delay"
      ],
      "outputs": [],
<<<<<<< HEAD
      "execution_count": 11,
=======
      "execution_count": null,
>>>>>>> 225ac9b6f0ccd29728c7e2db2d35305a3e118bef
      "metadata": {}
    },
    {
      "cell_type": "markdown",
      "source": [
        "### 3.3 Barycenter Time"
      ],
      "metadata": {}
    },
    {
      "cell_type": "code",
      "source": [
        "crab1_edelay = earth_delay(crab1_toas[:,0])\n",
        "crab1_bdelay = bary_delay(crab1_toas[:,0])\n",
        "\n",
        "barycenter_time = crab1_toas[:,0] + (crab1_bdelay + crab1_edelay)/86400\n",
        "\nprint(barycenter_time)"
      ],
<<<<<<< HEAD
      "outputs": [
        {
          "output_type": "stream",
          "name": "stdout",
          "text": [
            "[58435.80726373 58435.81386166 58435.8208452  58435.82774318\n",
            " 58435.83469585 58435.84164071 58435.84858553 58435.85553044\n",
            " 58435.8622823  58435.8691498  58435.87640331 58435.88296295\n",
            " 58435.89061769 58435.89723789 58435.9038745  58435.91108933\n",
            " 58435.91768648 58435.92515213 58435.93192352 58435.93886838\n",
            " 58435.94569057 58435.95275772 58435.95969906 58435.96645757\n",
            " 58435.97386774 58435.98054068 58435.98749297 58435.99442689\n",
            " 58436.00137214 58436.00827794 58436.01525327 58436.02220478\n",
            " 58436.02906408 58436.03609567 58436.04302999 58436.04998579\n",
            " 58436.05720257 58436.06387512 58436.07070395 58436.07776485\n",
            " 58436.08443975 58436.09165418 58436.09859905 58436.10554391\n",
            " 58436.11248877 58436.11943364 58436.12641679 58436.13297604\n",
            " 58436.14061516 58436.14764714 58436.15415795 58436.16076018\n",
            " 58436.16804768 58436.17360287]\n"
          ]
        }
      ],
      "execution_count": 12,
=======
      "outputs": [],
      "execution_count": null,
>>>>>>> 225ac9b6f0ccd29728c7e2db2d35305a3e118bef
      "metadata": {
        "collapsed": false,
        "outputHidden": false,
        "inputHidden": false
      }
    },
    {
      "cell_type": "markdown",
      "source": [
        "## Residuals from a fixed period model\n",
        "\n"
      ],
      "metadata": {}
    },
    {
      "cell_type": "code",
      "source": [
<<<<<<< HEAD
        "\n\n",
=======
>>>>>>> 225ac9b6f0ccd29728c7e2db2d35305a3e118bef
        "def noRotation(period, times):\n",
        "    \"\"\"\n",
        "    Function calculates the number of rotations of the star\n",
        "    \n",
        "    @param t :: time of arrivals w.r.t barycenter\n",
        "    @param period_guess :: initial guess for the period of Crab pulsar\n",
        "    \n",
        "    @return n :: number of rotations of the pulsar\n",
        "    @return residual :: remainder of the n function\n",
        "    \"\"\"\n",
        "    # residuals calculation\n",
        "    relTime = (times-times[0])\n",
        "    n = relTime/period\n",
        "    residual = (relTime%period)\n",
        "    \n",
        "    # residuals before the first peak\n",
        "    peaks, _ = find_peaks(residual)\n",
        "    peak1 = peaks[0]\n",
        "    idxBeforePeak = np.where(relTime < relTime[peak1])\n",
        "    residual1 = residual[idxBeforePeak]\n",
        "    relTime1 = relTime[idxBeforePeak]\n",
        "    \n",
        "    # plots the residuals wrt TOA\n",
        "    plt.figure(figsize=(10,11))\n",
        "    plt.subplot(211)\n",
        "    plt.plot(relTime, residual, 'r-')\n",
        "    plt.plot(relTime[peaks], residual[peaks], 'b*')\n",
        "    plt.xlabel(\"Barycenter TOA [MJD]\")\n",
        "    plt.ylabel(\"Timing Residual\")\n",
        "    plt.title(\"TOA vs Residual\")\n",
        "    \n",
        "    # plots the residuals before 1st peak wrt TOA\n",
        "    plt.subplot(212)\n",
<<<<<<< HEAD
        "    plt.plot(relTime1,residual1)\n",
=======
        "    plt.plot()\n",
>>>>>>> 225ac9b6f0ccd29728c7e2db2d35305a3e118bef
        "    plt.xlabel(\"Barycenter TOA [MJD]\")\n",
        "    plt.ylabel(\"Timing Residual\")\n",
        "    plt.title(\"Points before 1st peak\")\n",
        "    plt.subplots_adjust(bottom=0.1, top=1.2)\n",
        "    \n",
        "    return n, residual, residual1, relTime1"
      ],
      "outputs": [],
<<<<<<< HEAD
      "execution_count": 59,
=======
      "execution_count": null,
>>>>>>> 225ac9b6f0ccd29728c7e2db2d35305a3e118bef
      "metadata": {}
    },
    {
      "cell_type": "code",
      "source": [
        "# guess period of the pulsar\n",
        "periodGuess = crab1_pest;\n",
        "print(periodGuess)\n",
        "\n",
        "# residaul and rotation values for the guess period\n",
        "n_, residual_, residual1_, reltime1_ = noRotation(periodGuess, barycenter_time)\n",
        "slope, _ = np.polyfit(reltime1_, residual1_, 1)\n",
        "\nprint('The slope is {0:.9f}'.format(slope))"
      ],
<<<<<<< HEAD
      "outputs": [
        {
          "output_type": "stream",
          "name": "stdout",
          "text": [
            "0.0337552412\n",
            "The slope is 1.000000000\n"
          ]
        },
        {
          "output_type": "display_data",
          "data": {
            "image/png": [
              "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\n"
            ],
            "text/plain": [
              "<Figure size 720x792 with 2 Axes>"
            ]
          },
          "metadata": {}
        }
      ],
      "execution_count": 61,
=======
      "outputs": [],
      "execution_count": null,
>>>>>>> 225ac9b6f0ccd29728c7e2db2d35305a3e118bef
      "metadata": {
        "collapsed": false,
        "outputHidden": false,
        "inputHidden": false,
        "outputExpanded": true
      }
<<<<<<< HEAD
    },
    {
      "cell_type": "code",
      "source": [],
      "outputs": [],
      "execution_count": 41,
      "metadata": {
        "collapsed": false,
        "outputHidden": false,
        "inputHidden": false
      }
    },
    {
      "cell_type": "code",
      "source": [],
      "outputs": [],
      "execution_count": 15,
      "metadata": {
        "collapsed": false,
        "outputHidden": false,
        "inputHidden": false
      }
=======
>>>>>>> 225ac9b6f0ccd29728c7e2db2d35305a3e118bef
    }
  ],
  "metadata": {
    "kernelspec": {
      "name": "python2",
      "language": "python",
      "display_name": "Python 2"
    },
    "language_info": {
      "mimetype": "text/x-python",
      "nbconvert_exporter": "python",
      "name": "python",
      "pygments_lexer": "ipython2",
<<<<<<< HEAD
      "version": "2.7.15",
=======
      "version": "2.7.15rc1",
>>>>>>> 225ac9b6f0ccd29728c7e2db2d35305a3e118bef
      "file_extension": ".py",
      "codemirror_mode": {
        "version": 2,
        "name": "ipython"
      }
    },
    "kernel_info": {
      "name": "python2"
    },
    "nteract": {
      "version": "0.12.3"
    }
  },
  "nbformat": 4,
  "nbformat_minor": 1
}
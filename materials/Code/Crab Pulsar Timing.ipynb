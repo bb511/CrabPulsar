{
  "cells": [
    {
      "cell_type": "markdown",
      "source": [
        "# Pulse arrival times from the Crab pulsar"
      ],
      "metadata": {}
    },
    {
      "cell_type": "code",
      "source": [
        "import os\n",
        "import numpy as np\n",
        "from __future__ import (division, absolute_import, print_function)\n",
        "from scipy import interpolate\n",
        "\n",
        "from astropy import coordinates as coord\n",
        "from astropy import units as u\n",
        "from astropy import constants as const\n",
        "from astropy import time as astrotime\n",
        "from astropy.time import Time\n",
        "\n",
        "from  matplotlib import pyplot as plt\n",
        "import matplotlib\n",
        "\n",
        "from math import pi\n",
        "\n",
        "%matplotlib inline\n",
        "\n",
        "font = {'family' : 'serif',\n",
        "        'weight' : 'normal',\n",
        "        'size'   : 12}\n",
        "matplotlib.rc('font', **font)"
      ],
      "outputs": [],
      "execution_count": 2,
      "metadata": {}
    },
    {
      "cell_type": "markdown",
      "source": [
        "## 1. Reading Data\n",
        "\n",
        "The ToAs are recorded as a time value in [Modified Julian Date](http://tycho.usno.navy.mil/mjd.html) (MJD). The error is recorded in microseconds.\n",
        "\nThe barytable has six columns: Firstly the year, month, day number, followed by x, y, z components of the vector in [astronomical units](https://en.wikipedia.org/wiki/Astronomical_unit). This table should be for the year your observations are recorded."
      ],
      "metadata": {}
    },
    {
      "cell_type": "code",
      "source": [
        "# Get the data directory path\n",
        "current_dir = os.getcwd()\n",
        "root_dir = os.path.abspath(os.path.join(current_dir, os.pardir))\n",
        "data_dir = os.path.join(root_dir, \"DataSP\")\n",
        "\n",
        "barytable_dir = os.path.join(data_dir, \"BaryTables\")\n",
        "toa_dir = os.path.join(data_dir, \"TOAs\")\n",
        "period_dir = os.path.join(data_dir, \"PeriodEstimates\")\n",
        "\n",
        "# Functions for reading data\n",
        "# --------------------------\n",
        "def load_barytable(file_name):\n",
        "    \"\"\"\n",
        "    Load the barytable file.\n",
        "    \n",
        "    @param file_name :: name of the file containing barytable data\n",
        "    \n",
        "    @returns :: arrays with year, month, day, xpos, ypos, zpos\n",
        "    \"\"\"\n",
        "    \n",
        "    file_name = file_name + '.asc'\n",
        "    data_file = os.path.join(barytable_dir, file_name)\n",
        "    barytable = np.loadtxt(data_file, unpack=True)\n",
        "    \n",
        "    return barytable\n",
        "\n",
        "def load_toas(file_name):\n",
        "    \"\"\"\n",
        "    Load the time of arrivals from file.\n",
        "    \n",
        "    @param file_name :: name of the file containing barytable data\n",
        "    \n",
        "    @returns :: array containing time of arrival\n",
        "    \"\"\"\n",
        "    \n",
        "    file_name = file_name + '.asc'\n",
        "    data_file = os.path.join(toa_dir, file_name)\n",
        "    toas = np.loadtxt(data_file, usecols=(2,3))\n",
        "    \n",
        "    return toas\n",
        "    \n",
        "def read_pest(file_name):\n",
        "    \"\"\"\n",
        "    Read the period estimate form file.\n",
        "    \n",
        "    @param file_name :: name of the file containing barytable data\n",
        "    \n",
        "    @returns :: float with the period estimate\n",
        "    \"\"\"\n",
        "    \n",
        "    file_name = file_name + '.asc'\n",
        "    data_file = os.path.join(period_dir, file_name)\n",
        "    with open(data_file) as dfile:\n",
        "        line = dfile.read()\n",
        "        \n",
        "    period = float(line[23:-8])\n",
        "    \n",
        "    return period"
      ],
      "outputs": [],
      "execution_count": 3,
      "metadata": {}
    },
    {
      "cell_type": "markdown",
      "source": [
        "### 1.1 Load All Data"
      ],
      "metadata": {}
    },
    {
      "cell_type": "code",
      "source": [
        "# Crab 1 data\n",
        "crab1_barytable = load_barytable('Crab1Barytable')\n",
        "crab1_toas = load_toas('Crab1ToAs')\n",
        "crab1_pest = read_pest('Crab1TEst')\n",
        "\n# Crab 2 data..."
      ],
      "outputs": [],
      "execution_count": 4,
      "metadata": {
        "collapsed": false,
        "outputHidden": false,
        "inputHidden": false
      }
    },
    {
      "cell_type": "markdown",
      "source": [
        "## 2. Interpolation of Barycenter\n"
      ],
      "metadata": {}
    },
    {
      "cell_type": "code",
      "source": [
        "def compose_date(years, months=1, days=1,\n",
        "                 hours=None, minutes=None, seconds=None,\n",
        "                 milliseconds=None):\n",
        "    \"\"\"\n",
        "    Converts array of years, months etc. into numpy64 date array.\n",
        "    \n",
        "    @param years :: array of years corresponding to each date\n",
        "    @param months :: array of months corresponding to each date\n",
        "    @param days :: array of days corresponding to each date\n",
        "    @param hours :: array of hours corresponding to each date\n",
        "    @param minutes :: array of minutes corresponding to each date\n",
        "    @param seconds :: array of seconds corresponding to each date\n",
        "    \n",
        "    @returns :: array of numpy64date format dates\n",
        "    \"\"\"\n",
        "    \n",
        "    years = np.asarray(years) - 1970\n",
        "    months = np.asarray(months) - 1\n",
        "    days = np.asarray(days) - 1\n",
        "    types = ('<M8[Y]', '<m8[M]', '<m8[D]', '<m8[h]',\n",
        "             '<m8[m]', '<m8[s]', '<m8[ms]')\n",
        "    vals = (years, months, days, hours, minutes, seconds, milliseconds)\n",
        "    return sum(np.asarray(v, dtype=t) for t, v in zip(types, vals)\n",
        "               if v is not None)\n",
        "\n",
        "def mjd_convert(raw_data):\n",
        "    \"\"\"\n",
        "    Converts normal dates from psrchive to modified julian dates.\n",
        "    \n",
        "    @param raw_data :: raw array of year, month, day as read from\n",
        "                       the data file on the barycentre\n",
        "                       \n",
        "    @returns :: modified julian date format times\n",
        "    \"\"\"\n",
        "    \n",
        "    dates = raw_data[:3]\n",
        "    midnights = np.zeros((4,len(dates[0])))\n",
        "    times_raw = np.concatenate((dates,midnights))\n",
        "    times = compose_date(times_raw[0], times_raw[1], times_raw[2],\n",
        "                         times_raw[3], times_raw[4], times_raw[5],\n",
        "                         times_raw[6])\n",
        "    converted_times =  Time(times.astype('string').tolist(), \n",
        "                            format='isot', scale='utc')\n",
        "    mjd_times = converted_times.mjd\n",
        "    \n",
        "    return mjd_times\n",
        "\n",
        "def bary_distance(raw_data):\n",
        "    \"\"\"\n",
        "    Computes the distance from the barycenter to Earth\n",
        "    on a particular day at a particular time.\n",
        "    \n",
        "    @param raw_data :: raw array of year, month, day as read from\n",
        "                       the data file on the barycentre\n",
        "                       \n",
        "    @returns :: magnitude of the x,y,z vector from the raw data\n",
        "    \"\"\"\n",
        "    \n",
        "    xyz = np.transpose(raw_data[3:])\n",
        "    dist = np.zeros(len(xyz))\n",
        "    for i, vect in enumerate(xyz):\n",
        "        dist[i] += np.sqrt(vect[0]**2 + vect[1]**2 + vect[2]**2)\n",
        "    \n",
        "    return dist"
      ],
      "outputs": [],
      "execution_count": 5,
      "metadata": {
        "collapsed": false,
        "outputHidden": false,
        "inputHidden": false
      }
    },
    {
      "cell_type": "code",
      "source": [
        "# Plot barycenter data\n",
        "mjd_times = mjd_convert(crab1_barytable)\n",
        "distances = bary_distance(crab1_barytable)\n",
        "bary_coord = np.transpose(crab1_barytable[3:])\n",
        "plt.figure(figsize=(12,12))\n",
        "plt.subplot(211)\n",
        "plt.plot(mjd_times, distances)\n",
        "plt.xlabel(\"Modified Julian Date [s]\")\n",
        "plt.ylabel(\"Distance [AU]\")\n",
        "plt.title(\"Earth-Barycentre Distance\")\n",
        "plt.subplots_adjust(bottom=0.1, top=0.9)"
      ],
      "outputs": [
        {
          "output_type": "display_data",
          "data": {
            "image/png": "[encoded data removed]",
            "text/plain": [
              "<Figure size 864x864 with 1 Axes>"
            ]
          },
          "metadata": {
            "needs_background": "light"
          }
        }
      ],
      "execution_count": 72,
      "metadata": {
        "collapsed": false,
        "outputHidden": false,
        "inputHidden": false
      }
    },
    {
      "cell_type": "code",
      "source": [
        "def lag_int(time, order):\n",
        "    \"\"\"\n",
        "    Performs a lagrangian interpolate of order n\n",
        "    to more accurately determine the Earth-Bary distance at\n",
        "    a specific time.\n",
        "    \n",
        "    @param time :: desired time for which the distance should\n",
        "                   be calculated\n",
        "    @param order:: order of the lagrangian interpolate to be calculated\n",
        "    \n",
        "    @returns :: the interpolated coordinates and their associated errors\n",
        "    \"\"\"\n",
        "    \n",
        "    if order == 1:\n",
        "        raise RuntimeError(\"Order cannot be 1! Interpolate 1 point? What?\")\n",
        "        \n",
        "    idxs = np.where(np.logical_and(mjd_times <= time + order/2,\n",
        "                                   mjd_times >= time - order/2))\n",
        "    xvals = mjd_times[idxs]\n",
        "    yvals = distances[idxs]\n",
        "    interp = interpolate.lagrange(xvals, yvals)\n",
        "    coords, coords_errors = coord_interp(time, idxs, xvals)\n",
        "    \n",
        "    return coords, coords_errors\n",
        "\n",
        "def coord_interp(time, idxs, xvals):\n",
        "    \"\"\"\n",
        "    Performs a lagrangian interpolate of order n\n",
        "    to more accurately determine the Earth-Bary coordinate\n",
        "    at a specific time.\n",
        "    \n",
        "    @param time :: desired time for which the distance should\n",
        "                   be calculated\n",
        "    @param order :: order of the lagrangian interpolate to be calculated\n",
        "    \n",
        "    @returns :: the distance at the specified time and the error on it\n",
        "    \"\"\"\n",
        "    \n",
        "    coords = []\n",
        "    coords_errors = []\n",
        "    for i in range(0, 3):\n",
        "        yvals = []\n",
        "        for j in range(idxs[0][0], idxs[0][-1] + 1):\n",
        "            yvals.append(bary_coord[j][i])\n",
        "        \n",
        "        interp = interpolate.lagrange(xvals, yvals)\n",
        "        coords.append(interp(time))\n",
        "        coords_errors.append(residual(yvals))\n",
        "    \n",
        "    return coords, coords_errors\n",
        "\n",
        "def residual(yvals):\n",
        "    \"\"\"\n",
        "    Function that finds the delta in determining\n",
        "    the residuals of the lagrange interpolation formula.\n",
        "    \n",
        "    @param yvals :: the Bary-Earth distances of the interpolated\n",
        "                    points in the data\n",
        "    \n",
        "    @returns :: the error due to interpolation on the yvals data\n",
        "    \"\"\"\n",
        "    \n",
        "    order = len(yvals)\n",
        "    coeff = [0.125, 0.065, 0.042, 0.031, \n",
        "             0.024, 0.019, 0.016]\n",
        "    delta = yvals\n",
        "    \n",
        "    for i in range(0, order-1):        \n",
        "        delta = np.diff(delta)\n",
        "\n",
        "    error = coeff[order-2] * delta\n",
        "    \n",
        "    return error[0]"
      ],
      "outputs": [],
      "execution_count": 99,
      "metadata": {
        "scrolled": true
      }
    },
    {
      "cell_type": "markdown",
      "source": [
        "## 3. Compute Delays"
      ],
      "metadata": {}
    },
    {
      "cell_type": "code",
      "source": [
        "# Initialise some constants used throughout\n",
        "# All these constants are in SI except where specified otherwise\n",
        "pulsarpos = coord.SkyCoord(ra=\"05:34:31.93830\",\n",
        "                           dec=\"22:00:52.1758\", \n",
        "                           unit=(u.hourangle,u.deg))\n",
        "\n",
        "lovellpos = coord.EarthLocation.from_geodetic(53.2369, -2.3075)\n",
        "earth_radius = 6378100\n",
        "light_speed = 299792458"
      ],
      "outputs": [],
      "execution_count": 105,
      "metadata": {
        "collapsed": false,
        "outputHidden": false,
        "inputHidden": false
      }
    },
    {
      "cell_type": "markdown",
      "source": [
        "### 3.1 Compute the Earth delay"
      ],
      "metadata": {}
    },
    {
      "cell_type": "code",
      "source": [
        "def earth_delay(times):\n",
        "    \"\"\"\n",
        "    Computes the earth delay in seconds for a set of ToAs.\n",
        "    \n",
        "    @param times :: array of ToAs\n",
        "    \n",
        "    @returns :: the Earth delay in seconds\n",
        "    \"\"\"\n",
        "    times = astrotime.Time(times, format='mjd')\n",
        "    altaz = pulsarpos.transform_to(coord.AltAz(obstime=times,\n",
        "                                               location=lovellpos))\n",
        "    # Get radians altitude\n",
        "    alt = coord.Angle(altaz.alt, u.radian)\n",
        "    earth_delay = earth_radius * np.sin(alt)/light_speed\n",
        "    \n",
        "    return earth_delay"
      ],
      "outputs": [],
      "execution_count": 106,
      "metadata": {}
    },
    {
      "cell_type": "markdown",
      "source": [
        "### 3.2 Compute Barycentre Delay"
      ],
      "metadata": {}
    },
    {
      "cell_type": "code",
      "source": [
        "def bary_delay(times):\n",
        "    \"\"\"\n",
        "    Calculates the delay from the center of the Earth to the\n",
        "    barycenter.\n",
        "    \n",
        "    @param time :: time of pulse arrival\n",
        "    \n",
        "    @returns :: the delay from center of Earth to Barycenter\n",
        "    \"\"\"\n",
        "    \n",
        "    pulsarpos = coord.SkyCoord(ra=\"05:34:31.93830\",\n",
        "                               dec=\"22:00:52.1758\", \n",
        "                               unit=(u.hourangle,u.deg))\n",
        "    pulsarpos.representation = 'cartesian'\n",
        "    psr_unit = np.array([pulsarpos.x, pulsarpos.y, pulsarpos.z])\n",
        "    \n",
        "    delay = []\n",
        "    for i,time in enumerate(times):\n",
        "        coords, coords_error = lag_int(time, 3)\n",
        "        # AU per sec light speed\n",
        "        light_speed = 0.00200399 \n",
        "        delay.append(np.dot(coords, psr_unit)/light_speed)\n",
        "\n    return delay"
      ],
      "outputs": [],
      "execution_count": 107,
      "metadata": {}
    },
    {
      "cell_type": "markdown",
      "source": [
        "### 3.3 Barycenter Time"
      ],
      "metadata": {}
    },
    {
      "cell_type": "code",
      "source": [
        "crab1_edelay = earth_delay(crab1_toas[:,0])\n",
        "crab1_bdelay = bary_delay(crab1_toas[:,0])\n",
        "\nbarycenter_time = crab1_toas[:,0] + crab1_bdelay + crab1_edelay"
      ],
      "outputs": [],
      "execution_count": 110,
      "metadata": {
        "collapsed": false,
        "outputHidden": false,
        "inputHidden": false
      }
    },
    {
      "cell_type": "markdown",
      "source": [
        "## Residuals from a fixed period model\n",
        "\n"
      ],
      "metadata": {}
    },
    {
      "cell_type": "code",
      "source": [
        "#Find out a suitable guess period for your dataset using the instructions in the lab script\n",
        "period_guess = XXXX \n",
        "\n\n",
        "# residual = \n",
        "\n# Do fitting (try the polyfit routine in numpy)"
      ],
      "outputs": [
        {
          "output_type": "error",
          "ename": "NameError",
          "evalue": "name 'XXXX' is not defined",
          "traceback": [
            "\u001b[0;31m\u001b[0m",
            "\u001b[0;31mNameError\u001b[0mTraceback (most recent call last)",
            "\u001b[0;32m<ipython-input-10-b5ee23b8aa80>\u001b[0m in \u001b[0;36m<module>\u001b[0;34m()\u001b[0m\n\u001b[1;32m      1\u001b[0m \u001b[0;31m#Find out a suitable guess period for your dataset using the instructions in the lab script\u001b[0m\u001b[0;34m\u001b[0m\u001b[0;34m\u001b[0m\u001b[0m\n\u001b[0;32m----> 2\u001b[0;31m \u001b[0mperiod_guess\u001b[0m \u001b[0;34m=\u001b[0m \u001b[0mXXXX\u001b[0m\u001b[0;34m\u001b[0m\u001b[0m\n\u001b[0m\u001b[1;32m      3\u001b[0m \u001b[0;34m\u001b[0m\u001b[0m\n\u001b[1;32m      4\u001b[0m \u001b[0;34m\u001b[0m\u001b[0m\n\u001b[1;32m      5\u001b[0m \u001b[0;31m# residual =\u001b[0m\u001b[0;34m\u001b[0m\u001b[0;34m\u001b[0m\u001b[0m\n",
            "\u001b[0;31mNameError\u001b[0m: name 'XXXX' is not defined"
          ]
        }
      ],
      "execution_count": 10,
      "metadata": {}
    }
  ],
  "metadata": {
    "kernelspec": {
      "name": "python2",
      "language": "python",
      "display_name": "Python 2"
    },
    "language_info": {
      "mimetype": "text/x-python",
      "nbconvert_exporter": "python",
      "name": "python",
      "pygments_lexer": "ipython2",
      "version": "2.7.15rc1",
      "file_extension": ".py",
      "codemirror_mode": {
        "version": 2,
        "name": "ipython"
      }
    },
    "kernel_info": {
      "name": "python2"
    },
    "nteract": {
      "version": "0.12.3"
    }
  },
  "nbformat": 4,
  "nbformat_minor": 1
}
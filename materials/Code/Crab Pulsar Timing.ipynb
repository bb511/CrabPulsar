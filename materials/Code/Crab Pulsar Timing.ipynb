{
  "cells": [
    {
      "cell_type": "markdown",
      "source": [
        "# Pulse arrival times from the Crab pulsar"
      ],
      "metadata": {}
    },
    {
      "cell_type": "code",
      "source": [
        "import os\n",
        "import numpy as np\n",
        "from __future__ import (division, absolute_import, print_function)\n",
        "from scipy import interpolate\n",
        "\n",
        "from astropy import coordinates as coord\n",
        "from astropy import units as u\n",
        "from astropy import constants as const\n",
        "from astropy import time as astrotime\n",
        "from astropy.time import Time\n",
        "\n",
        "from  matplotlib import pyplot as plt\n",
        "import matplotlib\n",
        "\n",
        "from math import pi\n",
        "\n",
        "%matplotlib inline\n",
        "\n",
        "font = {'family' : 'serif',\n",
        "        'weight' : 'normal',\n",
        "        'size'   : 12}\n",
        "matplotlib.rc('font', **font)"
      ],
      "outputs": [],
      "execution_count": 39,
      "metadata": {}
    },
    {
      "cell_type": "markdown",
      "source": [
        "## 1. Reading the input data\n",
        "\n",
        "The ToAs are recorded as a time value in [Modified Julian Date](http://tycho.usno.navy.mil/mjd.html) (MJD). The error is recorded in microseconds.\n",
        "\nThe barytable has six columns: Firstly the year, month, day number, followed by x, y, z components of the vector in [astronomical units](https://en.wikipedia.org/wiki/Astronomical_unit). This table should be for the year your observations are recorded."
      ],
      "metadata": {}
    },
    {
      "cell_type": "code",
      "source": [
        "# Get the data directory path\n",
        "current_dir = os.getcwd()\n",
        "root_dir = os.path.abspath(os.path.join(current_dir, os.pardir))\n",
        "data_dir = os.path.join(root_dir, \"DataSP\")\n",
        "\n",
        "barytable_dir = os.path.join(data_dir, \"BaryTables\")\n",
        "toa_dir = os.path.join(data_dir, \"TOAs\")\n",
        "period_dir = os.path.join(data_dir, \"PeriodEstimates\")\n",
        "\n",
        "# Functions for reading data\n",
        "# --------------------------\n",
        "def load_barytable(file_name):\n",
        "    \"\"\"\n",
        "    Load the barytable file.\n",
        "    \n",
        "    @param file_name :: name of the file containing barytable data\n",
        "    \n",
        "    @returns :: arrays with year, month, day, xpos, ypos, zpos\n",
        "    \"\"\"\n",
        "    \n",
        "    file_name = file_name + '.asc'\n",
        "    data_file = os.path.join(barytable_dir, file_name)\n",
        "    barytable = np.loadtxt(data_file, unpack=True)\n",
        "    \n",
        "    return barytable\n",
        "\n",
        "def load_toas(file_name):\n",
        "    \"\"\"\n",
        "    Load the time of arrivals from file.\n",
        "    \n",
        "    @param file_name :: name of the file containing barytable data\n",
        "    \n",
        "    @returns :: array containing time of arrival\n",
        "    \"\"\"\n",
        "    \n",
        "    file_name = file_name + '.asc'\n",
        "    data_file = os.path.join(toa_dir, file_name)\n",
        "    toas = np.loadtxt(data_file, usecols=(2,3))\n",
        "    \n",
        "    return toas\n",
        "    \n",
        "def read_pest(file_name):\n",
        "    \"\"\"\n",
        "    Read the period estimate form file.\n",
        "    \n",
        "    @param file_name :: name of the file containing barytable data\n",
        "    \n",
        "    @returns :: float with the period estimate\n",
        "    \"\"\"\n",
        "    \n",
        "    file_name = file_name + '.asc'\n",
        "    data_file = os.path.join(period_dir, file_name)\n",
        "    with open(data_file) as dfile:\n",
        "        line = dfile.read()\n",
        "        \n",
        "    period = float(line[23:-8])\n",
        "    \n",
        "    return period"
      ],
      "outputs": [],
      "execution_count": 2,
      "metadata": {}
    },
    {
      "cell_type": "code",
      "source": [
        "# Crab 1 data\n",
        "crab1_barytable = load_barytable('Crab1Barytable')\n",
        "crab1_toas = load_toas('Crab1ToAs')\n",
        "crab1_pest = read_pest('Crab1TEst')"
      ],
      "outputs": [],
      "execution_count": 4,
      "metadata": {
        "collapsed": false,
        "outputHidden": false,
        "inputHidden": false
      }
    },
    {
      "cell_type": "markdown",
      "source": [
        "## 2. Interpolation of Barycenter\n"
      ],
      "metadata": {}
    },
    {
      "cell_type": "code",
      "source": [
        "def compose_date(years, months=1, days=1,\n",
        "                 hours=None, minutes=None, seconds=None,\n",
        "                 milliseconds=None):\n",
        "    \"\"\"\n",
        "    Converts array of years, months etc. into numpy64 date array.\n",
        "    \n",
        "    @param years :: array of years corresponding to each date\n",
        "    @param months :: array of months corresponding to each date\n",
        "    @param days :: array of days corresponding to each date\n",
        "    @param hours :: array of hours corresponding to each date\n",
        "    @param minutes :: array of minutes corresponding to each date\n",
        "    @param seconds :: array of seconds corresponding to each date\n",
        "    \n",
        "    @returns :: array of numpy64date format dates\n",
        "    \"\"\"\n",
        "    \n",
        "    years = np.asarray(years) - 1970\n",
        "    months = np.asarray(months) - 1\n",
        "    days = np.asarray(days) - 1\n",
        "    types = ('<M8[Y]', '<m8[M]', '<m8[D]', '<m8[h]',\n",
        "             '<m8[m]', '<m8[s]', '<m8[ms]')\n",
        "    vals = (years, months, days, hours, minutes, seconds, milliseconds)\n",
        "    return sum(np.asarray(v, dtype=t) for t, v in zip(types, vals)\n",
        "               if v is not None)\n",
        "\n",
        "def mjd_convert(raw_data):\n",
        "    \"\"\"\n",
        "    Converts normal dates from psrchive to modified julian dates.\n",
        "    \n",
        "    @param raw_data :: raw array of year, month, day as read from\n",
        "                       the data file on the barycentre\n",
        "                       \n",
        "    @returns :: modified julian date format times\n",
        "    \"\"\"\n",
        "    \n",
        "    dates = raw_data[:3]\n",
        "    midnights = np.zeros((4,len(dates[0])))\n",
        "    times_raw = np.concatenate((dates,midnights))\n",
        "    times = compose_date(times_raw[0], times_raw[1], times_raw[2],\n",
        "                         times_raw[3], times_raw[4], times_raw[5],\n",
        "                         times_raw[6])\n",
        "    converted_times =  Time(times.astype('string').tolist(), \n",
        "                            format='isot', scale='utc')\n",
        "    mjd_times = converted_times.mjd\n",
        "    \n",
        "    return mjd_times\n",
        "\n",
        "def bary_distance(raw_data):\n",
        "    \"\"\"\n",
        "    Computes the distance from the barycenter to Earth\n",
        "    on a particular day at a particular time.\n",
        "    \n",
        "    @param raw_data :: raw array of year, month, day as read from\n",
        "                       the data file on the barycentre\n",
        "                       \n",
        "    @returns :: magnitude of the x,y,z vector from the raw data\n",
        "    \"\"\"\n",
        "    \n",
        "    xyz = np.transpose(raw_data[3:])\n",
        "    dist = np.zeros(len(xyz))\n",
        "    for i, vect in enumerate(xyz):\n",
        "        dist[i] += np.sqrt(vect[0]**2 + vect[1]**2 + vect[2]**2)\n",
        "    \n",
        "    return dist"
      ],
      "outputs": [],
      "execution_count": 47,
      "metadata": {
        "collapsed": false,
        "outputHidden": false,
        "inputHidden": false
      }
    },
    {
      "cell_type": "code",
      "source": [
        "# Plot barycenter data\n",
        "mjd_times = mjd_convert(crab1_barytable)\n",
        "distances = bary_distance(crab1_barytable)\n",
        "\n",
        "plt.figure(figsize=(12,12))\n",
        "plt.subplot(211)\n",
        "plt.plot(mjd_times, distances)\n",
        "plt.xlabel(\"Modified Julian Date [s]\")\n",
        "plt.ylabel(\"Distance [AU]\")\n",
        "plt.title(\"Earth-Barycentre Distance\")\n",
        "plt.subplots_adjust(bottom=0.1, top=0.9)"
      ],
      "outputs": [
        {
          "output_type": "display_data",
          "data": {
            "image/png": "[encoded data removed]",
            "text/plain": [
              "<Figure size 864x864 with 1 Axes>"
            ]
          },
          "metadata": {
            "needs_background": "light"
          }
        }
      ],
      "execution_count": 57,
      "metadata": {
        "collapsed": false,
        "outputHidden": false,
        "inputHidden": false
      }
    },
    {
      "cell_type": "code",
      "source": [
        "def lag_interpolate(time, n):\n",
        "    \"\"\"\n",
        "    Performs a lagrangian interpolate of order n\n",
        "    to more accurately determine the Earth-Bary distance at\n",
        "    a specific time.\n",
        "    \n",
        "    @param time :: desired time for which the distance should\n",
        "                   be calculated\n",
        "    @param n :: order of the lagrangian interpolate to be calculated\n",
        "    \n",
        "    @returns :: the distance at the specified time and the error on it\n",
        "    \"\"\"\n",
        "    idxs = np.where(np.logical_and(mjd_convert <= time + n/2,\n",
        "                                   mjd_convert >= time - n/2))\n",
        "    \n",
        "    xvals = mjd_times[idxs]\n",
        "    yvals = distances[idxs]\n",
        "    \n",
        "    interp = interpolate.lagrange(xvals, yvals)\n",
        "    return interp(times)"
      ],
      "outputs": [],
      "execution_count": 58,
      "metadata": {
        "scrolled": true
      }
    },
    {
      "cell_type": "markdown",
      "source": [
        "## 3. Compute the Earth delay\n",
        "\n",
        "The following libraries have been imported for your convinience:\n",
        " * ``astropy.coordinate`` has been imported as ``coord``\n",
        " * ``astropy.time`` has been imported as ``astrotime``\n",
        " "
      ],
      "metadata": {}
    },
    {
      "cell_type": "code",
      "source": [
        "# Insert the position of the crab pulsar here!\n",
        "pulsarpos = coord.SkyCoord(ra=\"01:23:45.6\",dec=\"12:34:56.7\",unit=(u.hourangle,u.deg))\n",
        "\n",
        "#lovellpos = coord.EarthLocation(...)\n",
        "\n",
        "#times = astrotime.Time(...)\n",
        "\n",
        "# To compute the angle between the pulsar and the earth we can use astropy to tell us the elevation angle to the pulsar.\n",
        "# First Transform the coordinate system to an Alt-Az system. This needs the location of the telescope and the times\n",
        "# of the observation.\n",
        "# altaz = pulsarpos.transform_to(coord.AltAz(obstime=times,location=lovellpos))\n",
        "\n\n# earth_delay = ..."
      ],
      "outputs": [],
      "execution_count": null,
      "metadata": {}
    },
    {
      "cell_type": "markdown",
      "source": [
        "## Compute the Roemer delay\n",
        "\n",
        "This is the delay corresponding to the distance of the centre of the Earth to the barycentre.\n"
      ],
      "metadata": {}
    },
    {
      "cell_type": "code",
      "source": [
        "# psr_x = ...\n",
        "# psr_y = ...\n",
        "# psr_z = ...\n",
        "\n# roemer_delay = ..."
      ],
      "outputs": [],
      "execution_count": null,
      "metadata": {}
    },
    {
      "cell_type": "markdown",
      "source": [
        "## Residuals from a fixed period model\n",
        "\n"
      ],
      "metadata": {}
    },
    {
      "cell_type": "code",
      "source": [
        "#Find out a suitable guess period for your dataset using the instructions in the lab script\n",
        "period_guess = XXXX \n",
        "\n\n",
        "# residual = \n",
        "\n# Do fitting (try the polyfit routine in numpy)"
      ],
      "outputs": [],
      "execution_count": null,
      "metadata": {}
    }
  ],
  "metadata": {
    "kernelspec": {
      "name": "python2",
      "language": "python",
      "display_name": "Python 2"
    },
    "language_info": {
      "mimetype": "text/x-python",
      "nbconvert_exporter": "python",
      "name": "python",
      "pygments_lexer": "ipython2",
      "version": "2.7.15rc1",
      "file_extension": ".py",
      "codemirror_mode": {
        "version": 2,
        "name": "ipython"
      }
    },
    "kernel_info": {
      "name": "python2"
    },
    "nteract": {
      "version": "0.12.3"
    }
  },
  "nbformat": 4,
  "nbformat_minor": 1
}
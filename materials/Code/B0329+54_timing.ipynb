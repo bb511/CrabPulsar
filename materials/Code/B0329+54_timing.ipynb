{
  "cells": [
    {
      "cell_type": "markdown",
      "source": [
        "# Pulse Arrival Analysis"
      ],
      "metadata": {}
    },
    {
      "cell_type": "code",
      "source": [
        "import os\n",
        "import numpy as np\n",
        "from numpy.polynomial.polynomial import Polynomial\n",
        "from __future__ import (division, absolute_import, print_function)\n",
        "from scipy import interpolate\n",
        "\n",
        "from astropy import coordinates as coord\n",
        "from astropy import units as u\n",
        "from astropy import constants as const\n",
        "from astropy import time as astrotime\n",
        "from astropy.time import Time\n",
        "from scipy.signal import find_peaks\n",
        "\n",
        "from  matplotlib import pyplot as plt\n",
        "import matplotlib\n",
        "\n",
        "from math import pi\n",
        "\n",
        "def deg2rads(dec_string):\n",
        "    dec_array = dec_string.split(':')\n",
        "    dec_rads = (np.abs(float(dec_array[0])) + float(dec_array[1])/60 +\n",
        "                float(dec_array[2])/3600)*np.sign(float(dec_array[0]))*np.pi/180\n",
        "    \n",
        "    return dec_rads\n",
        "\n",
        "def ha2rads(ra_string):\n",
        "    ra_array = ra_string.split(':')\n",
        "    ra_rads = (float(ra_array[0])*15 + float(ra_array[1])*0.25 + \n",
        "               float(ra_array[2])*0.004166)*np.pi/180\n",
        "    \n",
        "    return ra_rads\n",
        "\n",
        "%matplotlib inline\n",
        "\n",
        "font = {'family' : 'arial',\n",
        "        'weight' : 'normal',\n",
        "        'size'   : 20}\n",
        "matplotlib.rc('font', **font)\n",
        "\n",
        "# Errors are in milliseconds\n",
        "pulsar_name = 'B0329+54'\n",
        "\n",
        "pulsar_ra = \"03:32:59.368\"\n",
        "pulsar_ra_error = 5\n",
        "\n",
        "pulsar_dec = \"54:34:43.57\"\n",
        "pulsar_dec_error = 70\n",
        "\n",
        "dec = deg2rads(pulsar_dec)\n",
        "ra = ha2rads(pulsar_ra)"
      ],
      "outputs": [],
      "execution_count": 2,
      "metadata": {}
    },
    {
      "cell_type": "markdown",
      "source": [
        "## 1. Reading Data\n",
        "\n",
        "The ToAs are recorded as a time value in [Modified Julian Date](http://tycho.usno.navy.mil/mjd.html) (MJD). The error is recorded in microseconds.\n",
        "\nThe barytable has six columns: Firstly the year, month, day number, followed by x, y, z components of the vector in [astronomical units](https://en.wikipedia.org/wiki/Astronomical_unit). This table should be for the year your observations are recorded."
      ],
      "metadata": {}
    },
    {
      "cell_type": "code",
      "source": [
        "# Get the data directory path\n",
        "current_dir = os.getcwd()\n",
        "root_dir = os.path.abspath(os.path.join(current_dir, os.pardir))\n",
        "data_dir = os.path.join(root_dir, \"Data\")\n",
        "\n",
        "barytable_dir = os.path.join(data_dir, \"BaryTables\")\n",
        "toa_dir = os.path.join(data_dir, \"TOAs\")\n",
        "period_dir = os.path.join(data_dir, \"PeriodEstimates\")\n",
        "\n",
        "save_data_dir = os.path.join(data_dir, \"PeriodFitData\")\n",
        "\n",
        "# -----------------------------------------------------\n",
        "# Functions for reading data\n",
        "def load_barytable(file_name):\n",
        "    \"\"\"\n",
        "    Load the barytable file.\n",
        "    \n",
        "    @param file_name :: name of the file containing barytable data\n",
        "    \n",
        "    @returns :: arrays with year, month, day, xpos, ypos, zpos\n",
        "    \"\"\"\n",
        "    \n",
        "    file_name = file_name + '.asc'\n",
        "    data_file = os.path.join(barytable_dir, file_name)\n",
        "    barytable = np.loadtxt(data_file, unpack=True)\n",
        "    \n",
        "    return barytable\n",
        "\n",
        "def load_toas(file_name):\n",
        "    \"\"\"\n",
        "    Load the time of arrivals from file.\n",
        "    \n",
        "    @param file_name :: name of the file containing barytable data\n",
        "    \n",
        "    @returns :: array containing time of arrival\n",
        "    \"\"\"\n",
        "    \n",
        "    file_name = file_name + '.asc'\n",
        "    data_file = os.path.join(toa_dir, file_name)\n",
        "    toas = np.loadtxt(data_file, usecols=(2,3))\n",
        "    \n",
        "    return toas\n",
        "    \n",
        "def read_pest(file_name):\n",
        "    \"\"\"\n",
        "    Read the period estimate form file.\n",
        "    \n",
        "    @param file_name :: name of the file containing barytable data\n",
        "    \n",
        "    @returns :: float with the period estimate\n",
        "    \"\"\"\n",
        "    \n",
        "    file_name = file_name + '.asc'\n",
        "    data_file = os.path.join(period_dir, file_name)\n",
        "    with open(data_file) as dfile:\n",
        "        line = dfile.read()\n",
        "        \n",
        "    period = float(line[23:-8])\n",
        "    \n",
        "    return period"
      ],
      "outputs": [],
      "execution_count": 3,
      "metadata": {}
    },
    {
      "cell_type": "markdown",
      "source": [
        "## 2. Interpolation of Barycenter\n"
      ],
      "metadata": {}
    },
    {
      "cell_type": "code",
      "source": [
        "def compose_date(years, months=1, days=1,\n",
        "                 hours=None, minutes=None, seconds=None,\n",
        "                 milliseconds=None):\n",
        "    \"\"\"\n",
        "    Converts array of years, months etc. into numpy64 date array.\n",
        "    \n",
        "    @param years :: array of years corresponding to each date\n",
        "    @param months :: array of months corresponding to each date\n",
        "    @param days :: array of days corresponding to each date\n",
        "    @param hours :: array of hours corresponding to each date\n",
        "    @param minutes :: array of minutes corresponding to each date\n",
        "    @param seconds :: array of seconds corresponding to each date\n",
        "    \n",
        "    @returns :: array of numpy64date format dates\n",
        "    \"\"\"\n",
        "    \n",
        "    years = np.asarray(years) - 1970\n",
        "    months = np.asarray(months) - 1\n",
        "    days = np.asarray(days) - 1\n",
        "    types = ('<M8[Y]', '<m8[M]', '<m8[D]', '<m8[h]',\n",
        "             '<m8[m]', '<m8[s]', '<m8[ms]')\n",
        "    vals = (years, months, days, hours, minutes, seconds, milliseconds)\n",
        "    return sum(np.asarray(v, dtype=t) for t, v in zip(types, vals)\n",
        "               if v is not None)\n",
        "\n",
        "def mjd_convert(raw_data):\n",
        "    \"\"\"\n",
        "    Converts normal dates from psrchive to modified julian dates.\n",
        "    \n",
        "    @param raw_data :: raw array of year, month, day as read from\n",
        "                       the data file on the barycentre\n",
        "                       \n",
        "    @returns :: modified julian date format times\n",
        "    \"\"\"\n",
        "    \n",
        "    dates = raw_data[:3]\n",
        "    midnights = np.zeros((4,len(dates[0])))\n",
        "    times_raw = np.concatenate((dates,midnights))\n",
        "    times = compose_date(times_raw[0], times_raw[1], times_raw[2],\n",
        "                         times_raw[3], times_raw[4], times_raw[5],\n",
        "                         times_raw[6])\n",
        "    converted_times =  Time(times.astype('string').tolist(), \n",
        "                            format='isot', scale='utc')\n",
        "    mjd_times = converted_times.mjd\n",
        "    \n",
        "    return mjd_times\n",
        "\n",
        "def bary_distance(raw_data):\n",
        "    \"\"\"\n",
        "    Computes the distance from the barycenter to Earth\n",
        "    on a particular day at a particular time.\n",
        "    \n",
        "    @param raw_data :: raw array of year, month, day as read from\n",
        "                       the data file on the barycentre\n",
        "                       \n",
        "    @returns :: magnitude of the x,y,z vector from the raw data\n",
        "    \"\"\"\n",
        "    \n",
        "    xyz = np.transpose(raw_data[3:])\n",
        "    dist = np.zeros(len(xyz))\n",
        "    for i, vect in enumerate(xyz):\n",
        "        dist[i] += np.sqrt(vect[0]**2 + vect[1]**2 + vect[2]**2)\n",
        "    \n",
        "    return dist"
      ],
      "outputs": [],
      "execution_count": 4,
      "metadata": {
        "collapsed": false,
        "outputHidden": false,
        "inputHidden": false
      }
    },
    {
      "cell_type": "code",
      "source": [
        "def lag_int(time, order):\n",
        "    \"\"\"\n",
        "    Performs a lagrangian interpolate of order n\n",
        "    to more accurately determine the Earth-Bary distance at\n",
        "    a specific time.\n",
        "    \n",
        "    @param time :: desired time for which the distance should\n",
        "                   be calculated\n",
        "    @param order:: order of the lagrangian interpolate to be calculated\n",
        "    \n",
        "    @returns :: the interpolated coordinates and their associated errors\n",
        "    \"\"\"\n",
        "    \n",
        "    if order == 1:\n",
        "        raise RuntimeError(\"Order cannot be 1! Interpolate 1 point? What?\")\n",
        "        \n",
        "    idxs = np.where(np.logical_and(mjd_times <= time + order/2,\n",
        "                                   mjd_times >= time - order/2))\n",
        "    xvals = mjd_times[idxs]\n",
        "    yvals = distances[idxs]\n",
        "    coords, interp_errors = coord_interp(time, idxs, xvals)\n",
        "    \n",
        "    return coords, interp_errors\n",
        "\n",
        "def coord_interp(time, idxs, xvals):\n",
        "    \"\"\"\n",
        "    Performs a lagrangian interpolate of order n\n",
        "    to more accurately determine the Earth-Bary coordinate\n",
        "    at a specific time.\n",
        "    \n",
        "    @param time :: desired time for which the distance should\n",
        "                   be calculated\n",
        "    @param order :: order of the lagrangian interpolate to be calculated\n",
        "    \n",
        "    @returns :: the distance at the specified time and the error on it\n",
        "    \"\"\"\n",
        "    \n",
        "    coords = []\n",
        "    coords_errors = []\n",
        "    interp_errors = []\n",
        "    for i in range(0, 3):\n",
        "        yvals = []\n",
        "        for j in range(idxs[0][0], idxs[0][-1] + 1):\n",
        "            yvals.append(bary_coord[j][i])\n",
        "        \n",
        "        interp = interpolate.lagrange(xvals, yvals)\n",
        "\n",
        "        coords.append(interp(time))\n",
        "        interp_errors.append(residual(yvals))\n",
        "    \n",
        "    return coords, interp_errors\n",
        "\n",
        "def residual(yvals):\n",
        "    \"\"\"\n",
        "    Function that finds the delta in determining\n",
        "    the residuals of the lagrange interpolation formula.\n",
        "    \n",
        "    @param yvals :: the Bary-Earth distances of the interpolated\n",
        "                    points in the data\n",
        "    \n",
        "    @returns :: the error due to interpolation on the yvals data\n",
        "    \"\"\"\n",
        "    \n",
        "    order = len(yvals)\n",
        "    coeff = [0.125, 0.065, 0.042, 0.031, \n",
        "             0.024, 0.019, 0.016]\n",
        "    delta = yvals\n",
        "    \n",
        "    for i in range(0, order-1):        \n",
        "        delta = np.diff(delta)\n",
        "\n",
        "    error = coeff[order-2] * delta\n",
        "    \n",
        "    return error[0]"
      ],
      "outputs": [],
      "execution_count": 5,
      "metadata": {
        "scrolled": true
      }
    },
    {
      "cell_type": "markdown",
      "source": [
        "## 3. Delays"
      ],
      "metadata": {}
    },
    {
      "cell_type": "code",
      "source": [
        "# Initialise some constants used throughout\n",
        "# All these constants are in SI except where specified otherwise\n",
        "pulsarpos = coord.SkyCoord(ra=pulsar_ra,\n",
        "                           dec=pulsar_dec,\n",
        "                           unit=(u.hourangle,u.deg))\n",
        "\n",
        "lat = 53.2369*np.pi/180\n",
        "lon = -2.3075*np.pi/180\n",
        "\n",
        "lovellpos = coord.EarthLocation.from_geodetic(lat=53.2369, lon=-2.3075)\n",
        "earth_radius = 6378100.\n",
        "light_speed = 299792458."
      ],
      "outputs": [],
      "execution_count": 6,
      "metadata": {
        "collapsed": false,
        "outputHidden": false,
        "inputHidden": false
      }
    },
    {
      "cell_type": "markdown",
      "source": [
        "### 3.1 Earth delay"
      ],
      "metadata": {}
    },
    {
      "cell_type": "code",
      "source": [
        "def earth_delay(times, times_err):\n",
        "    \"\"\"\n",
        "    Computes the earth delay in seconds for a set of ToAs.\n",
        "    \n",
        "    @param times :: array of ToAs in mjd\n",
        "    @param times_err :: ToA errors in microseconds\n",
        "    \n",
        "    @returns :: the Earth delay in seconds\n",
        "    \"\"\"\n",
        "    times = astrotime.Time(times, format='mjd')\n",
        "    altaz = pulsarpos.transform_to(coord.AltAz(obstime=times,\n",
        "                                               location=lovellpos))\n",
        "    # Get radians altitude\n",
        "    alt = coord.Angle(altaz.alt, u.radian)\n",
        "    alt_error = altitude_error(times, times_err)\n",
        "    \n",
        "    earth_delay = earth_radius * np.sin(alt)/light_speed\n",
        "    edelay_err = np.abs(earth_radius * np.cos(alt) * alt_error / light_speed)\n",
        "    \n",
        "    return earth_delay, edelay_err\n",
        "\n",
        "def altitude_error(times, times_err):\n",
        "    \"\"\"\n",
        "    Computes the errors on the altitudes based on the errors\n",
        "    of the ToAs.\n",
        "    \n",
        "    @param times :: the ToAs in mjd\n",
        "    @param times_err :: the error on the ToAs in microseconds\n",
        "    \n",
        "    @returns :: the error on the altitudes\n",
        "    \"\"\"\n",
        "    altaz = pulsarpos.transform_to(coord.AltAz(obstime=times,\n",
        "                                               location=lovellpos))\n",
        "    alt = coord.Angle(altaz.alt, u.radian)\n",
        "    az = coord.Angle(altaz.az, u.radian)\n",
        "    \n",
        "    # HA error in seconds\n",
        "    ha = np.arcsin(-np.sin(az)*np.cos(alt)/np.cos(dec))\n",
        "    ha_error = np.sqrt(np.power(times_err * 0.001, 2) + pulsar_ra_error**2)*np.pi*0.001/(3600*12)\n",
        "    \n",
        "    # Error propagation for altitude error\n",
        "    alt_error = np.sqrt( (((-np.cos(ha)*np.cos(lat)*np.sin(dec) + \n",
        "                            np.cos(dec)*np.sin(lat))/\n",
        "                            np.sqrt(1 - (np.cos(dec)*np.cos(ha)*np.cos(lat) + \n",
        "                                         np.sin(dec)*np.sin(lat))**2))**2)*\n",
        "                            ((pulsar_dec_error*0.001*np.pi/(3600*180))**2) +\n",
        "                         ((np.cos(dec)*np.cos(lat)*np.sin(ha)/\n",
        "                           np.sqrt(1-(np.cos(dec)*np.cos(ha)*np.cos(lat) + \n",
        "                                      np.sin(dec)*np.sin(lat))**2))**2)*\n",
        "                           (ha_error**2)\n",
        "                       )\n",
        "    return alt_error"
      ],
      "outputs": [],
      "execution_count": 7,
      "metadata": {}
    },
    {
      "cell_type": "markdown",
      "source": [
        "### 3.2 Barycentre Delay"
      ],
      "metadata": {}
    },
    {
      "cell_type": "code",
      "source": [
        "def psr_unit_error(psr_unit):\n",
        "    \"\"\"\n",
        "    Calculates the error on the unit vector\n",
        "    pointing from barycentre to the pulsar.\n",
        "    \n",
        "    @parma psr_unit :: pulsar unit vector array (unitless)\n",
        "    \n",
        "    @returns :: the pulsar unit vector error unitless\n",
        "    \"\"\"\n",
        "    \n",
        "    x = psr_unit[0]\n",
        "    y = psr_unit[1]\n",
        "    z = psr_unit[2]\n",
        "    \n",
        "    dec_err = (pulsar_dec_error*0.001/3600)*np.pi/180\n",
        "    ra_err = (pulsar_ra_error*0.001/3600)*np.pi/12\n",
        "    \n",
        "    x_err = np.sqrt( ((np.sin(dec)*np.cos(ra))**2)*(dec_err*2) + \n",
        "                     ((np.cos(dec)*np.sin(ra))**2)*(ra_err**2) )\n",
        "    y_err = np.sqrt( ((np.sin(dec)*np.sin(ra))**2)*(dec_err**2) + \n",
        "                     ((np.cos(dec)*np.cos(ra))**2)*(ra_err**2) )\n",
        "    z_err = np.sqrt( (np.cos(dec)**2)*(dec_err**2) )\n",
        "    \n",
        "    return np.array([x_err, y_err, z_err])\n",
        "\n",
        "def bary_delay_error(psr_unit, psr_unit_error, coords, interp_error):\n",
        "    \"\"\"\n",
        "    Order of magnitude estimate of the errors on the barycenter delay.\n",
        "    \n",
        "    @param psr_unit_error :: error on the unit vector pointing to the pulsar\n",
        "    @param interp_errors :: interpolation error for barycenter position\n",
        "    \n",
        "    @return :: order of magnitude approximation of the delay error\n",
        "    \"\"\"\n",
        "    \n",
        "    delay_error = np.sqrt( (coords[0]**2)*(psr_unit_error[0]**2) +\n",
        "                           (coords[1]**2)*(psr_unit_error[1]**2) +\n",
        "                           (coords[2]**2)*(psr_unit_error[2]**2) +\n",
        "                           (psr_unit[0]**2)*(interp_error[0]**2) +\n",
        "                           (psr_unit[1]**2)*(interp_error[1]**2) +\n",
        "                           (psr_unit[2]**2)*(interp_error[2]**2) )/light_speed\n",
        "    \n",
        "    return delay_error\n",
        "\n",
        "def bary_delay(times):\n",
        "    \"\"\"\n",
        "    Calculates the delay from the center of the Earth to the\n",
        "    barycenter.\n",
        "    \n",
        "    @param time :: time of pulse arrival\n",
        "    @param time_errors :: error on the times\n",
        "    \n",
        "    @returns :: the delay from center of Earth to Barycenter\n",
        "                and the delay error (order of magnitude approx)\n",
        "    \"\"\"\n",
        "    # AU per sec light speed\n",
        "    light_speed = 0.00200399\n",
        "    \n",
        "    pulsarpos = coord.SkyCoord(ra=\"05:34:31.93830\",\n",
        "                               dec=\"22:00:52.1758\", \n",
        "                               unit=(u.hourangle,u.deg))\n",
        "    pulsarpos.representation = 'cartesian'\n",
        "    psr_unit = np.array([pulsarpos.x, pulsarpos.y, pulsarpos.z])\n",
        "    psr_unit_err = psr_unit_error(psr_unit)\n",
        "    \n",
        "    delays = []\n",
        "    delays_errors = []\n",
        "    \n",
        "    for i,time in enumerate(times):\n",
        "        coords, interp_error = lag_int(time, 3)\n",
        "        delay = np.dot(coords, psr_unit)/light_speed\n",
        "        delay_error = bary_delay_error(psr_unit, psr_unit_err, \n",
        "                                       coords, interp_error)\n",
        "        \n",
        "        delays.append(delay)\n",
        "        delays_errors.append(delay_error)\n",
        "\n    return delays, delays_errors"
      ],
      "outputs": [],
      "execution_count": 8,
      "metadata": {}
    },
    {
      "cell_type": "markdown",
      "source": [
        "## 4. Period Calculation"
      ],
      "metadata": {}
    },
    {
      "cell_type": "code",
      "source": [
        "def get_remainders(times, times_errors, period, pulsar, fileit):\n",
        "    \"\"\"\n",
        "    Function calculates the number of rotations of the star\n",
        "    \n",
        "    @param times :: ToAs determined from the file in mjd\n",
        "    @param period :: initial guess for the period of Crab pulsar in seconds\n",
        "    @param crab :: which crab observations you are doing the analysis\n",
        "                   for, e.g. crab1, crab2 etc.\n",
        "    \n",
        "    @return :: saves the remainders of the division between the ToA and\n",
        "               the time of arrival for every pulse\n",
        "               also outputs times and corresponding remainders\n",
        "               and their errors\n",
        "    \"\"\"\n",
        "    \n",
        "    sec_times = times * 86400\n",
        "    remainders = sec_times % period\n",
        "    remainders_errors = times_errors\n",
        "    \n",
        "    if fileit == 'y':\n",
        "        file_data(sec_times, pulsar + \"_times.txt\")\n",
        "        file_data(remainders, pulsar + \"_remainders.txt\")\n",
        "        file_data(remainders_errors, pulsar + \"_errors.txt\")\n",
        "    \n",
        "    return times, remainders, remainders_errors\n",
        "\n",
        "def file_data(data, filename):\n",
        "    \"\"\"\n",
        "    Function that writes some data to a file, all in a row.\n",
        "    \n",
        "    @param data :: 1D array to be saved to file\n",
        "    @param filename :: the name of the file the data is saved to\n",
        "    \n",
        "    @returns :: the written file    \n",
        "    \"\"\"\n",
        "    \n",
        "    crab_file = os.path.join(save_data_dir, filename)\n",
        "    with open(crab_file, 'w') as f:\n",
        "        for elem in data:\n",
        "            f.write(str(elem) + ' ')"
      ],
      "outputs": [],
      "execution_count": 9,
      "metadata": {
        "collapsed": false,
        "outputHidden": false,
        "inputHidden": false
      }
    },
    {
      "cell_type": "markdown",
      "source": [
        "## 4. Analysis"
      ],
      "metadata": {}
    },
    {
      "cell_type": "markdown",
      "source": [
        "### 4.1 Import data"
      ],
      "metadata": {}
    },
    {
      "cell_type": "code",
      "source": [
        "# Crab 1 data\n",
        "barytable = load_barytable('Crab1Barytable')\n",
        "toas = load_toas(pulsar_name + 'ToAs')\n",
        "pest = 0.714520"
      ],
      "outputs": [],
      "execution_count": 10,
      "metadata": {
        "collapsed": false,
        "outputHidden": false,
        "inputHidden": false
      }
    },
    {
      "cell_type": "code",
      "source": [
        "# Calculate mjd times and distances Earth-Bary\n",
        "# it does not matter what barytable one chooses\n",
        "# they are all the same\n",
        "\n",
        "mjd_times = mjd_convert(barytable)\n",
        "distances = bary_distance(barytable)\n",
        "bary_coord = np.transpose(barytable[3:])"
      ],
      "outputs": [],
      "execution_count": 11,
      "metadata": {
        "collapsed": false,
        "outputHidden": false,
        "inputHidden": false
      }
    },
    {
      "cell_type": "markdown",
      "source": [
        "\n### 4.2 Compute the Delays"
      ],
      "metadata": {}
    },
    {
      "cell_type": "code",
      "source": [
        "# First crab observation times\n",
        "edelays, edelays_errors = earth_delay(toas[:,0], toas[:,1])\n",
        "bdelays, bdelays_errors = bary_delay(toas[:,0])\n",
        "\n\n",
        "bary_time = toas[:,0] + (bdelays + edelays)/86400\n",
        "btime_errors = np.sqrt(np.power(toas[:, 1] * 10**(-6), 2) + \n",
        "                       np.power(edelays_errors, 2) +\n",
        "                       np.power(bdelays_errors, 2))"
      ],
      "outputs": [],
      "execution_count": 12,
      "metadata": {
        "collapsed": false,
        "outputHidden": false,
        "inputHidden": false
      }
    },
    {
      "cell_type": "markdown",
      "source": [
        "### 4.3 Remainder Analysis"
      ],
      "metadata": {}
    },
    {
      "cell_type": "code",
      "source": [
        "# Get times and remainders for first crab observation\n",
        "# Fitting and the rest of analysis is done in mathematica\n",
        "period_guess = pest\n",
        "times_init, remainders_init, remainders_errors_init = \\\n",
        "get_remainders(bary_time, btime_errors, period_guess, pulsar_name, 'y')\n",
        "\n",
        "print(period_guess)\n",
        "plt.figure(figsize=(12,7))\n",
        "plt.errorbar(times_init, remainders_init, yerr = remainders_errors_init, fmt = 'ro')\n",
        "plt.xlabel('Times [MJD]')\n",
        "plt.ylabel('Remainders [s]')\n",
        "plt.title(pulsar_name)\n",
        "plt.show()"
      ],
      "outputs": [
        {
          "output_type": "stream",
          "name": "stdout",
          "text": [
            "0.71452\n"
          ]
        },
        {
          "output_type": "display_data",
          "data": {
            "image/png": "[encoded data removed]",
            "text/plain": [
              "<Figure size 864x504 with 1 Axes>"
            ]
          },
          "metadata": {
            "needs_background": "light"
          }
        }
      ],
      "execution_count": 13,
      "metadata": {
        "collapsed": false,
        "outputHidden": false,
        "inputHidden": false,
        "outputExpanded": true
      }
    },
    {
      "cell_type": "code",
      "source": [
        "# Crab 1 true period residual plots\n",
        "true_period_file = save_data_dir + os.sep + pulsar_name + \"_period.txt\"\n",
        "true_period, true_period_error = np.loadtxt(true_period_file)\n",
        "\n",
        "# Alternative period by putting them back to back\n",
        "true_periodalt_file = save_data_dir + os.sep + pulsar_name + \"_periodalt.txt\"\n",
        "true_periodalt, true_periodalt_error = np.loadtxt(true_periodalt_file)"
      ],
      "outputs": [],
      "execution_count": 14,
      "metadata": {
        "collapsed": false,
        "outputHidden": false,
        "inputHidden": false
      }
    },
    {
      "cell_type": "code",
      "source": [
        "# Replotting the remainders with the true period\n",
        "times_final, remainders_final, remainders_errors_final = \\\n",
        "get_remainders(bary_time, btime_errors, true_period, pulsar_name, 'n')\n",
        "\n\n",
        "plt.figure(figsize=(12,7))\n",
        "plt.errorbar(times_final, remainders_final, yerr = remainders_errors_final, \n",
        "         fmt = 'ro')\n",
        "plt.xlabel('Times [MJD]')\n",
        "plt.ylabel('Remainders [s]')\n",
        "plt.title(pulsar_name)\n",
        "plt.show()"
      ],
      "outputs": [
        {
          "output_type": "display_data",
          "data": {
            "image/png": "[encoded data removed]",
            "text/plain": [
              "<Figure size 864x504 with 1 Axes>"
            ]
          },
          "metadata": {
            "needs_background": "light"
          }
        }
      ],
      "execution_count": 15,
      "metadata": {
        "collapsed": false,
        "outputHidden": false,
        "inputHidden": false
      }
    },
    {
      "cell_type": "code",
      "source": [
        "# Replotting the remainders with the alt method true period\n",
        "# obtained through aligning the points\n",
        "times_finalalt, remainders_finalalt, remainders_errors_finalalt = \\\n",
        "get_remainders(bary_time, btime_errors, true_periodalt, pulsar_name, 'n')\n",
        "\n",
        "plt.figure(figsize=(12,7))\n",
        "plt.errorbar(times_finalalt, remainders_finalalt, yerr = remainders_errors_finalalt, \n",
        "         fmt = 'ro')\n",
        "plt.xlabel('Times [MJD]')\n",
        "plt.ylabel('Remainders [s]')\n",
        "plt.title(pulsar_name)\n",
        "plt.show()"
      ],
      "outputs": [
        {
          "output_type": "display_data",
          "data": {
            "image/png": "[encoded data removed]",
            "text/plain": [
              "<Figure size 864x504 with 1 Axes>"
            ]
          },
          "metadata": {
            "needs_background": "light"
          }
        }
      ],
      "execution_count": 16,
      "metadata": {
        "collapsed": false,
        "outputHidden": false,
        "inputHidden": false
      }
    }
  ],
  "metadata": {
    "kernelspec": {
      "name": "python2",
      "language": "python",
      "display_name": "Python 2"
    },
    "language_info": {
      "mimetype": "text/x-python",
      "nbconvert_exporter": "python",
      "name": "python",
      "pygments_lexer": "ipython2",
      "version": "2.7.15rc1",
      "file_extension": ".py",
      "codemirror_mode": {
        "version": 2,
        "name": "ipython"
      }
    },
    "kernel_info": {
      "name": "python2"
    },
    "nteract": {
      "version": "0.12.3"
    }
  },
  "nbformat": 4,
  "nbformat_minor": 1
}
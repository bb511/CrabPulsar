{
  "cells": [
    {
      "cell_type": "markdown",
      "source": [
        "# Detection of an unknown pulsar and measurement of its period"
      ],
      "metadata": {}
    },
    {
      "cell_type": "code",
      "source": [
        "# Preamble and imports\n",
        "from __future__ import (print_function, absolute_import, division)\n",
        "\n",
        "import os\n",
        "import numpy as np\n",
        "from  matplotlib import pyplot as plt\n",
        "import matplotlib\n",
        "from math import pi\n",
        "from scipy.signal import find_peaks\n",
        "\n",
        "%matplotlib inline\n",
        "\n",
        "font = {'family' : 'arial',\n",
        "        'weight' : 'normal',\n",
        "        'size'   : 20}\n",
        "matplotlib.rc('font', **font)"
      ],
      "outputs": [],
      "execution_count": null,
      "metadata": {}
    },
    {
      "cell_type": "markdown",
      "source": [
        "## 1. Functions\n",
        "### 1.1 Importing data"
      ],
      "metadata": {}
    },
    {
      "cell_type": "code",
      "source": [
        "# Get the directory with the data\n",
        "current_dir = os.getcwd()\n",
        "root_dir = os.path.abspath(os.path.join(current_dir, os.pardir))\n",
        "data_dir = os.path.join(root_dir, \"Data\", \"FFT\")\n",
        "\n",
        "def get_header(file_name):\n",
        "    \"\"\"\n",
        "    Function that reads in the header files.\n",
        "    \n",
        "    @param file_name :: name of the file\n",
        "    \n",
        "    @returns :: contents of header file as array\n",
        "                of lines\n",
        "    \"\"\"\n",
        "    \n",
        "    file_name = file_name + '.hdr'\n",
        "    data_file = os.path.join(data_dir, file_name)\n",
        "    with open(data_file) as dfile:\n",
        "        lines = dfile.readlines()\n",
        "        for i, line in enumerate(lines):\n",
        "            lines[i] = line.strip()\n",
        "    \n",
        "    return lines\n",
        "\n\n",
        "def get_data(file_name):\n",
        "    \"\"\"\n",
        "    Function that returns the data in the files.\n",
        "    \n",
        "    @param file_name :: name of the file\n",
        "    \n",
        "    @returns :: contents of the data file\n",
        "                in one numpy array\n",
        "    \"\"\"\n",
        "    \n",
        "    file_name = file_name + '.dat'\n",
        "    data_file = os.path.join(data_dir, file_name)\n",
        "    with open(data_file) as dfile:\n",
        "        data = np.fromfile(dfile, dtype='b')\n",
        "    \n",
        "    return data"
      ],
      "outputs": [],
      "execution_count": null,
      "metadata": {
        "outputExpanded": true
      }
    },
    {
      "cell_type": "markdown",
      "source": [
        "### 1.2 Demonstration of Fourier Transform using Simulated data"
      ],
      "metadata": {}
    },
    {
      "cell_type": "code",
      "source": [
        "def generate_times(dt, npts):\n",
        "    \"\"\"\n",
        "    Generate the times for the demo.\n",
        "    \n",
        "    @param dt :: interval between times\n",
        "    @param npts :: number of time points\n",
        "    \n",
        "    @returns :: array of times\n",
        "    \"\"\"\n",
        "\n",
        "    times = np.linspace(0,(npts-1)*dt,npts)\n",
        "    \n",
        "    return times\n",
        "\n",
        "def generate_signal(times, period):\n",
        "    \"\"\"\n",
        "    Generates the fake signal.\n",
        "    \n",
        "    @param times :: array of times\n",
        "    @param period :: period of the signal\n",
        "    \n",
        "    @returns :: fake signal\n",
        "    \"\"\"\n",
        "    \n",
        "    fake_signal = np.sin(2*pi*times/period)\n",
        "    \n",
        "    return fake_signal\n",
        "    \n",
        "def generate_noise(npts):\n",
        "    \"\"\"\n",
        "    Generates random noise.\n",
        "    \n",
        "    @param npts :: number of points\n",
        "    \n",
        "    @returns :: random distributed noise\n",
        "    \"\"\"\n",
        "    \n",
        "    random_noise = np.random.normal(0,20,npts)\n",
        "    \n",
        "    return random_noise"
      ],
      "outputs": [],
      "execution_count": null,
      "metadata": {
        "outputExpanded": true
      }
    },
    {
      "cell_type": "markdown",
      "source": [
        "### 1.3 Plotting the 'time series' & 'simulated data'"
      ],
      "metadata": {}
    },
    {
      "cell_type": "code",
      "source": [
        "def raw_plot(times, raw_bytes, fake_signal):\n",
        "    \"\"\"\n",
        "    Plots the raw simulated data with the signal.\n",
        "    \n",
        "    @param times :: array of times\n",
        "    @param raw_bytes :: array of data\n",
        "    @param fake_signal :: fake signal data\n",
        "    \n",
        "    @returns :: plot of the signal with the data\n",
        "    \"\"\"\n",
        "    \n",
        "    plt.figure(figsize=(10,3))\n",
        "    plt.plot(times, raw_bytes)\n",
        "    plt.plot(times, fake_signal, color='red')\n",
        "    plt.xlabel(\"Time (seconds)\")\n",
        "    plt.ylabel(\"Amplitude\")\n",
        "    plt.title(\"Simulated noise plus sinusoidal signal\")\n",
        "\n\n",
        "def signal_plot(times, raw_bytes, fake_signal):\n",
        "    \"\"\"\n",
        "    Signal plot of the data (zoomed in)\n",
        "    \n",
        "    @param times :: array of times\n",
        "    @param raw_bytes :: array of data\n",
        "    @param fake_signal :: fake signal data\n",
        "    \n",
        "    @returns :: plot of the signal with data zoomed in\n",
        "    \"\"\"\n",
        "    \n",
        "    plt.figure(figsize=(10,3))\n",
        "    plt.plot(times, raw_bytes)\n",
        "    plt.plot(times, fake_signal, color='red', linewidth=2)\n",
        "    plt.xlabel(\"Time (seconds)\")\n",
        "    plt.ylabel(\"Amplitude\")\n",
        "    plt.title(\"Zoomed to show signal amplitude\")\n",
        "    plt.xlim(0,5)\n",
        "    plt.ylim(-3,3)\n",
        "    \n",
        "def time(data_header, data):\n",
        "    \"\"\"\n",
        "    Plots the input data as a function of time\n",
        "    \n",
        "    @data_header :: header file with info about \"sampling_perion\"\n",
        "    @data :: file with the input data\n",
        "    \n",
        "    @return :: plot of the amplitude as a function of time\n",
        "            :: integration time\n",
        "    \"\"\"\n",
        "    sampling_period = float(data_header[-2][5:-1])              # period over which the data is sampled (ms)\n",
        "    int_time        = sampling_period*len(data)*(pow(10, -3))   # time required for integration\n",
        "    period_array    = np.linspace(0, int_time, num=len(data))   # linearly spaced time array\n",
        "    \n",
        "    plt.figure(figsize=(10,3))\n",
        "    plt.plot(period_array, data, color = 'green', linewidth=2)\n",
        "    plt.xlabel(\"Time (seconds)\")\n",
        "    plt.ylabel(\"Amplitude\")\n",
        "    \n",
        "    return int_time"
      ],
      "outputs": [],
      "execution_count": null,
      "metadata": {
        "collapsed": false,
        "outputHidden": false,
        "inputHidden": false
      }
    },
    {
      "cell_type": "markdown",
      "source": [
        "### 1.4 Calculation and Plots of the Fourier Transform of the Pulsar data"
      ],
      "metadata": {}
    },
    {
      "cell_type": "code",
      "source": [
        "def fourier_transform(raw_bytes):\n",
        "    \"\"\"\n",
        "    Fourier transforms data.\n",
        "    \n",
        "    @param raw_bytes :: the data\n",
        "    \n",
        "    @returns :: the power of the fourier transformed\n",
        "                data\n",
        "    \"\"\"\n",
        "    \n",
        "    ft = np.fft.rfft(raw_bytes)\n",
        "    power = np.real(ft)*np.real(ft) + np.imag(ft)*np.imag(ft)\n",
        "    return power\n",
        "\n",
        "def frequencyArray(power, int_time, limits):\n",
        "    \"\"\"\n",
        "    Calculates the frequency array for the corresponding  power array\n",
        "    Eliminates the regular spikes observed at 50 Hz :: Reason yet to be resolved\n",
        "    \n",
        "    @param power :: power array from the  fft\n",
        "    @param int_time :: integration time for the corresponding pulsar\n",
        "    \n",
        "    @returns :: frequency array for the calibration of x-axis\n",
        "    \"\"\"\n",
        "    # Starting point of the frequency array\n",
        "    freq_start_pt   = 1/int_time                                \n",
        "    freq_array = np.linspace(freq_start_pt, freq_start_pt*len(power), num=len(power))\n",
        "   \n",
        "    # k corresponding to the frequency to be eliminated\n",
        "    for i in range(len(limits)):\n",
        "        a = np.where(((freq_array >= limits[i][0]) & (freq_array <=limits[i][1]))) \n",
        "        freq_array = np.delete(freq_array, a)                        \n",
        "        power = np.delete(power, a)  \n",
        "\n",
        "    return freq_array, power\n",
        "    \n",
        "def findingPeaksPlot(dist, power, freq, x):\n",
        "    \"\"\"\n",
        "    Function finds the peaks in the plot\n",
        "    \n",
        "    @param power :: power spectrum with peaks\n",
        "    @param  dist :: allows to input minimum distance required between peaks\n",
        "    @param     x :: pulsar number  \n",
        "    \n",
        "    @returns        :: Plot with the peaks\n",
        "             period :: Period of the Pulsar with RFI            -|\n",
        "          p_deleted :: RFI points in the period array            |--> result   \n",
        "         period_new :: True array with only 'Period' points      |       \n",
        "           outliers :: Gives the indicies of the outlier points _|                   \n",
        "    \"\"\"\n",
        "    # finds the peaks and the period == distance between peaks\n",
        "    peak, _ = find_peaks(power, distance=dist)\n",
        "    period = 1/(np.diff(freq[peak]))\n",
        "    \n",
        "    # calculting the indicies and periods of the outliers\n",
        "    idxOutliers     = np.where(abs(period - np.mean(period)) > 1 * np.std(period));\n",
        "    periodOutliers  = period[idxOutliers];\n",
        "    period_new      = np.delete(period, idxOutliers);\n",
        "    \n",
        "    # putting it all together\n",
        "    result = np.array([period, idxOutliers, periodOutliers, period_new])\n",
        "    \n",
        "    # plots the data \n",
        "    plt.figure(figsize=(7,7))\n",
        "    plt.plot(freq[peak], power[peak], \"ro\")\n",
        "    plt.plot(freq, power, 'g-')\n",
        "    plt.xlabel(\"Frequency (Hz)\")\n",
        "    plt.ylabel(\"Power\")\n",
        "    plt.title(\"Power spectrum: Pulsar {}\".format(x))\n",
        "    plt.tight_layout()\n",
        "    return result, freq[peak]"
      ],
      "outputs": [],
      "execution_count": null,
      "metadata": {
        "collapsed": false,
        "outputHidden": false,
        "inputHidden": false
      }
    },
    {
      "cell_type": "markdown",
      "source": [
        "### 1.5 Fitting of frequency peaks and cutting noise"
      ],
      "metadata": {}
    },
    {
      "cell_type": "code",
      "source": [
        "def fitPlot(f_peak, x):\n",
        "    \"\"\"\n",
        "    Function plots the frequency peaks vs the no. of harmonics\n",
        "    \n",
        "    @param f_peak :: peak frequency values\n",
        "                x :: pulsar number\n",
        "    \"\"\"\n",
        "    plt.figure(figsize=(7,7))\n",
        "    plt.plot(f_peak, np.linspace(1, len(f_peak), num=len(f_peak)), \"ro\")\n",
        "    plt.xlabel(\"Frequency (Hz)\")\n",
        "    plt.ylabel(\"No. of Harmonic\")\n",
        "    plt.title(\"Frequency vs No. of Harmonics: Pulsar {}\".format(x))\n",
        "    \n",
        "\n",
        "def sliceAfter(f, p, m):\n",
        "    \"\"\"\n",
        "    Function slices the arrays of frequency and power as per input value (m, n, & o)\n",
        "    \n",
        "    @param f :: Frequency arrays for the pulsar\n",
        "    @param p :: Power arrays for the pulsar\n",
        "    @param m :: frequency value at which the pulsars are sliced\n",
        "    \n",
        "    @returns f_ :: sliced frequency arrays\n",
        "             p_ :: sliced power arrays  \n",
        "    \"\"\"\n",
        "    # index values at which the arrays are being sliced\n",
        "    idxDes = np.where(f < m);\n",
        "    \n",
        "    f_ = f[idxDes];\n",
        "    p_ = p[idxDes];\n",
        "    \n",
        "    return f_, p_\n",
        "\n",
        "def removeNoise(f1, p1, x):\n",
        "    \"\"\"\n",
        "    Function removes the noise from pulsar 2\n",
        "    \n",
        "    @param      f1 :: freuency array of pulsar 2\n",
        "    @param      p1 :: power array of pulsar 2\n",
        "    \n",
        "    @returns f1new :: new frequncy array with noise eliminated\n",
        "             p1new :: new power array with noise eliminated        \n",
        "    \"\"\"\n",
        "    idxKeep = np.where(p1 > x)\n",
        "    p1new = p1[idxKeep]\n",
        "    f1new = f1[idxKeep]\n",
        "    \n",
        "    return f1new, p1new"
      ],
      "outputs": [],
      "execution_count": null,
      "metadata": {
        "collapsed": false,
        "outputHidden": false,
        "inputHidden": false
      }
    },
    {
      "cell_type": "markdown",
      "source": [
        "## 2. Kowalsky, Analysis."
      ],
      "metadata": {}
    },
    {
      "cell_type": "markdown",
      "source": [
        "### 2.1 Calculating the Fourier Transform of the Simulated Data\n",
        "\nFake data has been simulated upon which a Fourier transform will be performed. The excersice is intructive to understand the use of Fourier Transform."
      ],
      "metadata": {}
    },
    {
      "cell_type": "code",
      "source": [
        "# Choose time interval and number of points\n",
        "dt = 0.1\n",
        "npts = 262144\n",
        "period = 0.5\n",
        "\n",
        "# Generate data\n",
        "times           = generate_times(dt, npts)\n",
        "fake_signal     = generate_signal(times, period)\n",
        "noise           = generate_noise(npts)\n",
        "raw_bytes       = noise + fake_signal\n",
        "\n",
        "# Plot data\n",
        "raw_plot(times, raw_bytes, fake_signal)\n",
        "signal_plot(times, raw_bytes, fake_signal)\n",
        "p = fourier_transform(raw_bytes)\n",
        "plt.figure(figsize=(10,5))\n",
        "fake_frequency  = np.linspace((1/sum(times)), len(p)*(1/sum(times)), num=len(p))\n",
        "plt.plot(fake_frequency, p, 'r-')\n",
        "plt.xlabel(\"Frequency [Hz]\")\n",
        "# format the x axis such that labels don't overlap\n",
        "plt.ylabel(\"Power\")\n",
        "plt.title(\"Fourier transform\")\n"
      ],
      "outputs": [],
      "execution_count": null,
      "metadata": {
        "outputExpanded": true
      }
    },
    {
      "cell_type": "markdown",
      "source": [
        "### 2.2 Plotting the time series for the pulsars"
      ],
      "metadata": {}
    },
    {
      "cell_type": "code",
      "source": [
        "# reading the data\n",
        "psr0 = get_data('psr0');\n",
        "psr1 = get_data('psr1');\n",
        "psr2 = get_data('psr2');\n",
        "psr3 = get_data('psr3');\n",
        "psr4 = get_data('psr4');\n",
        "psr5 = get_data('psr5');\n",
        "\n",
        "# reading the header files\n",
        "psr0_header = get_header('psr0');\n",
        "psr1_header = get_header('psr1');\n",
        "psr2_header = get_header('psr2');\n",
        "psr3_header = get_header('psr3');\n",
        "psr4_header = get_header('psr4');\n",
        "psr5_header = get_header('psr5');\n",
        "\n",
        "# plotting the time series\n",
        "int_time0 = time(psr0_header, psr0)\n",
        "int_time1 = time(psr1_header, psr1)\n",
        "int_time2 = time(psr2_header, psr2)\n",
        "int_time3 = time(psr3_header, psr3)\n",
        "int_time4 = time(psr4_header, psr4)\n",
        "int_time5 = time(psr5_header, psr5)\n"
      ],
      "outputs": [],
      "execution_count": null,
      "metadata": {
        "collapsed": false,
        "outputHidden": false,
        "inputHidden": false,
        "outputExpanded": false
      }
    },
    {
      "cell_type": "markdown",
      "source": [
        "### 2.3 Plotting the 'Fourier Transformed' Power Spectrum of all pulsars \n",
        "\nThe fourier transform of the time series is plotted. The peaks in the frequency spectrum are identified and used to calculated the period and width (detailed in the next sections)."
      ],
      "metadata": {}
    },
    {
      "cell_type": "code",
      "source": [
        "# calculates the power to plot the power spectrum using FFT\n",
        "power0 = fourier_transform(psr0)[1:]\n",
        "power1 = fourier_transform(psr1)[1:]\n",
        "power2 = fourier_transform(psr2)[100:]\n",
        "power3 = fourier_transform(psr3)[100:]\n",
        "power4 = fourier_transform(psr4)[1:]\n",
        "power5 = fourier_transform(psr5)[1:]\n",
        "\n",
        "# eliminates suspicious cuts observed in the data\n",
        "cuts = [[0, 2],[48, 51], [98,102],[148, 152],[198,201],[248, 251],[298, 301]]\n",
        "\n",
        "# calcultes the frequency and power array to plot after elimiting cuts\n",
        "freq0, power0 = frequencyArray(power0, int_time0, cuts)   \n",
        "freq1, power1 = frequencyArray(power1, int_time1, cuts)\n",
        "freq2, power2 = frequencyArray(power2, int_time2, cuts)\n",
        "freq3, power3 = frequencyArray(power3, int_time3, cuts)\n",
        "freq4, power4 = frequencyArray(power4, int_time4, cuts)\n",
        "freq5, power5 = frequencyArray(power5, int_time5, cuts[1:])\n",
        "\n",
        "# removes noise from pulsar 2\n",
        "f1_, p1_ = removeNoise(freq1, power1, 100000)\n",
        "\n",
        "# calculetes the points at which the arrays need to be sliced\n",
        "f2_, p2_ = sliceAfter(freq2, power2, 50);\n",
        "f3_, p3_ = sliceAfter(freq3, power3, 40);\n",
        "f4_, p4_ = sliceAfter(freq4, power4, 100);\n",
        "                                          \n",
        "   \n",
        "# finds the periods, outlier's false harmonic, period of the outlier, new_period array\n",
        "result0, f_peak0      = findingPeaksPlot(900, power0, freq0, '1')\n",
        "result1i, f_peak1i    = findingPeaksPlot(300, power1, freq1, '2')\n",
        "result2, f_peak2ii    = findingPeaksPlot(600, p2_, f2_, '3')\n",
        "result3, f_peak3ii    = findingPeaksPlot(250, p3_, f3_, '4')\n",
        "result4, f_peak4ii    = findingPeaksPlot(700, p4_, f4_, '5')\n",
        "result5, f_peak5      = findingPeaksPlot(800, power5, freq5, '6')\n"
      ],
      "outputs": [],
      "execution_count": null,
      "metadata": {
        "collapsed": false,
        "outputHidden": false,
        "inputHidden": false,
        "outputExpanded": false
      }
    },
    {
      "cell_type": "markdown",
      "source": [
        "## Calculation of Period and Width of the Pulse"
      ],
      "metadata": {}
    },
    {
      "cell_type": "code",
      "source": [
        "# plots the frequency as a funtion of peak no.\n",
        "fitPlot(f_peak0, '1')\n",
        "fitPlot(f_peak1i, '2')\n",
        "fitPlot(f_peak2ii, '3')\n",
        "fitPlot(f_peak3ii, '4')\n",
        "fitPlot(f_peak4ii, '5')\n",
        "fitPlot(f_peak5, '6')\n",
        "\n",
        "# corrects the harmonic number\n",
        "\n",
        "# fitting a straight line through the data\n",
        "# slope values give period - \n",
        "# period values give uncertainty in period -\n",
        "# once the harmonics number and period are corrected - the width can be estimated\n"
      ],
      "outputs": [],
      "execution_count": null,
      "metadata": {
        "collapsed": false,
        "outputHidden": false,
        "inputHidden": false,
        "outputExpanded": false
      }
    },
    {
      "cell_type": "code",
      "source": [],
      "outputs": [],
      "execution_count": null,
      "metadata": {
        "collapsed": false,
        "outputHidden": false,
        "inputHidden": false
      }
    }
  ],
  "metadata": {
    "kernelspec": {
      "name": "python2",
      "language": "python",
      "display_name": "Python 2"
    },
    "language_info": {
      "mimetype": "text/x-python",
      "nbconvert_exporter": "python",
      "name": "python",
      "pygments_lexer": "ipython2",
      "version": "2.7.15rc1",
      "file_extension": ".py",
      "codemirror_mode": {
        "version": 2,
        "name": "ipython"
      }
    },
    "kernel_info": {
      "name": "python2"
    },
    "nteract": {
      "version": "0.12.3"
    }
  },
  "nbformat": 4,
  "nbformat_minor": 1
}